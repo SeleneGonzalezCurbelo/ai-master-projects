{
  "cells": [
    {
      "cell_type": "markdown",
      "metadata": {
        "id": "ktFg2jj3jTE6"
      },
      "source": [
        "# ACTIVIDAD DE CLASIFICACIÓN DE TEXTO"
      ]
    },
    {
      "cell_type": "markdown",
      "metadata": {
        "id": "MZ-OuW5DiLJs"
      },
      "source": [
        "En esta actividad vamos a trabajar en clasificar textos. Se recorrerá todo el proceso desde traer el dataset hasta proceder a dicha clasificación. Durante la actividad se llevarán a cabo muchos procesos como la creación de un vocabulario, el uso de embeddings y la creación de modelos.\n",
        "\n",
        "Las cuestiones presentes en esta actividad están basadas en un Notebook creado por François Chollet, uno de los creadores de Keras y autor del libro \"Deep Learning with Python\".\n",
        "\n",
        "En este Notebook se trabaja con el dataset \"Newsgroup20\" que contiene aproximadamente 20000 mensajes que pertenecen a 20 categorías diferentes.\n",
        "\n",
        "El objetivo es entender los conceptos que se trabajan y ser capaz de hacer pequeñas experimentaciones para mejorar el Notebook creado."
      ]
    },
    {
      "cell_type": "markdown",
      "metadata": {
        "id": "hytURWLLjZvT"
      },
      "source": [
        "# Librerías"
      ]
    },
    {
      "cell_type": "code",
      "execution_count": 48,
      "metadata": {
        "id": "DbxRuvOwkzSs"
      },
      "outputs": [],
      "source": [
        "import numpy as np\n",
        "import tensorflow as tf\n",
        "from tensorflow import keras"
      ]
    },
    {
      "cell_type": "markdown",
      "metadata": {
        "id": "PXfYbCflkQYy"
      },
      "source": [
        "# Descarga de Datos"
      ]
    },
    {
      "cell_type": "code",
      "execution_count": 49,
      "metadata": {
        "id": "e-1ZhOf3lB_A"
      },
      "outputs": [],
      "source": [
        "data_path = keras.utils.get_file(\n",
        "    \"news20.tar.gz\",\n",
        "    \"http://www.cs.cmu.edu/afs/cs.cmu.edu/project/theo-20/www/data/news20.tar.gz\",\n",
        "    untar=True,\n",
        ")"
      ]
    },
    {
      "cell_type": "code",
      "execution_count": 50,
      "metadata": {
        "id": "l3ygvoWhlCYj",
        "colab": {
          "base_uri": "https://localhost:8080/"
        },
        "outputId": "9a1a7a29-dffc-4d10-a2d7-ebbe0469fc96"
      },
      "outputs": [
        {
          "output_type": "stream",
          "name": "stdout",
          "text": [
            "Number of directories: 20\n",
            "Directory names: ['soc.religion.christian', 'rec.sport.baseball', 'rec.autos', 'alt.atheism', 'talk.politics.misc', 'comp.sys.ibm.pc.hardware', 'comp.graphics', 'rec.motorcycles', 'comp.sys.mac.hardware', 'comp.windows.x', 'sci.space', 'misc.forsale', 'sci.electronics', 'talk.politics.guns', 'talk.politics.mideast', 'rec.sport.hockey', 'comp.os.ms-windows.misc', 'sci.med', 'talk.religion.misc', 'sci.crypt']\n"
          ]
        }
      ],
      "source": [
        "import os\n",
        "import pathlib\n",
        "\n",
        "#Estructura de directorios del dataset\n",
        "data_dir = pathlib.Path(data_path) / \"20_newsgroup\"\n",
        "dirnames = os.listdir(data_dir)\n",
        "print(\"Number of directories:\", len(dirnames))\n",
        "print(\"Directory names:\", dirnames)"
      ]
    },
    {
      "cell_type": "code",
      "execution_count": 51,
      "metadata": {
        "id": "rs2Hl3yh3YtQ",
        "colab": {
          "base_uri": "https://localhost:8080/"
        },
        "outputId": "22005b96-6556-4c00-b45f-0ce4dd975635"
      },
      "outputs": [
        {
          "output_type": "stream",
          "name": "stdout",
          "text": [
            "/root/.keras/datasets/news20_extracted/20_newsgroup\n"
          ]
        }
      ],
      "source": [
        "print(data_dir)"
      ]
    },
    {
      "cell_type": "code",
      "execution_count": 52,
      "metadata": {
        "id": "OG8rjgOFlcaV",
        "colab": {
          "base_uri": "https://localhost:8080/"
        },
        "outputId": "365084af-ae9e-4365-9be6-eb8004a21763"
      },
      "outputs": [
        {
          "output_type": "stream",
          "name": "stdout",
          "text": [
            "Number of files in comp.graphics: 1000\n",
            "Some example filenames: ['38258', '38778', '38884', '38337', '38585']\n"
          ]
        }
      ],
      "source": [
        "#Algunos archivos de la categoria \"com.graphics\"\n",
        "fnames = os.listdir(data_dir / \"comp.graphics\")\n",
        "print(\"Number of files in comp.graphics:\", len(fnames))\n",
        "print(\"Some example filenames:\", fnames[:5])"
      ]
    },
    {
      "cell_type": "code",
      "execution_count": 53,
      "metadata": {
        "id": "8ox6s6z9lgps",
        "colab": {
          "base_uri": "https://localhost:8080/"
        },
        "outputId": "a4fce648-e9fe-4923-e6a2-34cda45bf974"
      },
      "outputs": [
        {
          "output_type": "stream",
          "name": "stdout",
          "text": [
            "Xref: cantaloupe.srv.cs.cmu.edu comp.graphics:37261 alt.graphics:519 comp.graphics.animation:2614\n",
            "Path: cantaloupe.srv.cs.cmu.edu!das-news.harvard.edu!ogicse!uwm.edu!zaphod.mps.ohio-state.edu!darwin.sura.net!dtix.dt.navy.mil!oasys!lipman\n",
            "From: lipman@oasys.dt.navy.mil (Robert Lipman)\n",
            "Newsgroups: comp.graphics,alt.graphics,comp.graphics.animation\n",
            "Subject: CALL FOR PRESENTATIONS: Navy SciViz/VR Seminar\n",
            "Message-ID: <32850@oasys.dt.navy.mil>\n",
            "Date: 19 Mar 93 20:10:23 GMT\n",
            "Article-I.D.: oasys.32850\n",
            "Expires: 30 Apr 93 04:00:00 GMT\n",
            "Reply-To: lipman@oasys.dt.navy.mil (Robert Lipman)\n",
            "Followup-To: comp.graphics\n",
            "Distribution: usa\n",
            "Organization: Carderock Division, NSWC, Bethesda, MD\n",
            "Lines: 65\n",
            "\n",
            "\n",
            "\t\t\tCALL FOR PRESENTATIONS\n",
            "\t\n",
            "      NAVY SCIENTIFIC VISUALIZATION AND VIRTUAL REALITY SEMINAR\n",
            "\n",
            "\t\t\tTuesday, June 22, 1993\n",
            "\n",
            "\t    Carderock Division, Naval Surface Warfare Center\n",
            "\t      (formerly the David Taylor Research Center)\n",
            "\t\t\t  Bethesda, Maryland\n",
            "\n",
            "SPONSOR: NESS (Navy Engineering Software System) is sponsoring a \n",
            "one-day Navy Scientific Visualization and Virtual Reality Seminar.  \n",
            "The purpose of the seminar is to present and exchange information for\n",
            "Navy-related scientific visualization and virtual reality programs, \n",
            "research, developments, and applications.\n",
            "\n",
            "PRESENTATIONS: Presentations are solicited on all aspects of \n",
            "Navy-related scientific visualization and virtual reality.  All \n",
            "current work, works-in-progress, and proposed work by Navy \n",
            "organizations will be considered.  Four types of presentations are \n",
            "available.\n",
            "\n",
            "     1. Regular presentation: 20-30 minutes in length\n",
            "     2. Short presentation: 10 minutes in length\n",
            "     3. Video presentation: a stand-alone videotape (author need not \n",
            "\tattend the seminar)\n",
            "     4. Scientific visualization or virtual reality demonstration (BYOH)\n",
            "\n",
            "Accepted presentations will not be published in any proceedings, \n",
            "however, viewgraphs and other materials will be reproduced for \n",
            "seminar attendees.\n",
            "\n",
            "ABSTRACTS: Authors should submit a one page abstract and/or videotape to:\n",
            "\n",
            "     Robert Lipman\n",
            "     Naval Surface Warfare Center, Carderock Division\n",
            "     Code 2042\n",
            "     Bethesda, Maryland  20084-5000\n",
            "\n",
            "     VOICE (301) 227-3618;  FAX (301) 227-5753  \n",
            "     E-MAIL  lipman@oasys.dt.navy.mil\n",
            "\n",
            "Authors should include the type of presentation, their affiliations, \n",
            "addresses, telephone and FAX numbers, and addresses.  Multi-author \n",
            "papers should designate one point of contact.\n",
            "\n",
            "DEADLINES: The abstact submission deadline is April 30, 1993.  \n",
            "Notification of acceptance will be sent by May 14, 1993.  \n",
            "Materials for reproduction must be received by June 1, 1993.\n",
            "\n",
            "For further information, contact Robert Lipman at the above address.\n",
            "\n",
            "\t  PLEASE DISTRIBUTE AS WIDELY AS POSSIBLE, THANKS.\n",
            "\n",
            "\n",
            "\n",
            "\n",
            "Robert Lipman                     | Internet: lipman@oasys.dt.navy.mil\n",
            "David Taylor Model Basin - CDNSWC |       or: lip@ocean.dt.navy.mil\n",
            "Computational Signatures and      | Voicenet: (301) 227-3618\n",
            "   Structures Group, Code 2042    | Factsnet: (301) 227-5753\n",
            "Bethesda, Maryland  20084-5000    | Phishnet: stockings@long.legs\n",
            "\t\t\t\t   \n",
            "The sixth sick shiek's sixth sheep's sick.\n",
            "\n"
          ]
        }
      ],
      "source": [
        "#Ejemplo de un texto de la categoría \"com.graphics\"\n",
        "print(open(data_dir / \"comp.graphics\" / \"37261\").read())"
      ]
    },
    {
      "cell_type": "markdown",
      "source": [
        "###Pregunta 1"
      ],
      "metadata": {
        "id": "JSKGmw1jXQP0"
      }
    },
    {
      "cell_type": "markdown",
      "source": [
        "Tienen que ser valores random, no siempre los 15 primeros"
      ],
      "metadata": {
        "id": "9IUddqsA6YsZ"
      }
    },
    {
      "cell_type": "code",
      "source": [
        "import spacy\n",
        "import random\n",
        "\n",
        "nlp = spacy.load(\"en_core_web_sm\")\n",
        "\n",
        "comp_graphics_files = os.listdir(data_dir / \"comp.graphics\")\n",
        "random_files = random.sample(comp_graphics_files, 15)\n",
        "\n",
        "token_counts = []\n",
        "\n",
        "for fname in random_files:\n",
        "    file_path = data_dir / \"comp.graphics\" / fname\n",
        "    with open(file_path, \"r\", encoding=\"latin-1\") as f:\n",
        "        content = f.read()\n",
        "        lines = content.split(\"\\n\")[10:]\n",
        "        text = \"\\n\".join(lines)\n",
        "        doc = nlp(text)\n",
        "        token_counts.append(len(doc))\n",
        "\n",
        "avg_tokens = sum(token_counts) / len(token_counts)\n",
        "print(f\"Número promedio de tokens en los 15 archivos de 'comp.graphics': {avg_tokens:.2f}\")"
      ],
      "metadata": {
        "colab": {
          "base_uri": "https://localhost:8080/"
        },
        "id": "J9AWNTBpCHJQ",
        "outputId": "2ec4a61c-333e-4861-ed1f-fdf8f886f4ec"
      },
      "execution_count": 54,
      "outputs": [
        {
          "output_type": "stream",
          "name": "stdout",
          "text": [
            "Número promedio de tokens en los 15 archivos de 'comp.graphics': 180.33\n"
          ]
        }
      ]
    },
    {
      "cell_type": "code",
      "source": [
        "for length in [100, 200, 300, 500, 1000]:\n",
        "  truncados = sum(1 for t in token_counts if t > length)\n",
        "  porcentaje = (truncados / len(token_counts)) * 100\n",
        "  print(f\"Con {length} tokens -> {truncados} truncados ({porcentaje:.2f}%)\")\n"
      ],
      "metadata": {
        "colab": {
          "base_uri": "https://localhost:8080/"
        },
        "id": "Bh5Sg9mXAcbv",
        "outputId": "06f0dcc2-b3ba-4122-f4fa-27a99e7c8e98"
      },
      "execution_count": 55,
      "outputs": [
        {
          "output_type": "stream",
          "name": "stdout",
          "text": [
            "Con 100 tokens -> 10 truncados (66.67%)\n",
            "Con 200 tokens -> 4 truncados (26.67%)\n",
            "Con 300 tokens -> 2 truncados (13.33%)\n",
            "Con 500 tokens -> 1 truncados (6.67%)\n",
            "Con 1000 tokens -> 0 truncados (0.00%)\n"
          ]
        }
      ]
    },
    {
      "cell_type": "code",
      "execution_count": 56,
      "metadata": {
        "id": "vUbbjI8plaG0",
        "colab": {
          "base_uri": "https://localhost:8080/"
        },
        "outputId": "34b5d1a0-f726-4786-fdd3-24022bb8ae6c"
      },
      "outputs": [
        {
          "output_type": "stream",
          "name": "stdout",
          "text": [
            "Number of files in talk.politics.misc: 1000\n",
            "Some example filenames: ['178913', '178805', '178437', '178859', '176903']\n"
          ]
        }
      ],
      "source": [
        "#Algunos archivos de la categoria \"talk.politics.misc\"\n",
        "fnames = os.listdir(data_dir / \"talk.politics.misc\")\n",
        "print(\"Number of files in talk.politics.misc:\", len(fnames))\n",
        "print(\"Some example filenames:\", fnames[:5])"
      ]
    },
    {
      "cell_type": "code",
      "execution_count": 57,
      "metadata": {
        "id": "izZGWhpklCbI",
        "colab": {
          "base_uri": "https://localhost:8080/"
        },
        "outputId": "227bc625-65cd-4ad5-a1a8-cd48e5d19552"
      },
      "outputs": [
        {
          "output_type": "stream",
          "name": "stdout",
          "text": [
            "Xref: cantaloupe.srv.cs.cmu.edu talk.politics.guns:54219 talk.politics.misc:178463\n",
            "Newsgroups: talk.politics.guns,talk.politics.misc\n",
            "Path: cantaloupe.srv.cs.cmu.edu!magnesium.club.cc.cmu.edu!news.sei.cmu.edu!cis.ohio-state.edu!magnus.acs.ohio-state.edu!usenet.ins.cwru.edu!agate!spool.mu.edu!darwin.sura.net!martha.utcc.utk.edu!FRANKENSTEIN.CE.UTK.EDU!VEAL\n",
            "From: VEAL@utkvm1.utk.edu (David Veal)\n",
            "Subject: Re: Proof of the Viability of Gun Control\n",
            "Message-ID: <VEAL.749.735192116@utkvm1.utk.edu>\n",
            "Lines: 21\n",
            "Sender: usenet@martha.utcc.utk.edu (USENET News System)\n",
            "Organization: University of Tennessee Division of Continuing Education\n",
            "References: <1qpbqd$ntl@access.digex.net> <C5otvp.ItL@magpie.linknet.com>\n",
            "Date: Mon, 19 Apr 1993 04:01:56 GMT\n",
            "\n",
            "[alt.drugs and alt.conspiracy removed from newsgroups line.]\n",
            "\n",
            "In article <C5otvp.ItL@magpie.linknet.com> neal@magpie.linknet.com (Neal) writes:\n",
            "\n",
            ">   Once the National Guard has been called into federal service,\n",
            ">it is under the command of the present. Tha National Guard, though\n",
            ">defined as the \"Militia\" in the statutes, is actually a reserve component\n",
            ">of the United State Army, and was formed pursuant to the power of Congress\n",
            ">to raise and support Armies.\n",
            "\n",
            "       That's the really cute thing about saying the 2nd amendment\n",
            "only covers the national guard, because that would mean that it\n",
            "essentially prohibits the federal government from disarming a branch\n",
            "of the federal government.\n",
            "\n",
            "       Sounds like a real limit to federal power to me.\n",
            "------------------------------------------------------------------------\n",
            "David Veal Univ. of Tenn. Div. of Cont. Education Info. Services Group\n",
            "PA146008@utkvm1.utk.edu - \"I still remember the way you laughed, the day\n",
            "your pushed me down the elevator shaft;  I'm beginning to think you don't\n",
            "love me anymore.\" - \"Weird Al\"\n",
            "\n"
          ]
        }
      ],
      "source": [
        "#Ejemplo de un texto de la categoría \"talk.politics.misc\"\n",
        "print(open(data_dir / \"talk.politics.misc\" / \"178463\").read())"
      ]
    },
    {
      "cell_type": "code",
      "execution_count": 58,
      "metadata": {
        "id": "065tHPFg3aBq"
      },
      "outputs": [],
      "source": [
        "list_all_dir = [\n",
        "    'alt.atheism',\n",
        "    'comp.graphics',\n",
        "    'comp.sys.mac.hardware',\n",
        "    'comp.windows.x',\n",
        "    'misc.forsale',\n",
        "    'rec.autos',\n",
        "    'rec.sport.baseball',\n",
        "    'rec.sport.hockey',\n",
        "    'sci.crypt',\n",
        "    'sci.med',\n",
        "    'sci.space',\n",
        "    'soc.religion.christian',\n",
        "    'talk.politics.guns',\n",
        "    'talk.politics.misc',\n",
        "    'talk.religion.misc'\n",
        "]"
      ]
    },
    {
      "cell_type": "code",
      "execution_count": 59,
      "metadata": {
        "id": "33Ay5U6blCd1",
        "colab": {
          "base_uri": "https://localhost:8080/"
        },
        "outputId": "6a8f7211-670a-4efd-d4d0-9a3a0f0489ad"
      },
      "outputs": [
        {
          "output_type": "stream",
          "name": "stdout",
          "text": [
            "Processing alt.atheism, 1000 files found\n",
            "Processing comp.graphics, 1000 files found\n",
            "Processing comp.sys.mac.hardware, 1000 files found\n",
            "Processing comp.windows.x, 1000 files found\n",
            "Processing misc.forsale, 1000 files found\n",
            "Processing rec.autos, 1000 files found\n",
            "Processing rec.sport.baseball, 1000 files found\n",
            "Processing rec.sport.hockey, 1000 files found\n",
            "Processing sci.crypt, 1000 files found\n",
            "Processing sci.med, 1000 files found\n",
            "Processing sci.space, 1000 files found\n",
            "Processing soc.religion.christian, 997 files found\n",
            "Processing talk.politics.guns, 1000 files found\n",
            "Processing talk.politics.misc, 1000 files found\n",
            "Processing talk.religion.misc, 1000 files found\n",
            "Classes: ['alt.atheism', 'comp.graphics', 'comp.sys.mac.hardware', 'comp.windows.x', 'misc.forsale', 'rec.autos', 'rec.sport.baseball', 'rec.sport.hockey', 'sci.crypt', 'sci.med', 'sci.space', 'soc.religion.christian', 'talk.politics.guns', 'talk.politics.misc', 'talk.religion.misc']\n",
            "Number of samples: 14997\n"
          ]
        }
      ],
      "source": [
        "samples = []\n",
        "labels = []\n",
        "class_names = []\n",
        "class_index = 0\n",
        "for dirname in list_all_dir:\n",
        "    class_names.append(dirname)\n",
        "    dirpath = data_dir / dirname\n",
        "    fnames = os.listdir(dirpath)\n",
        "    print(\"Processing %s, %d files found\" % (dirname, len(fnames)))\n",
        "    for fname in fnames:\n",
        "        fpath = dirpath / fname\n",
        "        f = open(fpath, encoding=\"latin-1\")\n",
        "        content = f.read()\n",
        "        lines = content.split(\"\\n\")\n",
        "        lines = lines[10:]\n",
        "        content = \"\\n\".join(lines)\n",
        "        samples.append(content)\n",
        "        labels.append(class_index)\n",
        "    class_index += 1\n",
        "\n",
        "print(\"Classes:\", class_names)\n",
        "print(\"Number of samples:\", len(samples))"
      ]
    },
    {
      "cell_type": "markdown",
      "source": [
        "###Pregunta 2"
      ],
      "metadata": {
        "id": "Mbs97xvkft44"
      }
    },
    {
      "cell_type": "code",
      "source": [
        "comp_graphics_files = os.listdir(data_dir / \"sci.crypt\")[:15]\n",
        "fname = comp_graphics_files[0]\n",
        "file_path = data_dir / \"sci.crypt\" / fname\n",
        "\n",
        "with open(file_path, \"r\", encoding=\"latin-1\") as f:\n",
        "  lineas = f.readlines()\n",
        "\n",
        "print(\"Primeras 15 líneas antes del descarte:\\n\")\n",
        "print(\"\".join(lineas[:15]))\n",
        "\n",
        "contenido_sin_encabezado = lineas[10:]\n",
        "\n",
        "print(\"\\nPrimeras 5 líneas después del descarte:\\n\")\n",
        "print(\"\".join(contenido_sin_encabezado[:5]))"
      ],
      "metadata": {
        "colab": {
          "base_uri": "https://localhost:8080/"
        },
        "id": "qb9bzdq_bX16",
        "outputId": "b15e0486-46de-4d83-d0a4-86e5001a5eaa"
      },
      "execution_count": 60,
      "outputs": [
        {
          "output_type": "stream",
          "name": "stdout",
          "text": [
            "Primeras 15 líneas antes del descarte:\n",
            "\n",
            "Xref: cantaloupe.srv.cs.cmu.edu sci.crypt:15882 alt.privacy.clipper:111\n",
            "Newsgroups: sci.crypt,alt.privacy.clipper\n",
            "Path: cantaloupe.srv.cs.cmu.edu!magnesium.club.cc.cmu.edu!news.sei.cmu.edu!cis.ohio-state.edu!zaphod.mps.ohio-state.edu!wupost!mont!mizzou1.missouri.edu!C445585\n",
            "From: C445585@mizzou1.missouri.edu (John Kelsey)\n",
            "Subject: How to make the Clipper chip and wiretapping less bad\n",
            "Message-ID: <16BB9E8A1.C445585@mizzou1.missouri.edu>\n",
            "Sender: news@mont.cs.missouri.edu\n",
            "Nntp-Posting-Host: mizzou1.missouri.edu\n",
            "Organization: University of Missouri\n",
            "References: <1993Apr19.154938.1203@lambda.msfc.nasa.gov> <C5y746.73K@vcd.hp.com> <strnlghtC5yBKA.Dp5@netcom.com>\n",
            "Date: Fri, 23 Apr 93 16:32:20 CDT\n",
            "Lines: 15\n",
            "\n",
            "   I've got an idea that would remove most of the political complaints\n",
            "I have about the Clipper chip.  Pass a law stating that if, within a\n",
            "\n",
            "\n",
            "Primeras 5 líneas después del descarte:\n",
            "\n",
            "Date: Fri, 23 Apr 93 16:32:20 CDT\n",
            "Lines: 15\n",
            "\n",
            "   I've got an idea that would remove most of the political complaints\n",
            "I have about the Clipper chip.  Pass a law stating that if, within a\n",
            "\n"
          ]
        }
      ]
    },
    {
      "cell_type": "markdown",
      "metadata": {
        "id": "n2pmvE6gMcxT"
      },
      "source": [
        "# Mezclando los datos para separarlos en Traning y Test"
      ]
    },
    {
      "cell_type": "code",
      "execution_count": 61,
      "metadata": {
        "id": "DYX7x-k_lCgZ"
      },
      "outputs": [],
      "source": [
        "# Shuffle the data\n",
        "seed = 1337\n",
        "rng = np.random.RandomState(seed)\n",
        "rng.shuffle(samples)\n",
        "rng = np.random.RandomState(seed)\n",
        "rng.shuffle(labels)\n",
        "keras.utils.set_random_seed(seed)\n",
        "\n",
        "# Extract a training & validation split\n",
        "validation_split = 0.2\n",
        "num_validation_samples = int(validation_split * len(samples))\n",
        "train_samples = samples[:-num_validation_samples]\n",
        "val_samples = samples[-num_validation_samples:]\n",
        "train_labels = labels[:-num_validation_samples]\n",
        "val_labels = labels[-num_validation_samples:]"
      ]
    },
    {
      "cell_type": "markdown",
      "source": [
        "###Pregunta 4"
      ],
      "metadata": {
        "id": "g3Ljv61vXIoa"
      }
    },
    {
      "cell_type": "code",
      "source": [
        "# Imprimir un ejemplo de cada conjunto\n",
        "label_map = {i: name for i, name in enumerate(list_all_dir)}\n",
        "print(\"Ejemplo de train_samples:\\n\", train_samples[0])\n",
        "print(f\"Etiqueta train_labels: {train_labels[0]} -> Categoría: {label_map[train_labels[0]]}\")\n",
        "\n",
        "print(\"\\nEjemplo de val_samples:\\n\", val_samples[0])\n",
        "print(f\"Etiqueta val_labels: {val_labels[0]} -> Categoría: {label_map[val_labels[0]]}\")\n"
      ],
      "metadata": {
        "colab": {
          "base_uri": "https://localhost:8080/"
        },
        "id": "7aehaAKPXGRp",
        "outputId": "77d9022b-fec4-44ec-f1ce-9acfea24be3c"
      },
      "execution_count": 62,
      "outputs": [
        {
          "output_type": "stream",
          "name": "stdout",
          "text": [
            "Ejemplo de train_samples:\n",
            " Lines: 13\n",
            "\n",
            "In article <C5t05K.DB6@research.canon.oz.au>, enzo@research.canon.oz.au (Enzo Liguori) writes:\n",
            "\n",
            "<<<most of message deleted>>>\n",
            "\n",
            "> What about light pollution in observations? (I read somewhere else that\n",
            "> it might even be visible during the day, leave alone at night).\n",
            "\n",
            "> Really, really depressed.\n",
            "> \n",
            ">              Enzo\n",
            "\n",
            "No need to be depressed about this one.  Lights aren't on during the day\n",
            "so there shouldn't be any daytime light pollution.\n",
            "\n",
            "Etiqueta train_labels: 10 -> Categoría: sci.space\n",
            "\n",
            "Ejemplo de val_samples:\n",
            " NNTP-Posting-Host: hardy.u.washington.edu\n",
            "\n",
            "pb6755@csc.albany.edu (BROWN PHILIP H) writes:\n",
            "\n",
            ">I watched the final inning of Bosio's no-hitter with several people at\n",
            ">work. After Vizquel made that barehanded grab of the chopper up the\n",
            ">middle, someone remarked that if he had fielded it with his glove, he\n",
            ">wouldn't have had time to throw Riles out. Yet, the throw beat Riles\n",
            ">by about two steps. I wonder how many others who watched the final out\n",
            ">think Vizquel had no choice but to make the play with his bare hand.\n",
            "\n",
            "In this morning's paper (or was it on the radio?), Vizquel was quoted as\n",
            "saying that he could have fielded the ball with his glove and still\n",
            "easily thrown out Riles, that he barehanded it instead so as to make the\n",
            "final play more memorable.  Seems a litle cocky to me, but he made it\n",
            "work so he's entitled.\n",
            "-- \n",
            "Doug Dudgeon                             Dept. of Chemical Engineering, BF-10\n",
            "dudgeon@opus.cheme.washington.edu        University of Washington, Seattle\n",
            "\n",
            "<This space available>\n",
            "\n",
            "Etiqueta val_labels: 6 -> Categoría: rec.sport.baseball\n"
          ]
        }
      ]
    },
    {
      "cell_type": "markdown",
      "source": [
        "###Pregunta 3"
      ],
      "metadata": {
        "id": "Vq1fMGt-XL27"
      }
    },
    {
      "cell_type": "code",
      "source": [
        "import numpy as np\n",
        "\n",
        "num_samples = 1000\n",
        "\n",
        "# Probar diferentes valores de validation_split\n",
        "for split in [0.1, 0.2, 0.3, 0.4, 0.5]:\n",
        "    num_validation = int(num_samples * split)  # Cantidad de datos para validación\n",
        "    num_training = num_samples - num_validation  # Cantidad de datos para entrenamiento\n",
        "\n",
        "    print(f\"validation_split = {split}\")\n",
        "    print(f\"Datos de entrenamiento: {num_training}\")\n",
        "    print(f\"Datos de validación: {num_validation}\\n\")"
      ],
      "metadata": {
        "colab": {
          "base_uri": "https://localhost:8080/"
        },
        "id": "6a4whiHi_9Et",
        "outputId": "0b048745-52e8-4c49-e8b7-d910464d633a"
      },
      "execution_count": 63,
      "outputs": [
        {
          "output_type": "stream",
          "name": "stdout",
          "text": [
            "validation_split = 0.1\n",
            "Datos de entrenamiento: 900\n",
            "Datos de validación: 100\n",
            "\n",
            "validation_split = 0.2\n",
            "Datos de entrenamiento: 800\n",
            "Datos de validación: 200\n",
            "\n",
            "validation_split = 0.3\n",
            "Datos de entrenamiento: 700\n",
            "Datos de validación: 300\n",
            "\n",
            "validation_split = 0.4\n",
            "Datos de entrenamiento: 600\n",
            "Datos de validación: 400\n",
            "\n",
            "validation_split = 0.5\n",
            "Datos de entrenamiento: 500\n",
            "Datos de validación: 500\n",
            "\n"
          ]
        }
      ]
    },
    {
      "cell_type": "code",
      "source": [
        "from tensorflow import keras\n",
        "from sklearn.model_selection import train_test_split\n",
        "\n",
        "# Simulación de datos\n",
        "X = np.random.rand(1000, 20)  # 1000 muestras con 20 características\n",
        "y = np.random.randint(0, 2, 1000)  # Clases binarias (0 o 1)\n",
        "\n",
        "# Probar con diferentes valores de validation_split\n",
        "for split in [0.1, 0.2, 0.3]:\n",
        "    print(f\"\\nEntrenando con validation_split = {split}\")\n",
        "\n",
        "    # Dividir los datos\n",
        "    X_train, X_val, y_train, y_val = train_test_split(X, y, test_size=split, random_state=42)\n",
        "\n",
        "    # Crear un modelo simple\n",
        "    model = keras.Sequential([\n",
        "        keras.layers.Dense(16, activation=\"relu\", input_shape=(20,)),\n",
        "        keras.layers.Dense(1, activation=\"sigmoid\")\n",
        "    ])\n",
        "\n",
        "    model.compile(optimizer=\"adam\", loss=\"binary_crossentropy\", metrics=[\"accuracy\"])\n",
        "\n",
        "    # Entrenar el modelo\n",
        "    history = model.fit(X_train, y_train, epochs=5, validation_data=(X_val, y_val), verbose=1)\n"
      ],
      "metadata": {
        "colab": {
          "base_uri": "https://localhost:8080/"
        },
        "id": "Skn1n8YqHpxg",
        "outputId": "f07404e8-03ec-4c2d-e30f-ee78bda0fc91"
      },
      "execution_count": 64,
      "outputs": [
        {
          "output_type": "stream",
          "name": "stdout",
          "text": [
            "\n",
            "Entrenando con validation_split = 0.1\n",
            "Epoch 1/5\n"
          ]
        },
        {
          "output_type": "stream",
          "name": "stderr",
          "text": [
            "/usr/local/lib/python3.11/dist-packages/keras/src/layers/core/dense.py:87: UserWarning: Do not pass an `input_shape`/`input_dim` argument to a layer. When using Sequential models, prefer using an `Input(shape)` object as the first layer in the model instead.\n",
            "  super().__init__(activity_regularizer=activity_regularizer, **kwargs)\n"
          ]
        },
        {
          "output_type": "stream",
          "name": "stdout",
          "text": [
            "\u001b[1m29/29\u001b[0m \u001b[32m━━━━━━━━━━━━━━━━━━━━\u001b[0m\u001b[37m\u001b[0m \u001b[1m1s\u001b[0m 12ms/step - accuracy: 0.4911 - loss: 0.7231 - val_accuracy: 0.4800 - val_loss: 0.7194\n",
            "Epoch 2/5\n",
            "\u001b[1m29/29\u001b[0m \u001b[32m━━━━━━━━━━━━━━━━━━━━\u001b[0m\u001b[37m\u001b[0m \u001b[1m0s\u001b[0m 5ms/step - accuracy: 0.5112 - loss: 0.7002 - val_accuracy: 0.4800 - val_loss: 0.7175\n",
            "Epoch 3/5\n",
            "\u001b[1m29/29\u001b[0m \u001b[32m━━━━━━━━━━━━━━━━━━━━\u001b[0m\u001b[37m\u001b[0m \u001b[1m0s\u001b[0m 4ms/step - accuracy: 0.5258 - loss: 0.6979 - val_accuracy: 0.4900 - val_loss: 0.7163\n",
            "Epoch 4/5\n",
            "\u001b[1m29/29\u001b[0m \u001b[32m━━━━━━━━━━━━━━━━━━━━\u001b[0m\u001b[37m\u001b[0m \u001b[1m0s\u001b[0m 4ms/step - accuracy: 0.5280 - loss: 0.6967 - val_accuracy: 0.4700 - val_loss: 0.7146\n",
            "Epoch 5/5\n",
            "\u001b[1m29/29\u001b[0m \u001b[32m━━━━━━━━━━━━━━━━━━━━\u001b[0m\u001b[37m\u001b[0m \u001b[1m0s\u001b[0m 5ms/step - accuracy: 0.5267 - loss: 0.6954 - val_accuracy: 0.4800 - val_loss: 0.7129\n",
            "\n",
            "Entrenando con validation_split = 0.2\n",
            "Epoch 1/5\n",
            "\u001b[1m25/25\u001b[0m \u001b[32m━━━━━━━━━━━━━━━━━━━━\u001b[0m\u001b[37m\u001b[0m \u001b[1m1s\u001b[0m 12ms/step - accuracy: 0.4758 - loss: 0.7014 - val_accuracy: 0.5500 - val_loss: 0.6845\n",
            "Epoch 2/5\n",
            "\u001b[1m25/25\u001b[0m \u001b[32m━━━━━━━━━━━━━━━━━━━━\u001b[0m\u001b[37m\u001b[0m \u001b[1m0s\u001b[0m 5ms/step - accuracy: 0.5023 - loss: 0.6970 - val_accuracy: 0.5550 - val_loss: 0.6840\n",
            "Epoch 3/5\n",
            "\u001b[1m25/25\u001b[0m \u001b[32m━━━━━━━━━━━━━━━━━━━━\u001b[0m\u001b[37m\u001b[0m \u001b[1m0s\u001b[0m 5ms/step - accuracy: 0.5066 - loss: 0.6959 - val_accuracy: 0.5500 - val_loss: 0.6836\n",
            "Epoch 4/5\n",
            "\u001b[1m25/25\u001b[0m \u001b[32m━━━━━━━━━━━━━━━━━━━━\u001b[0m\u001b[37m\u001b[0m \u001b[1m0s\u001b[0m 5ms/step - accuracy: 0.5162 - loss: 0.6949 - val_accuracy: 0.5450 - val_loss: 0.6829\n",
            "Epoch 5/5\n",
            "\u001b[1m25/25\u001b[0m \u001b[32m━━━━━━━━━━━━━━━━━━━━\u001b[0m\u001b[37m\u001b[0m \u001b[1m0s\u001b[0m 6ms/step - accuracy: 0.5216 - loss: 0.6940 - val_accuracy: 0.5550 - val_loss: 0.6824\n",
            "\n",
            "Entrenando con validation_split = 0.3\n",
            "Epoch 1/5\n",
            "\u001b[1m22/22\u001b[0m \u001b[32m━━━━━━━━━━━━━━━━━━━━\u001b[0m\u001b[37m\u001b[0m \u001b[1m1s\u001b[0m 14ms/step - accuracy: 0.4949 - loss: 0.7269 - val_accuracy: 0.5100 - val_loss: 0.6930\n",
            "Epoch 2/5\n",
            "\u001b[1m22/22\u001b[0m \u001b[32m━━━━━━━━━━━━━━━━━━━━\u001b[0m\u001b[37m\u001b[0m \u001b[1m0s\u001b[0m 5ms/step - accuracy: 0.5155 - loss: 0.7035 - val_accuracy: 0.5133 - val_loss: 0.6867\n",
            "Epoch 3/5\n",
            "\u001b[1m22/22\u001b[0m \u001b[32m━━━━━━━━━━━━━━━━━━━━\u001b[0m\u001b[37m\u001b[0m \u001b[1m0s\u001b[0m 5ms/step - accuracy: 0.5078 - loss: 0.7002 - val_accuracy: 0.5300 - val_loss: 0.6870\n",
            "Epoch 4/5\n",
            "\u001b[1m22/22\u001b[0m \u001b[32m━━━━━━━━━━━━━━━━━━━━\u001b[0m\u001b[37m\u001b[0m \u001b[1m0s\u001b[0m 8ms/step - accuracy: 0.5157 - loss: 0.6981 - val_accuracy: 0.5300 - val_loss: 0.6876\n",
            "Epoch 5/5\n",
            "\u001b[1m22/22\u001b[0m \u001b[32m━━━━━━━━━━━━━━━━━━━━\u001b[0m\u001b[37m\u001b[0m \u001b[1m0s\u001b[0m 9ms/step - accuracy: 0.5231 - loss: 0.6964 - val_accuracy: 0.5267 - val_loss: 0.6879\n"
          ]
        }
      ]
    },
    {
      "cell_type": "markdown",
      "metadata": {
        "id": "IktOtKfpNx8E"
      },
      "source": [
        "# Tokenización de las palabras con TextVectorization"
      ]
    },
    {
      "cell_type": "code",
      "execution_count": 65,
      "metadata": {
        "id": "QjHgQPX8lCjO"
      },
      "outputs": [],
      "source": [
        "from tensorflow.keras.layers import TextVectorization\n",
        "vectorizer = TextVectorization(max_tokens=20000, output_sequence_length=200)\n",
        "text_ds = tf.data.Dataset.from_tensor_slices(train_samples).batch(128)\n",
        "vectorizer.adapt(text_ds)"
      ]
    },
    {
      "cell_type": "markdown",
      "source": [
        "###Pregunta 5"
      ],
      "metadata": {
        "id": "5ezblHwP6e8v"
      }
    },
    {
      "cell_type": "code",
      "source": [
        "import spacy\n",
        "import numpy as np\n",
        "import matplotlib.pyplot as plt\n",
        "\n",
        "nlp = spacy.load(\"en_core_web_sm\")\n",
        "\n",
        "aux = train_samples[:500]\n",
        "\n",
        "# Contar tokens en cada muestra de entrenamiento\n",
        "token_counts = [len(nlp(text, disable=[\"parser\", \"tagger\", \"ner\"])) for text in aux]\n",
        "\n",
        "# Mostrar estadísticas básicas\n",
        "print(f\"Máxima longitud: {max(token_counts)}\")\n",
        "print(f\"Media de tokens por muestra: {np.mean(token_counts):.2f}\")\n",
        "print(f\"Mediana de tokens por muestra: {np.median(token_counts)}\")\n",
        "\n",
        "# Graficar la distribución de longitudes\n",
        "plt.hist(token_counts, bins=30, edgecolor='black')\n",
        "plt.axvline(x=200, color='r', linestyle='dashed', linewidth=2, label=\"output_sequence_length=200\")\n",
        "plt.xlabel(\"Número de tokens\")\n",
        "plt.ylabel(\"Frecuencia\")\n",
        "plt.title(\"Distribución de la cantidad de tokens en los emails\")\n",
        "plt.legend()\n",
        "plt.show()"
      ],
      "metadata": {
        "colab": {
          "base_uri": "https://localhost:8080/",
          "height": 579
        },
        "id": "opmssW1T6ess",
        "outputId": "c74d92ba-503e-4a25-8d5f-b2313645372f"
      },
      "execution_count": 66,
      "outputs": [
        {
          "output_type": "stream",
          "name": "stderr",
          "text": [
            "/usr/local/lib/python3.11/dist-packages/spacy/pipeline/lemmatizer.py:211: UserWarning: [W108] The rule-based lemmatizer did not find POS annotation for one or more tokens. Check that your pipeline includes components that assign token.pos, typically 'tagger'+'attribute_ruler' or 'morphologizer'.\n",
            "  warnings.warn(Warnings.W108)\n"
          ]
        },
        {
          "output_type": "stream",
          "name": "stdout",
          "text": [
            "Máxima longitud: 11872\n",
            "Media de tokens por muestra: 422.11\n",
            "Mediana de tokens por muestra: 244.0\n"
          ]
        },
        {
          "output_type": "display_data",
          "data": {
            "text/plain": [
              "<Figure size 640x480 with 1 Axes>"
            ],
            "image/png": "[encoded data removed]"
          },
          "metadata": {}
        }
      ]
    },
    {
      "cell_type": "code",
      "source": [
        "# Contar cuántos textos son más largos que 200 tokens\n",
        "num_truncated = sum(1 for count in token_counts if count > 200)\n",
        "percent_truncated = (num_truncated / len(token_counts)) * 100\n",
        "\n",
        "print(f\"Número de textos truncados: {num_truncated}\")\n",
        "print(f\"Porcentaje de textos truncados: {percent_truncated:.2f}%\")\n"
      ],
      "metadata": {
        "colab": {
          "base_uri": "https://localhost:8080/"
        },
        "id": "YgszADHdB6eW",
        "outputId": "033822fd-a3ce-49f9-b0c5-afdef436c3f8"
      },
      "execution_count": 67,
      "outputs": [
        {
          "output_type": "stream",
          "name": "stdout",
          "text": [
            "Número de textos truncados: 293\n",
            "Porcentaje de textos truncados: 58.60%\n"
          ]
        }
      ]
    },
    {
      "cell_type": "code",
      "source": [
        "import spacy\n",
        "import numpy as np\n",
        "import matplotlib.pyplot as plt\n",
        "\n",
        "nlp = spacy.load(\"en_core_web_sm\")\n",
        "\n",
        "# Usar nlp.pipe() y desactivar funciones innecesarias\n",
        "token_counts = [len(doc) for doc in nlp.pipe(train_samples[:10000], disable=[\"parser\", \"tagger\", \"ner\"])]\n",
        "\n",
        "# Mostrar estadísticas\n",
        "print(f\"Máxima longitud: {max(token_counts)}\")\n",
        "print(f\"Media de tokens por muestra: {np.mean(token_counts):.2f}\")\n",
        "print(f\"Mediana de tokens por muestra: {np.median(token_counts)}\")\n",
        "\n",
        "# Graficar\n",
        "plt.hist(token_counts, bins=30, edgecolor='black')\n",
        "plt.axvline(x=200, color='r', linestyle='dashed', linewidth=2, label=\"output_sequence_length=200\")\n",
        "plt.xlabel(\"Número de tokens\")\n",
        "plt.ylabel(\"Frecuencia\")\n",
        "plt.title(\"Distribución de la cantidad de tokens en los emails\")\n",
        "plt.legend()\n",
        "plt.show()\n"
      ],
      "metadata": {
        "colab": {
          "base_uri": "https://localhost:8080/",
          "height": 524
        },
        "id": "b7NUobq8ILAR",
        "outputId": "64bbbb05-6875-4d67-e4d0-1ab8597e31c3"
      },
      "execution_count": 68,
      "outputs": [
        {
          "output_type": "stream",
          "name": "stdout",
          "text": [
            "Máxima longitud: 16473\n",
            "Media de tokens por muestra: 395.23\n",
            "Mediana de tokens por muestra: 242.0\n"
          ]
        },
        {
          "output_type": "display_data",
          "data": {
            "text/plain": [
              "<Figure size 640x480 with 1 Axes>"
            ],
            "image/png": "[encoded data removed]"
          },
          "metadata": {}
        }
      ]
    },
    {
      "cell_type": "code",
      "source": [
        "for length in [100, 200, 300, 500, 1000]:\n",
        "  truncados = sum(1 for t in token_counts if t > length)\n",
        "  porcentaje = (truncados / len(token_counts)) * 100\n",
        "  print(f\"Con {length} tokens -> {truncados} truncados ({porcentaje:.2f}%)\")\n"
      ],
      "metadata": {
        "colab": {
          "base_uri": "https://localhost:8080/"
        },
        "id": "QIjn-AWxLo6Y",
        "outputId": "75884f27-6822-4abd-8fe7-5968bea7b6c4"
      },
      "execution_count": 69,
      "outputs": [
        {
          "output_type": "stream",
          "name": "stdout",
          "text": [
            "Con 100 tokens -> 8406 truncados (84.06%)\n",
            "Con 200 tokens -> 5894 truncados (58.94%)\n",
            "Con 300 tokens -> 3961 truncados (39.61%)\n",
            "Con 500 tokens -> 1902 truncados (19.02%)\n",
            "Con 1000 tokens -> 584 truncados (5.84%)\n"
          ]
        }
      ]
    },
    {
      "cell_type": "code",
      "execution_count": 70,
      "metadata": {
        "id": "vIWC37s5smZ4",
        "colab": {
          "base_uri": "https://localhost:8080/"
        },
        "outputId": "2d3eb2a6-86fa-4341-a9d4-3ae78e79c158"
      },
      "outputs": [
        {
          "output_type": "execute_result",
          "data": {
            "text/plain": [
              "['', '[UNK]', 'the', 'to', 'of']"
            ]
          },
          "metadata": {},
          "execution_count": 70
        }
      ],
      "source": [
        "vectorizer.get_vocabulary()[:5]"
      ]
    },
    {
      "cell_type": "code",
      "execution_count": 71,
      "metadata": {
        "id": "vit8TPqTvmwS",
        "colab": {
          "base_uri": "https://localhost:8080/"
        },
        "outputId": "b41c2e9a-2d50-46f6-85e8-05a90711373c"
      },
      "outputs": [
        {
          "output_type": "execute_result",
          "data": {
            "text/plain": [
              "20000"
            ]
          },
          "metadata": {},
          "execution_count": 71
        }
      ],
      "source": [
        "len(vectorizer.get_vocabulary())"
      ]
    },
    {
      "cell_type": "markdown",
      "metadata": {
        "id": "2O-FXA9wPVkg"
      },
      "source": [
        "# Viendo la salida de Vectorizer"
      ]
    },
    {
      "cell_type": "code",
      "execution_count": 72,
      "metadata": {
        "id": "rseIF0fLmyJ0",
        "colab": {
          "base_uri": "https://localhost:8080/"
        },
        "outputId": "a5ede625-1af7-4912-c90c-02628fe9edd1"
      },
      "outputs": [
        {
          "output_type": "execute_result",
          "data": {
            "text/plain": [
              "array([   2, 3709, 2056,   19,    2, 9656])"
            ]
          },
          "metadata": {},
          "execution_count": 72
        }
      ],
      "source": [
        "output = vectorizer([[\"the cat sat on the mat\"]])\n",
        "output.numpy()[0, :6]"
      ]
    },
    {
      "cell_type": "code",
      "execution_count": 73,
      "metadata": {
        "id": "Wsr4AQtBFArV",
        "colab": {
          "base_uri": "https://localhost:8080/"
        },
        "outputId": "58ea2cf2-0a0c-4f53-b52d-4f577cc3e517"
      },
      "outputs": [
        {
          "output_type": "execute_result",
          "data": {
            "text/plain": [
              "<tf.Tensor: shape=(1, 200), dtype=int64, numpy=\n",
              "array([[   2, 3709, 2056,   19,    2, 9656,    0,    0,    0,    0,    0,\n",
              "           0,    0,    0,    0,    0,    0,    0,    0,    0,    0,    0,\n",
              "           0,    0,    0,    0,    0,    0,    0,    0,    0,    0,    0,\n",
              "           0,    0,    0,    0,    0,    0,    0,    0,    0,    0,    0,\n",
              "           0,    0,    0,    0,    0,    0,    0,    0,    0,    0,    0,\n",
              "           0,    0,    0,    0,    0,    0,    0,    0,    0,    0,    0,\n",
              "           0,    0,    0,    0,    0,    0,    0,    0,    0,    0,    0,\n",
              "           0,    0,    0,    0,    0,    0,    0,    0,    0,    0,    0,\n",
              "           0,    0,    0,    0,    0,    0,    0,    0,    0,    0,    0,\n",
              "           0,    0,    0,    0,    0,    0,    0,    0,    0,    0,    0,\n",
              "           0,    0,    0,    0,    0,    0,    0,    0,    0,    0,    0,\n",
              "           0,    0,    0,    0,    0,    0,    0,    0,    0,    0,    0,\n",
              "           0,    0,    0,    0,    0,    0,    0,    0,    0,    0,    0,\n",
              "           0,    0,    0,    0,    0,    0,    0,    0,    0,    0,    0,\n",
              "           0,    0,    0,    0,    0,    0,    0,    0,    0,    0,    0,\n",
              "           0,    0,    0,    0,    0,    0,    0,    0,    0,    0,    0,\n",
              "           0,    0,    0,    0,    0,    0,    0,    0,    0,    0,    0,\n",
              "           0,    0,    0,    0,    0,    0,    0,    0,    0,    0,    0,\n",
              "           0,    0]])>"
            ]
          },
          "metadata": {},
          "execution_count": 73
        }
      ],
      "source": [
        "output"
      ]
    },
    {
      "cell_type": "code",
      "execution_count": 74,
      "metadata": {
        "id": "SL5ag8UamzwL"
      },
      "outputs": [],
      "source": [
        "voc = vectorizer.get_vocabulary()\n",
        "word_index = dict(zip(voc, range(len(voc))))"
      ]
    },
    {
      "cell_type": "code",
      "execution_count": 75,
      "metadata": {
        "id": "08v8SKcsn3lf",
        "colab": {
          "base_uri": "https://localhost:8080/"
        },
        "outputId": "99f8e8bf-af80-47c1-c7c9-43906c9f04c8"
      },
      "outputs": [
        {
          "output_type": "execute_result",
          "data": {
            "text/plain": [
              "[2, 3709, 2056, 19, 2, 9656]"
            ]
          },
          "metadata": {},
          "execution_count": 75
        }
      ],
      "source": [
        "test = [\"the\", \"cat\", \"sat\", \"on\", \"the\", \"mat\"]\n",
        "[word_index[w] for w in test]"
      ]
    },
    {
      "cell_type": "markdown",
      "metadata": {
        "id": "1eBhadrvOTNZ"
      },
      "source": [
        "# Tokenización de los datos de entrenamiento y validación"
      ]
    },
    {
      "cell_type": "code",
      "execution_count": 76,
      "metadata": {
        "id": "W26LUr2dKTOj"
      },
      "outputs": [],
      "source": [
        "x_train = vectorizer(np.array([[s] for s in train_samples])).numpy()\n",
        "x_val = vectorizer(np.array([[s] for s in val_samples])).numpy()\n",
        "\n",
        "y_train = np.array(train_labels)\n",
        "y_val = np.array(val_labels)"
      ]
    },
    {
      "cell_type": "markdown",
      "metadata": {
        "id": "q3QVIb84Olda"
      },
      "source": [
        "# Creación y entrenamiento del modelo. Red Neuronal Clásica"
      ]
    },
    {
      "cell_type": "code",
      "execution_count": 77,
      "metadata": {
        "id": "B9VxI-i69cdB"
      },
      "outputs": [],
      "source": [
        "modeloClasico = keras.models.Sequential()\n",
        "modeloClasico.add(keras.layers.Embedding(20000, 10))\n",
        "modeloClasico.add(keras.layers.Flatten())\n",
        "modeloClasico.add(keras.layers.Dense(512, activation='relu'))\n",
        "modeloClasico.add(keras.layers.Dropout(0.3))\n",
        "modeloClasico.add(keras.layers.Dense(20, activation='softmax'))"
      ]
    },
    {
      "cell_type": "code",
      "execution_count": 78,
      "metadata": {
        "id": "nEXXWuhx3YtX",
        "colab": {
          "base_uri": "https://localhost:8080/",
          "height": 1000
        },
        "outputId": "cc36a7a2-42dc-4cc1-b5b9-1dd008047d87"
      },
      "outputs": [
        {
          "output_type": "stream",
          "name": "stdout",
          "text": [
            "Epoch 1/20\n",
            "\u001b[1m94/94\u001b[0m \u001b[32m━━━━━━━━━━━━━━━━━━━━\u001b[0m\u001b[37m\u001b[0m \u001b[1m6s\u001b[0m 50ms/step - acc: 0.0925 - loss: 2.7846 - val_acc: 0.1917 - val_loss: 2.4306\n",
            "Epoch 2/20\n",
            "\u001b[1m94/94\u001b[0m \u001b[32m━━━━━━━━━━━━━━━━━━━━\u001b[0m\u001b[37m\u001b[0m \u001b[1m3s\u001b[0m 36ms/step - acc: 0.2508 - loss: 2.2679 - val_acc: 0.3184 - val_loss: 1.9776\n",
            "Epoch 3/20\n",
            "\u001b[1m94/94\u001b[0m \u001b[32m━━━━━━━━━━━━━━━━━━━━\u001b[0m\u001b[37m\u001b[0m \u001b[1m3s\u001b[0m 34ms/step - acc: 0.4632 - loss: 1.6589 - val_acc: 0.4565 - val_loss: 1.6475\n",
            "Epoch 4/20\n",
            "\u001b[1m94/94\u001b[0m \u001b[32m━━━━━━━━━━━━━━━━━━━━\u001b[0m\u001b[37m\u001b[0m \u001b[1m6s\u001b[0m 47ms/step - acc: 0.6555 - loss: 1.1215 - val_acc: 0.5649 - val_loss: 1.2942\n",
            "Epoch 5/20\n",
            "\u001b[1m94/94\u001b[0m \u001b[32m━━━━━━━━━━━━━━━━━━━━\u001b[0m\u001b[37m\u001b[0m \u001b[1m4s\u001b[0m 35ms/step - acc: 0.7795 - loss: 0.7529 - val_acc: 0.6295 - val_loss: 1.0704\n",
            "Epoch 6/20\n",
            "\u001b[1m94/94\u001b[0m \u001b[32m━━━━━━━━━━━━━━━━━━━━\u001b[0m\u001b[37m\u001b[0m \u001b[1m5s\u001b[0m 35ms/step - acc: 0.8543 - loss: 0.5108 - val_acc: 0.6619 - val_loss: 0.9842\n",
            "Epoch 7/20\n",
            "\u001b[1m94/94\u001b[0m \u001b[32m━━━━━━━━━━━━━━━━━━━━\u001b[0m\u001b[37m\u001b[0m \u001b[1m5s\u001b[0m 50ms/step - acc: 0.8978 - loss: 0.3650 - val_acc: 0.6809 - val_loss: 0.9598\n",
            "Epoch 8/20\n",
            "\u001b[1m94/94\u001b[0m \u001b[32m━━━━━━━━━━━━━━━━━━━━\u001b[0m\u001b[37m\u001b[0m \u001b[1m4s\u001b[0m 34ms/step - acc: 0.9190 - loss: 0.2764 - val_acc: 0.6906 - val_loss: 0.9560\n",
            "Epoch 9/20\n",
            "\u001b[1m94/94\u001b[0m \u001b[32m━━━━━━━━━━━━━━━━━━━━\u001b[0m\u001b[37m\u001b[0m \u001b[1m5s\u001b[0m 35ms/step - acc: 0.9338 - loss: 0.2164 - val_acc: 0.6869 - val_loss: 0.9846\n",
            "Epoch 10/20\n",
            "\u001b[1m94/94\u001b[0m \u001b[32m━━━━━━━━━━━━━━━━━━━━\u001b[0m\u001b[37m\u001b[0m \u001b[1m4s\u001b[0m 46ms/step - acc: 0.9391 - loss: 0.1798 - val_acc: 0.6879 - val_loss: 1.0139\n",
            "Epoch 11/20\n",
            "\u001b[1m94/94\u001b[0m \u001b[32m━━━━━━━━━━━━━━━━━━━━\u001b[0m\u001b[37m\u001b[0m \u001b[1m4s\u001b[0m 34ms/step - acc: 0.9434 - loss: 0.1541 - val_acc: 0.6912 - val_loss: 1.0430\n",
            "Epoch 12/20\n",
            "\u001b[1m94/94\u001b[0m \u001b[32m━━━━━━━━━━━━━━━━━━━━\u001b[0m\u001b[37m\u001b[0m \u001b[1m3s\u001b[0m 33ms/step - acc: 0.9481 - loss: 0.1375 - val_acc: 0.6849 - val_loss: 1.0812\n",
            "Epoch 13/20\n",
            "\u001b[1m94/94\u001b[0m \u001b[32m━━━━━━━━━━━━━━━━━━━━\u001b[0m\u001b[37m\u001b[0m \u001b[1m7s\u001b[0m 49ms/step - acc: 0.9494 - loss: 0.1263 - val_acc: 0.6892 - val_loss: 1.0794\n",
            "Epoch 14/20\n",
            "\u001b[1m94/94\u001b[0m \u001b[32m━━━━━━━━━━━━━━━━━━━━\u001b[0m\u001b[37m\u001b[0m \u001b[1m3s\u001b[0m 34ms/step - acc: 0.9518 - loss: 0.1156 - val_acc: 0.6849 - val_loss: 1.1271\n",
            "Epoch 15/20\n",
            "\u001b[1m94/94\u001b[0m \u001b[32m━━━━━━━━━━━━━━━━━━━━\u001b[0m\u001b[37m\u001b[0m \u001b[1m3s\u001b[0m 35ms/step - acc: 0.9514 - loss: 0.1097 - val_acc: 0.6822 - val_loss: 1.1476\n",
            "Epoch 16/20\n",
            "\u001b[1m94/94\u001b[0m \u001b[32m━━━━━━━━━━━━━━━━━━━━\u001b[0m\u001b[37m\u001b[0m \u001b[1m6s\u001b[0m 47ms/step - acc: 0.9546 - loss: 0.1015 - val_acc: 0.6856 - val_loss: 1.1439\n",
            "Epoch 17/20\n",
            "\u001b[1m94/94\u001b[0m \u001b[32m━━━━━━━━━━━━━━━━━━━━\u001b[0m\u001b[37m\u001b[0m \u001b[1m4s\u001b[0m 35ms/step - acc: 0.9550 - loss: 0.0973 - val_acc: 0.6809 - val_loss: 1.1633\n",
            "Epoch 18/20\n",
            "\u001b[1m94/94\u001b[0m \u001b[32m━━━━━━━━━━━━━━━━━━━━\u001b[0m\u001b[37m\u001b[0m \u001b[1m5s\u001b[0m 35ms/step - acc: 0.9563 - loss: 0.0934 - val_acc: 0.6819 - val_loss: 1.1730\n",
            "Epoch 19/20\n",
            "\u001b[1m94/94\u001b[0m \u001b[32m━━━━━━━━━━━━━━━━━━━━\u001b[0m\u001b[37m\u001b[0m \u001b[1m7s\u001b[0m 51ms/step - acc: 0.9559 - loss: 0.0901 - val_acc: 0.6842 - val_loss: 1.1859\n",
            "Epoch 20/20\n",
            "\u001b[1m94/94\u001b[0m \u001b[32m━━━━━━━━━━━━━━━━━━━━\u001b[0m\u001b[37m\u001b[0m \u001b[1m4s\u001b[0m 35ms/step - acc: 0.9579 - loss: 0.0834 - val_acc: 0.6836 - val_loss: 1.1939\n"
          ]
        },
        {
          "output_type": "display_data",
          "data": {
            "text/plain": [
              "\u001b[1mModel: \"sequential_12\"\u001b[0m\n"
            ],
            "text/html": [
              "<pre style=\"white-space:pre;overflow-x:auto;line-height:normal;font-family:Menlo,'DejaVu Sans Mono',consolas,'Courier New',monospace\"><span style=\"font-weight: bold\">Model: \"sequential_12\"</span>\n",
              "</pre>\n"
            ]
          },
          "metadata": {}
        },
        {
          "output_type": "display_data",
          "data": {
            "text/plain": [
              "┏━━━━━━━━━━━━━━━━━━━━━━━━━━━━━━━━━━━━━━┳━━━━━━━━━━━━━━━━━━━━━━━━━━━━━┳━━━━━━━━━━━━━━━━━┓\n",
              "┃\u001b[1m \u001b[0m\u001b[1mLayer (type)                        \u001b[0m\u001b[1m \u001b[0m┃\u001b[1m \u001b[0m\u001b[1mOutput Shape               \u001b[0m\u001b[1m \u001b[0m┃\u001b[1m \u001b[0m\u001b[1m        Param #\u001b[0m\u001b[1m \u001b[0m┃\n",
              "┡━━━━━━━━━━━━━━━━━━━━━━━━━━━━━━━━━━━━━━╇━━━━━━━━━━━━━━━━━━━━━━━━━━━━━╇━━━━━━━━━━━━━━━━━┩\n",
              "│ embedding_6 (\u001b[38;5;33mEmbedding\u001b[0m)              │ (\u001b[38;5;45mNone\u001b[0m, \u001b[38;5;34m200\u001b[0m, \u001b[38;5;34m10\u001b[0m)             │         \u001b[38;5;34m200,000\u001b[0m │\n",
              "├──────────────────────────────────────┼─────────────────────────────┼─────────────────┤\n",
              "│ flatten_1 (\u001b[38;5;33mFlatten\u001b[0m)                  │ (\u001b[38;5;45mNone\u001b[0m, \u001b[38;5;34m2000\u001b[0m)                │               \u001b[38;5;34m0\u001b[0m │\n",
              "├──────────────────────────────────────┼─────────────────────────────┼─────────────────┤\n",
              "│ dense_24 (\u001b[38;5;33mDense\u001b[0m)                     │ (\u001b[38;5;45mNone\u001b[0m, \u001b[38;5;34m512\u001b[0m)                 │       \u001b[38;5;34m1,024,512\u001b[0m │\n",
              "├──────────────────────────────────────┼─────────────────────────────┼─────────────────┤\n",
              "│ dropout_1 (\u001b[38;5;33mDropout\u001b[0m)                  │ (\u001b[38;5;45mNone\u001b[0m, \u001b[38;5;34m512\u001b[0m)                 │               \u001b[38;5;34m0\u001b[0m │\n",
              "├──────────────────────────────────────┼─────────────────────────────┼─────────────────┤\n",
              "│ dense_25 (\u001b[38;5;33mDense\u001b[0m)                     │ (\u001b[38;5;45mNone\u001b[0m, \u001b[38;5;34m20\u001b[0m)                  │          \u001b[38;5;34m10,260\u001b[0m │\n",
              "└──────────────────────────────────────┴─────────────────────────────┴─────────────────┘\n"
            ],
            "text/html": [
              "<pre style=\"white-space:pre;overflow-x:auto;line-height:normal;font-family:Menlo,'DejaVu Sans Mono',consolas,'Courier New',monospace\">┏━━━━━━━━━━━━━━━━━━━━━━━━━━━━━━━━━━━━━━┳━━━━━━━━━━━━━━━━━━━━━━━━━━━━━┳━━━━━━━━━━━━━━━━━┓\n",
              "┃<span style=\"font-weight: bold\"> Layer (type)                         </span>┃<span style=\"font-weight: bold\"> Output Shape                </span>┃<span style=\"font-weight: bold\">         Param # </span>┃\n",
              "┡━━━━━━━━━━━━━━━━━━━━━━━━━━━━━━━━━━━━━━╇━━━━━━━━━━━━━━━━━━━━━━━━━━━━━╇━━━━━━━━━━━━━━━━━┩\n",
              "│ embedding_6 (<span style=\"color: #0087ff; text-decoration-color: #0087ff\">Embedding</span>)              │ (<span style=\"color: #00d7ff; text-decoration-color: #00d7ff\">None</span>, <span style=\"color: #00af00; text-decoration-color: #00af00\">200</span>, <span style=\"color: #00af00; text-decoration-color: #00af00\">10</span>)             │         <span style=\"color: #00af00; text-decoration-color: #00af00\">200,000</span> │\n",
              "├──────────────────────────────────────┼─────────────────────────────┼─────────────────┤\n",
              "│ flatten_1 (<span style=\"color: #0087ff; text-decoration-color: #0087ff\">Flatten</span>)                  │ (<span style=\"color: #00d7ff; text-decoration-color: #00d7ff\">None</span>, <span style=\"color: #00af00; text-decoration-color: #00af00\">2000</span>)                │               <span style=\"color: #00af00; text-decoration-color: #00af00\">0</span> │\n",
              "├──────────────────────────────────────┼─────────────────────────────┼─────────────────┤\n",
              "│ dense_24 (<span style=\"color: #0087ff; text-decoration-color: #0087ff\">Dense</span>)                     │ (<span style=\"color: #00d7ff; text-decoration-color: #00d7ff\">None</span>, <span style=\"color: #00af00; text-decoration-color: #00af00\">512</span>)                 │       <span style=\"color: #00af00; text-decoration-color: #00af00\">1,024,512</span> │\n",
              "├──────────────────────────────────────┼─────────────────────────────┼─────────────────┤\n",
              "│ dropout_1 (<span style=\"color: #0087ff; text-decoration-color: #0087ff\">Dropout</span>)                  │ (<span style=\"color: #00d7ff; text-decoration-color: #00d7ff\">None</span>, <span style=\"color: #00af00; text-decoration-color: #00af00\">512</span>)                 │               <span style=\"color: #00af00; text-decoration-color: #00af00\">0</span> │\n",
              "├──────────────────────────────────────┼─────────────────────────────┼─────────────────┤\n",
              "│ dense_25 (<span style=\"color: #0087ff; text-decoration-color: #0087ff\">Dense</span>)                     │ (<span style=\"color: #00d7ff; text-decoration-color: #00d7ff\">None</span>, <span style=\"color: #00af00; text-decoration-color: #00af00\">20</span>)                  │          <span style=\"color: #00af00; text-decoration-color: #00af00\">10,260</span> │\n",
              "└──────────────────────────────────────┴─────────────────────────────┴─────────────────┘\n",
              "</pre>\n"
            ]
          },
          "metadata": {}
        },
        {
          "output_type": "display_data",
          "data": {
            "text/plain": [
              "\u001b[1m Total params: \u001b[0m\u001b[38;5;34m2,469,546\u001b[0m (9.42 MB)\n"
            ],
            "text/html": [
              "<pre style=\"white-space:pre;overflow-x:auto;line-height:normal;font-family:Menlo,'DejaVu Sans Mono',consolas,'Courier New',monospace\"><span style=\"font-weight: bold\"> Total params: </span><span style=\"color: #00af00; text-decoration-color: #00af00\">2,469,546</span> (9.42 MB)\n",
              "</pre>\n"
            ]
          },
          "metadata": {}
        },
        {
          "output_type": "display_data",
          "data": {
            "text/plain": [
              "\u001b[1m Trainable params: \u001b[0m\u001b[38;5;34m1,234,772\u001b[0m (4.71 MB)\n"
            ],
            "text/html": [
              "<pre style=\"white-space:pre;overflow-x:auto;line-height:normal;font-family:Menlo,'DejaVu Sans Mono',consolas,'Courier New',monospace\"><span style=\"font-weight: bold\"> Trainable params: </span><span style=\"color: #00af00; text-decoration-color: #00af00\">1,234,772</span> (4.71 MB)\n",
              "</pre>\n"
            ]
          },
          "metadata": {}
        },
        {
          "output_type": "display_data",
          "data": {
            "text/plain": [
              "\u001b[1m Non-trainable params: \u001b[0m\u001b[38;5;34m0\u001b[0m (0.00 B)\n"
            ],
            "text/html": [
              "<pre style=\"white-space:pre;overflow-x:auto;line-height:normal;font-family:Menlo,'DejaVu Sans Mono',consolas,'Courier New',monospace\"><span style=\"font-weight: bold\"> Non-trainable params: </span><span style=\"color: #00af00; text-decoration-color: #00af00\">0</span> (0.00 B)\n",
              "</pre>\n"
            ]
          },
          "metadata": {}
        },
        {
          "output_type": "display_data",
          "data": {
            "text/plain": [
              "\u001b[1m Optimizer params: \u001b[0m\u001b[38;5;34m1,234,774\u001b[0m (4.71 MB)\n"
            ],
            "text/html": [
              "<pre style=\"white-space:pre;overflow-x:auto;line-height:normal;font-family:Menlo,'DejaVu Sans Mono',consolas,'Courier New',monospace\"><span style=\"font-weight: bold\"> Optimizer params: </span><span style=\"color: #00af00; text-decoration-color: #00af00\">1,234,774</span> (4.71 MB)\n",
              "</pre>\n"
            ]
          },
          "metadata": {}
        },
        {
          "output_type": "stream",
          "name": "stdout",
          "text": [
            "None\n"
          ]
        }
      ],
      "source": [
        "modeloClasico.compile(optimizer='adam', loss='binary_crossentropy', metrics=['accuracy'])\n",
        "modeloClasico.compile(loss=\"sparse_categorical_crossentropy\", optimizer=\"rmsprop\", metrics=[\"acc\"])\n",
        "modeloClasico.fit(x_train, y_train, batch_size=128, epochs=20, validation_data=(x_val, y_val))\n",
        "print(modeloClasico.summary())"
      ]
    },
    {
      "cell_type": "markdown",
      "metadata": {
        "id": "v4x_4eXJVrnX"
      },
      "source": [
        "# Evaluación"
      ]
    },
    {
      "cell_type": "code",
      "execution_count": 79,
      "metadata": {
        "id": "fgg7KnoioNYc"
      },
      "outputs": [],
      "source": [
        "string_input = keras.Input(shape=(1,), dtype=\"string\")\n",
        "x = vectorizer(string_input)\n",
        "preds = modeloClasico(x)\n",
        "end_to_end_model = keras.Model(string_input, preds)"
      ]
    },
    {
      "cell_type": "code",
      "execution_count": 80,
      "metadata": {
        "id": "QByfYDv4rGqv",
        "colab": {
          "base_uri": "https://localhost:8080/"
        },
        "outputId": "0c8f81a5-eb81-4931-94ba-f426b3fbd15a"
      },
      "outputs": [
        {
          "output_type": "stream",
          "name": "stdout",
          "text": [
            "comp.graphics\n"
          ]
        }
      ],
      "source": [
        "probabilities = end_to_end_model(\n",
        "    keras.ops.convert_to_tensor(\n",
        "        [[\"this message is about computer graphics and 3D modeling\"]]\n",
        "    )\n",
        ")\n",
        "\n",
        "print(class_names[np.argmax(probabilities[0])])"
      ]
    },
    {
      "cell_type": "code",
      "execution_count": 81,
      "metadata": {
        "id": "QPwm4evKCBAe",
        "colab": {
          "base_uri": "https://localhost:8080/"
        },
        "outputId": "2feeb7c8-7ec0-4c5b-f410-38bc9d33829d"
      },
      "outputs": [
        {
          "output_type": "stream",
          "name": "stdout",
          "text": [
            "rec.sport.hockey\n"
          ]
        }
      ],
      "source": [
        "probabilities = end_to_end_model(\n",
        "    keras.ops.convert_to_tensor(\n",
        "        [[\"politics and federal courts law that people understand with politician and elects congressman\"]]\n",
        "    )\n",
        ")\n",
        "\n",
        "print(class_names[np.argmax(probabilities[0])])"
      ]
    },
    {
      "cell_type": "code",
      "execution_count": 82,
      "metadata": {
        "id": "R-EXfK6qoSAd",
        "colab": {
          "base_uri": "https://localhost:8080/"
        },
        "outputId": "228cb2ed-751c-4a53-f39f-2a5f5b9f179c"
      },
      "outputs": [
        {
          "output_type": "stream",
          "name": "stdout",
          "text": [
            "comp.sys.mac.hardware\n"
          ]
        }
      ],
      "source": [
        "probabilities = end_to_end_model(\n",
        "    keras.ops.convert_to_tensor(\n",
        "        [[\"we are talking about religion\"]]\n",
        "    )\n",
        ")\n",
        "\n",
        "print(class_names[np.argmax(probabilities[0])])"
      ]
    },
    {
      "cell_type": "markdown",
      "source": [
        "###Pregunta 8"
      ],
      "metadata": {
        "id": "lqokqbzB5ZZb"
      }
    },
    {
      "cell_type": "code",
      "source": [
        "import numpy as np\n",
        "import tensorflow as tf\n",
        "import matplotlib.pyplot as plt\n",
        "\n",
        "sequence_lengths = [100, 200, 300, 500, 1000]  # Distintas longitudes de truncamiento\n",
        "val_accuracies = []\n",
        "\n",
        "for seq_length in sequence_lengths:\n",
        "    vectorizer = tf.keras.layers.TextVectorization(\n",
        "        max_tokens=20000, output_mode=\"int\", output_sequence_length=seq_length\n",
        "    )\n",
        "\n",
        "\n",
        "    # Crear un modelo simple para evaluar\n",
        "    modelo = tf.keras.Sequential([\n",
        "        tf.keras.layers.Embedding(20000, 128),\n",
        "        tf.keras.layers.GlobalAveragePooling1D(),\n",
        "        tf.keras.layers.Dense(16, activation=\"relu\"),\n",
        "        tf.keras.layers.Dense(len(class_names), activation=\"softmax\")\n",
        "    ])\n",
        "\n",
        "    modelo.compile(loss=\"sparse_categorical_crossentropy\", optimizer=\"adam\", metrics=[\"accuracy\"])\n",
        "\n",
        "    # Entrenar el modelo\n",
        "    history = modelo.fit(x_train, y_train, epochs=5, batch_size=128, validation_data=(x_val, y_val), verbose=0)\n",
        "\n",
        "    # Guardar la precisión en validación\n",
        "    val_accuracies.append(history.history[\"val_accuracy\"][-1])\n",
        "\n",
        "# Graficar los resultados\n",
        "plt.plot(sequence_lengths, val_accuracies, marker=\"o\")\n",
        "plt.xlabel(\"Tamaño de output_sequence_length\")\n",
        "plt.ylabel(\"Precisión en validación\")\n",
        "plt.title(\"Impacto del Truncamiento en la Precisión\")\n",
        "plt.show()\n"
      ],
      "metadata": {
        "id": "nbhSJbX3OY9q",
        "colab": {
          "base_uri": "https://localhost:8080/",
          "height": 472
        },
        "outputId": "d566f059-b065-4b23-ed47-04fb3474234d"
      },
      "execution_count": 83,
      "outputs": [
        {
          "output_type": "display_data",
          "data": {
            "text/plain": [
              "<Figure size 640x480 with 1 Axes>"
            ],
            "image/png": "[encoded data removed]"
          },
          "metadata": {}
        }
      ]
    },
    {
      "cell_type": "code",
      "source": [
        "import spacy\n",
        "\n",
        "nlp = spacy.load(\"en_core_web_sm\")\n",
        "\n",
        "token_counts = [len(nlp(text)) for text in train_samples]\n",
        "\n",
        "for seq_length in sequence_lengths:\n",
        "    truncados = sum(1 for count in token_counts if count > seq_length)\n",
        "    porcentaje = truncados / len(token_counts) * 100\n",
        "    print(f\"Tamaño {seq_length}: {truncados} textos truncados ({porcentaje:.2f}%)\")\n"
      ],
      "metadata": {
        "colab": {
          "base_uri": "https://localhost:8080/"
        },
        "id": "erZ0EeaN5Yrw",
        "outputId": "47bd04e1-aefc-41d9-9d28-762076a687c8"
      },
      "execution_count": 84,
      "outputs": [
        {
          "output_type": "stream",
          "name": "stdout",
          "text": [
            "Tamaño 100: 10115 textos truncados (84.31%)\n",
            "Tamaño 200: 7084 textos truncados (59.04%)\n",
            "Tamaño 300: 4749 textos truncados (39.58%)\n",
            "Tamaño 500: 2264 textos truncados (18.87%)\n",
            "Tamaño 1000: 691 textos truncados (5.76%)\n"
          ]
        }
      ]
    },
    {
      "cell_type": "code",
      "source": [
        "def show_truncated_examples(seq_length):\n",
        "    for text in train_samples:\n",
        "        tokens = nlp(text)\n",
        "        if len(tokens) > seq_length:\n",
        "            print(\"Texto original:\")\n",
        "            print(text[:500])\n",
        "            print(\"\\nTexto truncado:\")\n",
        "            print(\" \".join([t.text for t in tokens[:seq_length]]))\n",
        "            print(\"=\"*80)\n",
        "            break\n",
        "\n",
        "show_truncated_examples(200)"
      ],
      "metadata": {
        "id": "vviKgZqs6IRh",
        "colab": {
          "base_uri": "https://localhost:8080/"
        },
        "outputId": "911fb497-dd25-4320-8840-7660ec60b0aa"
      },
      "execution_count": 85,
      "outputs": [
        {
          "output_type": "stream",
          "name": "stdout",
          "text": [
            "Texto original:\n",
            "X-Newsreader: TIN [version 1.1.8 PL6]\n",
            "Lines: 19\n",
            "\n",
            "arlen.r.martin (arm1@cbnewsm.cb.att.com) wrote:\n",
            ": Consumer Reports once wrote about the S-10 Blazer that it \"shook and rattled\n",
            ": like a tired taxi cab\".  There is one noise that is expecially irritating -\n",
            ": the back window squeaks.  I believe its because the whole tailgate assembly\n",
            ": and window are not solid.  Anyway, has anyone had the same problem, and have\n",
            ": you found any fixes?\n",
            ":\n",
            "\n",
            "I can relate to this. I've tried everything on my 86, greasing \n",
            "\n",
            "Texto truncado:\n",
            "X - Newsreader : TIN [ version 1.1.8 PL6 ] \n",
            " Lines : 19 \n",
            "\n",
            " arlen.r.martin ( arm1@cbnewsm.cb.att.com ) wrote : \n",
            " : Consumer Reports once wrote about the S-10 Blazer that it \" shook and rattled \n",
            " : like a tired taxi cab \" .   There is one noise that is expecially irritating - \n",
            " : the back window squeaks .   I believe its because the whole tailgate assembly \n",
            " : and window are not solid .   Anyway , has anyone had the same problem , and have \n",
            " : you found any fixes ? \n",
            " : \n",
            "\n",
            " I can relate to this . I 've tried everything on my 86 , greasing every point , \n",
            " WD40 , etc . Grease on the two cheap hinges on the tailgate seems to quiet it \n",
            " down for a time , until the grease works out of the hinges . ( Hinge pins appear \n",
            " to be made out of 16 penny nails ! ) \n",
            "\n",
            " Another vibration seems to get worse with age , and that is a vibration in the \n",
            " transmission in 4th gear . My S10 has 59 K miles on it .\n",
            "================================================================================\n"
          ]
        }
      ]
    },
    {
      "cell_type": "code",
      "source": [
        "import numpy as np\n",
        "import matplotlib.pyplot as plt\n",
        "from collections import Counter\n",
        "\n",
        "class_counts = Counter(y_train)\n",
        "\n",
        "sorted_classes = sorted(class_counts.keys(), key=lambda x: class_counts[x], reverse=True)\n",
        "sorted_counts = [class_counts[c] for c in sorted_classes]\n",
        "\n",
        "plt.figure(figsize=(12,5))\n",
        "plt.bar(range(len(sorted_classes)), sorted_counts, tick_label=[class_names[c] for c in sorted_classes])\n",
        "plt.xticks(rotation=90)\n",
        "plt.xlabel(\"Clases\")\n",
        "plt.ylabel(\"Cantidad de ejemplos\")\n",
        "plt.title(\"Distribución de clases en el conjunto de entrenamiento\")\n",
        "plt.show()\n"
      ],
      "metadata": {
        "id": "8I4-Cg1w7BiD",
        "colab": {
          "base_uri": "https://localhost:8080/",
          "height": 643
        },
        "outputId": "f776e513-c5d4-49af-ccfd-ebee2dee3fc3"
      },
      "execution_count": 86,
      "outputs": [
        {
          "output_type": "display_data",
          "data": {
            "text/plain": [
              "<Figure size 1200x500 with 1 Axes>"
            ],
            "image/png": "[encoded data removed]"
          },
          "metadata": {}
        }
      ]
    },
    {
      "cell_type": "code",
      "source": [
        "sorted_counts"
      ],
      "metadata": {
        "id": "b3DLmwwc7GMq",
        "colab": {
          "base_uri": "https://localhost:8080/"
        },
        "outputId": "7e23f6b1-15a3-477a-bac9-9a94e79285f7"
      },
      "execution_count": 87,
      "outputs": [
        {
          "output_type": "execute_result",
          "data": {
            "text/plain": [
              "[812, 811, 809, 807, 807, 807, 806, 806, 801, 800, 797, 789, 784, 782, 780]"
            ]
          },
          "metadata": {},
          "execution_count": 87
        }
      ]
    },
    {
      "cell_type": "markdown",
      "source": [
        "####Analizar los valores de cada clase (desbalanceo)"
      ],
      "metadata": {
        "id": "zDtWVByd8LO_"
      }
    },
    {
      "cell_type": "code",
      "source": [
        "from sklearn.metrics import classification_report\n",
        "\n",
        "y_pred = modeloClasico.predict(x_val)\n",
        "y_pred_classes = np.argmax(y_pred, axis=1)\n",
        "\n",
        "print(classification_report(y_val, y_pred_classes, target_names=class_names))\n"
      ],
      "metadata": {
        "id": "W0gFY4AZ7KdL",
        "colab": {
          "base_uri": "https://localhost:8080/"
        },
        "outputId": "10eb7ad5-dceb-4557-a755-b3d70887ac9f"
      },
      "execution_count": 88,
      "outputs": [
        {
          "output_type": "stream",
          "name": "stdout",
          "text": [
            "\u001b[1m94/94\u001b[0m \u001b[32m━━━━━━━━━━━━━━━━━━━━\u001b[0m\u001b[37m\u001b[0m \u001b[1m0s\u001b[0m 4ms/step\n",
            "                        precision    recall  f1-score   support\n",
            "\n",
            "           alt.atheism       0.60      0.47      0.53       220\n",
            "         comp.graphics       0.72      0.55      0.62       188\n",
            " comp.sys.mac.hardware       0.70      0.79      0.74       218\n",
            "        comp.windows.x       0.70      0.80      0.75       200\n",
            "          misc.forsale       0.82      0.75      0.79       194\n",
            "             rec.autos       0.79      0.75      0.77       216\n",
            "    rec.sport.baseball       0.80      0.76      0.78       189\n",
            "      rec.sport.hockey       0.84      0.87      0.86       203\n",
            "             sci.crypt       0.92      0.73      0.81       194\n",
            "               sci.med       0.61      0.72      0.66       211\n",
            "             sci.space       0.75      0.81      0.78       193\n",
            "soc.religion.christian       0.74      0.74      0.74       196\n",
            "    talk.politics.guns       0.55      0.57      0.56       191\n",
            "    talk.politics.misc       0.49      0.58      0.53       193\n",
            "    talk.religion.misc       0.33      0.36      0.34       193\n",
            "\n",
            "              accuracy                           0.68      2999\n",
            "             macro avg       0.69      0.68      0.68      2999\n",
            "          weighted avg       0.69      0.68      0.68      2999\n",
            "\n"
          ]
        }
      ]
    },
    {
      "cell_type": "markdown",
      "source": [
        "####Textos ambiguos"
      ],
      "metadata": {
        "id": "WnSYVgli-KLj"
      }
    },
    {
      "cell_type": "code",
      "source": [
        "test_texts = [\n",
        "    \"Este coche es una bestia\",\n",
        "    \"Los gráficos de este partido son impresionantes\",\n",
        "    \"Las vacunas pueden cambiar el mundo\",\n",
        "    \"Gané la lotería, pero solo fueron 5 dólares...\",\n",
        "    \"Este código está tan limpio que podría comer sobre él\",\n",
        "]\n",
        "\n",
        "probabilities = end_to_end_model(keras.ops.convert_to_tensor([[text] for text in test_texts]))\n",
        "\n",
        "for text, prob in zip(test_texts, probabilities):\n",
        "    print(f\"Texto: {text}\")\n",
        "    print(f\"Predicción: {class_names[np.argmax(prob)]}\")\n",
        "    print(\"-\" * 50)\n"
      ],
      "metadata": {
        "id": "s09GkwkI7rvN",
        "colab": {
          "base_uri": "https://localhost:8080/"
        },
        "outputId": "52ce9746-4187-4e7a-c345-cc7751a2fd5b"
      },
      "execution_count": 89,
      "outputs": [
        {
          "output_type": "stream",
          "name": "stdout",
          "text": [
            "Texto: Este coche es una bestia\n",
            "Predicción: comp.sys.mac.hardware\n",
            "--------------------------------------------------\n",
            "Texto: Los gráficos de este partido son impresionantes\n",
            "Predicción: comp.sys.mac.hardware\n",
            "--------------------------------------------------\n",
            "Texto: Las vacunas pueden cambiar el mundo\n",
            "Predicción: comp.sys.mac.hardware\n",
            "--------------------------------------------------\n",
            "Texto: Gané la lotería, pero solo fueron 5 dólares...\n",
            "Predicción: misc.forsale\n",
            "--------------------------------------------------\n",
            "Texto: Este código está tan limpio que podría comer sobre él\n",
            "Predicción: comp.graphics\n",
            "--------------------------------------------------\n"
          ]
        }
      ]
    },
    {
      "cell_type": "code",
      "source": [
        "sarc_texts = [\n",
        "    \"¡Oh, claro! Seguro que la tierra es plana.\",\n",
        "    \"Este nuevo sistema operativo nunca falla... excepto cuando lo usas.\",\n",
        "    \"Nada mejor que un lunes por la mañana\",\n",
        "]\n",
        "\n",
        "probabilities = end_to_end_model(keras.ops.convert_to_tensor([[text] for text in sarc_texts]))\n",
        "\n",
        "for text, prob in zip(sarc_texts, probabilities):\n",
        "    print(f\"Texto: {text}\")\n",
        "    print(f\"Predicción: {class_names[np.argmax(prob)]}\")\n",
        "    print(\"-\" * 50)\n"
      ],
      "metadata": {
        "id": "zOARykBN-MSE",
        "colab": {
          "base_uri": "https://localhost:8080/"
        },
        "outputId": "032dc192-835d-4ece-fc0a-a9012607a1c9"
      },
      "execution_count": 90,
      "outputs": [
        {
          "output_type": "stream",
          "name": "stdout",
          "text": [
            "Texto: ¡Oh, claro! Seguro que la tierra es plana.\n",
            "Predicción: comp.sys.mac.hardware\n",
            "--------------------------------------------------\n",
            "Texto: Este nuevo sistema operativo nunca falla... excepto cuando lo usas.\n",
            "Predicción: comp.graphics\n",
            "--------------------------------------------------\n",
            "Texto: Nada mejor que un lunes por la mañana\n",
            "Predicción: misc.forsale\n",
            "--------------------------------------------------\n"
          ]
        }
      ]
    },
    {
      "cell_type": "markdown",
      "source": [
        "####Distintos tamaños"
      ],
      "metadata": {
        "id": "AhFEvSgbDqhm"
      }
    },
    {
      "cell_type": "code",
      "source": [
        "import numpy as np\n",
        "\n",
        "# Definir los porcentajes que queremos probar\n",
        "data_sizes = [0.1, 0.3, 0.5, 1.0]  # 10%, 30%, 50%, 100%\n",
        "\n",
        "# Guardar los resultados de precisión en validación\n",
        "results = {}\n",
        "\n",
        "for size in data_sizes:\n",
        "    print(f\"\\n🔹 Entrenando con {int(size * 100)}% de los datos...\\n\")\n",
        "\n",
        "    # Seleccionar una fracción del dataset\n",
        "    num_samples = int(len(x_train) * size)\n",
        "    x_train_subset, y_train_subset = x_train[:num_samples], y_train[:num_samples]\n",
        "\n",
        "    # Crear un nuevo modelo (para que no arrastre pesos previos)\n",
        "    modelo = keras.models.clone_model(modeloClasico)\n",
        "    modelo.compile(optimizer='adam', loss='sparse_categorical_crossentropy', metrics=['accuracy'])\n",
        "\n",
        "    # Entrenar con el subconjunto de datos\n",
        "    history = modelo.fit(\n",
        "        x_train_subset, y_train_subset,\n",
        "        batch_size=128,\n",
        "        epochs=10,  # Puedes ajustar el número de épocas\n",
        "        validation_data=(x_val, y_val),\n",
        "        verbose=1\n",
        "    )\n",
        "\n",
        "    # Guardar la precisión final en validación\n",
        "    val_acc = history.history[\"val_accuracy\"][-1]\n",
        "    results[f\"{int(size * 100)}%\"] = val_acc\n"
      ],
      "metadata": {
        "id": "y9k92GWbAWPS",
        "colab": {
          "base_uri": "https://localhost:8080/"
        },
        "outputId": "53df2265-f6a2-4bb5-9b85-b06118d7f21f"
      },
      "execution_count": 91,
      "outputs": [
        {
          "output_type": "stream",
          "name": "stdout",
          "text": [
            "\n",
            "🔹 Entrenando con 10% de los datos...\n",
            "\n",
            "Epoch 1/10\n",
            "\u001b[1m10/10\u001b[0m \u001b[32m━━━━━━━━━━━━━━━━━━━━\u001b[0m\u001b[37m\u001b[0m \u001b[1m3s\u001b[0m 126ms/step - accuracy: 0.0701 - loss: 2.9594 - val_accuracy: 0.0710 - val_loss: 2.8395\n",
            "Epoch 2/10\n",
            "\u001b[1m10/10\u001b[0m \u001b[32m━━━━━━━━━━━━━━━━━━━━\u001b[0m\u001b[37m\u001b[0m \u001b[1m1s\u001b[0m 128ms/step - accuracy: 0.3965 - loss: 2.7314 - val_accuracy: 0.1077 - val_loss: 2.7524\n",
            "Epoch 3/10\n",
            "\u001b[1m10/10\u001b[0m \u001b[32m━━━━━━━━━━━━━━━━━━━━\u001b[0m\u001b[37m\u001b[0m \u001b[1m1s\u001b[0m 59ms/step - accuracy: 0.4833 - loss: 2.5891 - val_accuracy: 0.1067 - val_loss: 2.7086\n",
            "Epoch 4/10\n",
            "\u001b[1m10/10\u001b[0m \u001b[32m━━━━━━━━━━━━━━━━━━━━\u001b[0m\u001b[37m\u001b[0m \u001b[1m1s\u001b[0m 68ms/step - accuracy: 0.5221 - loss: 2.4016 - val_accuracy: 0.1147 - val_loss: 2.6580\n",
            "Epoch 5/10\n",
            "\u001b[1m10/10\u001b[0m \u001b[32m━━━━━━━━━━━━━━━━━━━━\u001b[0m\u001b[37m\u001b[0m \u001b[1m1s\u001b[0m 69ms/step - accuracy: 0.6074 - loss: 2.0907 - val_accuracy: 0.1307 - val_loss: 2.6241\n",
            "Epoch 6/10\n",
            "\u001b[1m10/10\u001b[0m \u001b[32m━━━━━━━━━━━━━━━━━━━━\u001b[0m\u001b[37m\u001b[0m \u001b[1m1s\u001b[0m 68ms/step - accuracy: 0.7092 - loss: 1.6573 - val_accuracy: 0.1380 - val_loss: 2.6160\n",
            "Epoch 7/10\n",
            "\u001b[1m10/10\u001b[0m \u001b[32m━━━━━━━━━━━━━━━━━━━━\u001b[0m\u001b[37m\u001b[0m \u001b[1m1s\u001b[0m 68ms/step - accuracy: 0.7889 - loss: 1.1932 - val_accuracy: 0.1417 - val_loss: 2.6544\n",
            "Epoch 8/10\n",
            "\u001b[1m10/10\u001b[0m \u001b[32m━━━━━━━━━━━━━━━━━━━━\u001b[0m\u001b[37m\u001b[0m \u001b[1m1s\u001b[0m 67ms/step - accuracy: 0.8724 - loss: 0.7980 - val_accuracy: 0.1511 - val_loss: 2.7421\n",
            "Epoch 9/10\n",
            "\u001b[1m10/10\u001b[0m \u001b[32m━━━━━━━━━━━━━━━━━━━━\u001b[0m\u001b[37m\u001b[0m \u001b[1m1s\u001b[0m 70ms/step - accuracy: 0.9146 - loss: 0.5200 - val_accuracy: 0.1474 - val_loss: 2.8474\n",
            "Epoch 10/10\n",
            "\u001b[1m10/10\u001b[0m \u001b[32m━━━━━━━━━━━━━━━━━━━━\u001b[0m\u001b[37m\u001b[0m \u001b[1m1s\u001b[0m 68ms/step - accuracy: 0.9418 - loss: 0.3570 - val_accuracy: 0.1484 - val_loss: 2.9585\n",
            "\n",
            "🔹 Entrenando con 30% de los datos...\n",
            "\n",
            "Epoch 1/10\n",
            "\u001b[1m29/29\u001b[0m \u001b[32m━━━━━━━━━━━━━━━━━━━━\u001b[0m\u001b[37m\u001b[0m \u001b[1m3s\u001b[0m 73ms/step - accuracy: 0.0792 - loss: 2.8968 - val_accuracy: 0.1270 - val_loss: 2.7146\n",
            "Epoch 2/10\n",
            "\u001b[1m29/29\u001b[0m \u001b[32m━━━━━━━━━━━━━━━━━━━━\u001b[0m\u001b[37m\u001b[0m \u001b[1m2s\u001b[0m 61ms/step - accuracy: 0.2904 - loss: 2.5839 - val_accuracy: 0.1647 - val_loss: 2.5296\n",
            "Epoch 3/10\n",
            "\u001b[1m29/29\u001b[0m \u001b[32m━━━━━━━━━━━━━━━━━━━━\u001b[0m\u001b[37m\u001b[0m \u001b[1m2s\u001b[0m 43ms/step - accuracy: 0.3977 - loss: 2.1619 - val_accuracy: 0.2181 - val_loss: 2.3301\n",
            "Epoch 4/10\n",
            "\u001b[1m29/29\u001b[0m \u001b[32m━━━━━━━━━━━━━━━━━━━━\u001b[0m\u001b[37m\u001b[0m \u001b[1m1s\u001b[0m 43ms/step - accuracy: 0.6311 - loss: 1.5247 - val_accuracy: 0.2544 - val_loss: 2.1964\n",
            "Epoch 5/10\n",
            "\u001b[1m29/29\u001b[0m \u001b[32m━━━━━━━━━━━━━━━━━━━━\u001b[0m\u001b[37m\u001b[0m \u001b[1m1s\u001b[0m 40ms/step - accuracy: 0.8004 - loss: 0.9250 - val_accuracy: 0.2811 - val_loss: 2.1948\n",
            "Epoch 6/10\n",
            "\u001b[1m29/29\u001b[0m \u001b[32m━━━━━━━━━━━━━━━━━━━━\u001b[0m\u001b[37m\u001b[0m \u001b[1m1s\u001b[0m 39ms/step - accuracy: 0.8770 - loss: 0.5626 - val_accuracy: 0.2841 - val_loss: 2.2862\n",
            "Epoch 7/10\n",
            "\u001b[1m29/29\u001b[0m \u001b[32m━━━━━━━━━━━━━━━━━━━━\u001b[0m\u001b[37m\u001b[0m \u001b[1m1s\u001b[0m 40ms/step - accuracy: 0.9231 - loss: 0.3777 - val_accuracy: 0.2911 - val_loss: 2.3568\n",
            "Epoch 8/10\n",
            "\u001b[1m29/29\u001b[0m \u001b[32m━━━━━━━━━━━━━━━━━━━━\u001b[0m\u001b[37m\u001b[0m \u001b[1m1s\u001b[0m 43ms/step - accuracy: 0.9431 - loss: 0.2809 - val_accuracy: 0.2764 - val_loss: 2.4979\n",
            "Epoch 9/10\n",
            "\u001b[1m29/29\u001b[0m \u001b[32m━━━━━━━━━━━━━━━━━━━━\u001b[0m\u001b[37m\u001b[0m \u001b[1m1s\u001b[0m 40ms/step - accuracy: 0.9578 - loss: 0.2058 - val_accuracy: 0.2934 - val_loss: 2.5300\n",
            "Epoch 10/10\n",
            "\u001b[1m29/29\u001b[0m \u001b[32m━━━━━━━━━━━━━━━━━━━━\u001b[0m\u001b[37m\u001b[0m \u001b[1m2s\u001b[0m 75ms/step - accuracy: 0.9703 - loss: 0.1465 - val_accuracy: 0.2998 - val_loss: 2.5923\n",
            "\n",
            "🔹 Entrenando con 50% de los datos...\n",
            "\n",
            "Epoch 1/10\n",
            "\u001b[1m47/47\u001b[0m \u001b[32m━━━━━━━━━━━━━━━━━━━━\u001b[0m\u001b[37m\u001b[0m \u001b[1m3s\u001b[0m 43ms/step - accuracy: 0.0900 - loss: 2.8588 - val_accuracy: 0.1134 - val_loss: 2.5965\n",
            "Epoch 2/10\n",
            "\u001b[1m47/47\u001b[0m \u001b[32m━━━━━━━━━━━━━━━━━━━━\u001b[0m\u001b[37m\u001b[0m \u001b[1m2s\u001b[0m 39ms/step - accuracy: 0.2521 - loss: 2.3956 - val_accuracy: 0.2608 - val_loss: 2.1632\n",
            "Epoch 3/10\n",
            "\u001b[1m47/47\u001b[0m \u001b[32m━━━━━━━━━━━━━━━━━━━━\u001b[0m\u001b[37m\u001b[0m \u001b[1m2s\u001b[0m 39ms/step - accuracy: 0.5135 - loss: 1.6671 - val_accuracy: 0.3645 - val_loss: 1.8100\n",
            "Epoch 4/10\n",
            "\u001b[1m47/47\u001b[0m \u001b[32m━━━━━━━━━━━━━━━━━━━━\u001b[0m\u001b[37m\u001b[0m \u001b[1m3s\u001b[0m 39ms/step - accuracy: 0.7259 - loss: 1.0122 - val_accuracy: 0.4211 - val_loss: 1.6816\n",
            "Epoch 5/10\n",
            "\u001b[1m47/47\u001b[0m \u001b[32m━━━━━━━━━━━━━━━━━━━━\u001b[0m\u001b[37m\u001b[0m \u001b[1m7s\u001b[0m 126ms/step - accuracy: 0.8487 - loss: 0.5985 - val_accuracy: 0.4525 - val_loss: 1.6195\n",
            "Epoch 6/10\n",
            "\u001b[1m47/47\u001b[0m \u001b[32m━━━━━━━━━━━━━━━━━━━━\u001b[0m\u001b[37m\u001b[0m \u001b[1m6s\u001b[0m 37ms/step - accuracy: 0.9173 - loss: 0.3640 - val_accuracy: 0.4585 - val_loss: 1.6396\n",
            "Epoch 7/10\n",
            "\u001b[1m47/47\u001b[0m \u001b[32m━━━━━━━━━━━━━━━━━━━━\u001b[0m\u001b[37m\u001b[0m \u001b[1m2s\u001b[0m 36ms/step - accuracy: 0.9491 - loss: 0.2543 - val_accuracy: 0.4695 - val_loss: 1.6457\n",
            "Epoch 8/10\n",
            "\u001b[1m47/47\u001b[0m \u001b[32m━━━━━━━━━━━━━━━━━━━━\u001b[0m\u001b[37m\u001b[0m \u001b[1m3s\u001b[0m 55ms/step - accuracy: 0.9554 - loss: 0.1872 - val_accuracy: 0.4692 - val_loss: 1.6730\n",
            "Epoch 9/10\n",
            "\u001b[1m47/47\u001b[0m \u001b[32m━━━━━━━━━━━━━━━━━━━━\u001b[0m\u001b[37m\u001b[0m \u001b[1m3s\u001b[0m 62ms/step - accuracy: 0.9636 - loss: 0.1483 - val_accuracy: 0.4882 - val_loss: 1.6851\n",
            "Epoch 10/10\n",
            "\u001b[1m47/47\u001b[0m \u001b[32m━━━━━━━━━━━━━━━━━━━━\u001b[0m\u001b[37m\u001b[0m \u001b[1m4s\u001b[0m 39ms/step - accuracy: 0.9678 - loss: 0.1193 - val_accuracy: 0.4985 - val_loss: 1.7002\n",
            "\n",
            "🔹 Entrenando con 100% de los datos...\n",
            "\n",
            "Epoch 1/10\n",
            "\u001b[1m94/94\u001b[0m \u001b[32m━━━━━━━━━━━━━━━━━━━━\u001b[0m\u001b[37m\u001b[0m \u001b[1m5s\u001b[0m 36ms/step - accuracy: 0.1111 - loss: 2.7620 - val_accuracy: 0.2538 - val_loss: 2.1623\n",
            "Epoch 2/10\n",
            "\u001b[1m94/94\u001b[0m \u001b[32m━━━━━━━━━━━━━━━━━━━━\u001b[0m\u001b[37m\u001b[0m \u001b[1m6s\u001b[0m 44ms/step - accuracy: 0.3739 - loss: 1.8954 - val_accuracy: 0.5238 - val_loss: 1.4211\n",
            "Epoch 3/10\n",
            "\u001b[1m94/94\u001b[0m \u001b[32m━━━━━━━━━━━━━━━━━━━━\u001b[0m\u001b[37m\u001b[0m \u001b[1m4s\u001b[0m 35ms/step - accuracy: 0.6998 - loss: 0.9940 - val_accuracy: 0.6602 - val_loss: 0.9949\n",
            "Epoch 4/10\n",
            "\u001b[1m94/94\u001b[0m \u001b[32m━━━━━━━━━━━━━━━━━━━━\u001b[0m\u001b[37m\u001b[0m \u001b[1m3s\u001b[0m 35ms/step - accuracy: 0.8459 - loss: 0.5288 - val_accuracy: 0.6976 - val_loss: 0.8990\n",
            "Epoch 5/10\n",
            "\u001b[1m94/94\u001b[0m \u001b[32m━━━━━━━━━━━━━━━━━━━━\u001b[0m\u001b[37m\u001b[0m \u001b[1m5s\u001b[0m 55ms/step - accuracy: 0.9048 - loss: 0.3261 - val_accuracy: 0.7206 - val_loss: 0.8412\n",
            "Epoch 6/10\n",
            "\u001b[1m94/94\u001b[0m \u001b[32m━━━━━━━━━━━━━━━━━━━━\u001b[0m\u001b[37m\u001b[0m \u001b[1m3s\u001b[0m 36ms/step - accuracy: 0.9303 - loss: 0.2294 - val_accuracy: 0.7326 - val_loss: 0.8356\n",
            "Epoch 7/10\n",
            "\u001b[1m94/94\u001b[0m \u001b[32m━━━━━━━━━━━━━━━━━━━━\u001b[0m\u001b[37m\u001b[0m \u001b[1m5s\u001b[0m 36ms/step - accuracy: 0.9392 - loss: 0.1860 - val_accuracy: 0.7389 - val_loss: 0.8347\n",
            "Epoch 8/10\n",
            "\u001b[1m94/94\u001b[0m \u001b[32m━━━━━━━━━━━━━━━━━━━━\u001b[0m\u001b[37m\u001b[0m \u001b[1m6s\u001b[0m 47ms/step - accuracy: 0.9437 - loss: 0.1581 - val_accuracy: 0.7342 - val_loss: 0.8809\n",
            "Epoch 9/10\n",
            "\u001b[1m94/94\u001b[0m \u001b[32m━━━━━━━━━━━━━━━━━━━━\u001b[0m\u001b[37m\u001b[0m \u001b[1m3s\u001b[0m 36ms/step - accuracy: 0.9502 - loss: 0.1372 - val_accuracy: 0.7399 - val_loss: 0.8789\n",
            "Epoch 10/10\n",
            "\u001b[1m94/94\u001b[0m \u001b[32m━━━━━━━━━━━━━━━━━━━━\u001b[0m\u001b[37m\u001b[0m \u001b[1m3s\u001b[0m 35ms/step - accuracy: 0.9512 - loss: 0.1189 - val_accuracy: 0.7492 - val_loss: 0.8687\n"
          ]
        }
      ]
    },
    {
      "cell_type": "code",
      "source": [
        "import matplotlib.pyplot as plt\n",
        "\n",
        "# Convertir los datos a listas para graficar\n",
        "sizes = list(results.keys())\n",
        "accuracies = list(results.values())\n",
        "\n",
        "plt.figure(figsize=(8,5))\n",
        "plt.plot(sizes, accuracies, marker=\"o\", linestyle=\"--\", color=\"b\")\n",
        "plt.xlabel(\"Tamaño del conjunto de entrenamiento (%)\")\n",
        "plt.ylabel(\"Precisión en Validación\")\n",
        "plt.title(\"Impacto del Tamaño del Dataset en la Precisión\")\n",
        "plt.grid(True)\n",
        "plt.show()\n"
      ],
      "metadata": {
        "id": "Sf6Jbd8TDpmA",
        "colab": {
          "base_uri": "https://localhost:8080/",
          "height": 488
        },
        "outputId": "ad546507-864e-4d7d-8de6-f57c8e55fb84"
      },
      "execution_count": 92,
      "outputs": [
        {
          "output_type": "display_data",
          "data": {
            "text/plain": [
              "<Figure size 800x500 with 1 Axes>"
            ],
            "image/png": "[encoded data removed]"
          },
          "metadata": {}
        }
      ]
    }
  ],
  "metadata": {
    "accelerator": "GPU",
    "colab": {
      "provenance": [],
      "gpuType": "T4"
    },
    "kernelspec": {
      "display_name": "Python 3",
      "name": "python3"
    },
    "language_info": {
      "codemirror_mode": {
        "name": "ipython",
        "version": 3
      },
      "file_extension": ".py",
      "mimetype": "text/x-python",
      "name": "python",
      "nbconvert_exporter": "python",
      "pygments_lexer": "ipython3",
      "version": "3.11.5"
    }
  },
  "nbformat": 4,
  "nbformat_minor": 0
}