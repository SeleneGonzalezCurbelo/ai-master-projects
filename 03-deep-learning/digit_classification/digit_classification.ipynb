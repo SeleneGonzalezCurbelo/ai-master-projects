{
  "nbformat": 4,
  "nbformat_minor": 0,
  "metadata": {
    "colab": {
      "provenance": []
    },
    "kernelspec": {
      "name": "python3",
      "display_name": "Python 3"
    },
    "language_info": {
      "name": "python"
    }
  },
  "cells": [
    {
      "cell_type": "markdown",
      "metadata": {
        "id": "iiDzBoKGwmMZ"
      },
      "source": [
        "# REDES NEURONALES\n",
        "\n",
        "---\n",
        "\n",
        "\n",
        "\n",
        "En esta actividad vamos a utilizar una red neuronal para clasificar imágenes de dígitos del 0 al 9 escritos a mano. Para ello, utilizaremos Keras con TensorFlow.\n",
        "\n",
        "El dataset a utilizar es MNIST, una base de datos constituida por (como no) imágenes de dígitos escritos a mano. Este dataset es ampliamente utilizado en docencia como punto de entrada al entrenamiento de redes neuronales y otros, pero también es muy utilizado en trabajos reales de investigación para el entrenamiento de imágenes. Puedes consultar más información sobre el dataset en [este enlace](https://es.wikipedia.org/wiki/Base_de_datos_MNIST).\n",
        "\n",
        "El código utilizado para contestar tiene que quedar claramente reflejado en el Notebook. Puedes crear nuevas celdas si así lo deseas para estructurar tu código y sus salidas. A la hora de entregar el notebook, **asegúrate de que los resultados de ejecutar tu código han quedado guardados y que son perfectamente visibles en la versión PDF que debes entregar adjunta**. Por ejemplo, a la hora de entrenar una red neuronal tiene que verse claramente un log de los resultados de cada epoch."
      ]
    },
    {
      "cell_type": "code",
      "metadata": {
        "id": "gSHr268SwmMa"
      },
      "source": [
        "from keras.datasets.mnist import load_data\n",
        "import tensorflow as tf\n",
        "import matplotlib.pyplot as plt"
      ],
      "execution_count": 6,
      "outputs": []
    },
    {
      "cell_type": "markdown",
      "metadata": {
        "id": "zScMKU2OKSPD"
      },
      "source": [
        "Tenemos la suerte de que el dataset MNIST, el que vamos a utilizar en esta actividad, está guardado en Keras, por lo que podemos utilizarlo sin necesidad de buscar el dataset de forma externa."
      ]
    },
    {
      "cell_type": "code",
      "metadata": {
        "id": "4voG2hxxG4h3"
      },
      "source": [
        "mnist = tf.keras.datasets.fashion_mnist"
      ],
      "execution_count": 7,
      "outputs": []
    },
    {
      "cell_type": "markdown",
      "metadata": {
        "id": "JphLsCvgKrzb"
      },
      "source": [
        "Llamar a **load_data** en este dataset nos dará dos conjuntos de dos listas, estos serán los valores de entrenamiento y prueba para los gráficos que contienen los dígitos y sus etiquetas.\n",
        "\n",
        "Nota: Aunque en esta actividad lo veis de esta forma, también lo vais a poder encontrar como 4 variables de esta forma: training_images, training_labels, test_images, test_labels = mnist.load_data()"
      ]
    },
    {
      "cell_type": "code",
      "metadata": {
        "id": "1muD4PHEG4h6"
      },
      "source": [
        "(training_images, training_labels), (test_images, test_labels) = load_data()"
      ],
      "execution_count": 8,
      "outputs": []
    },
    {
      "cell_type": "markdown",
      "metadata": {
        "id": "ZWGpJqVVLT3Y"
      },
      "source": [
        "Antes de continuar vamos a dar un vistazo a nuestro dataset, para ello vamos a ver una imagen de entrenamiento y su etiqueta o clase."
      ]
    },
    {
      "cell_type": "code",
      "metadata": {
        "id": "t5a5PlswG4h8",
        "colab": {
          "base_uri": "https://localhost:8080/",
          "height": 933
        },
        "outputId": "b009b116-cff2-42c2-fb5b-b5a0ffc06f65"
      },
      "source": [
        "import numpy as np\n",
        "np.set_printoptions(linewidth=200)\n",
        "plt.imshow(training_images[0], cmap=\"gray\")\n",
        "print(training_labels[0])\n",
        "print(training_images[0])"
      ],
      "execution_count": 9,
      "outputs": [
        {
          "output_type": "stream",
          "name": "stdout",
          "text": [
            "5\n",
            "[[  0   0   0   0   0   0   0   0   0   0   0   0   0   0   0   0   0   0   0   0   0   0   0   0   0   0   0   0]\n",
            " [  0   0   0   0   0   0   0   0   0   0   0   0   0   0   0   0   0   0   0   0   0   0   0   0   0   0   0   0]\n",
            " [  0   0   0   0   0   0   0   0   0   0   0   0   0   0   0   0   0   0   0   0   0   0   0   0   0   0   0   0]\n",
            " [  0   0   0   0   0   0   0   0   0   0   0   0   0   0   0   0   0   0   0   0   0   0   0   0   0   0   0   0]\n",
            " [  0   0   0   0   0   0   0   0   0   0   0   0   0   0   0   0   0   0   0   0   0   0   0   0   0   0   0   0]\n",
            " [  0   0   0   0   0   0   0   0   0   0   0   0   3  18  18  18 126 136 175  26 166 255 247 127   0   0   0   0]\n",
            " [  0   0   0   0   0   0   0   0  30  36  94 154 170 253 253 253 253 253 225 172 253 242 195  64   0   0   0   0]\n",
            " [  0   0   0   0   0   0   0  49 238 253 253 253 253 253 253 253 253 251  93  82  82  56  39   0   0   0   0   0]\n",
            " [  0   0   0   0   0   0   0  18 219 253 253 253 253 253 198 182 247 241   0   0   0   0   0   0   0   0   0   0]\n",
            " [  0   0   0   0   0   0   0   0  80 156 107 253 253 205  11   0  43 154   0   0   0   0   0   0   0   0   0   0]\n",
            " [  0   0   0   0   0   0   0   0   0  14   1 154 253  90   0   0   0   0   0   0   0   0   0   0   0   0   0   0]\n",
            " [  0   0   0   0   0   0   0   0   0   0   0 139 253 190   2   0   0   0   0   0   0   0   0   0   0   0   0   0]\n",
            " [  0   0   0   0   0   0   0   0   0   0   0  11 190 253  70   0   0   0   0   0   0   0   0   0   0   0   0   0]\n",
            " [  0   0   0   0   0   0   0   0   0   0   0   0  35 241 225 160 108   1   0   0   0   0   0   0   0   0   0   0]\n",
            " [  0   0   0   0   0   0   0   0   0   0   0   0   0  81 240 253 253 119  25   0   0   0   0   0   0   0   0   0]\n",
            " [  0   0   0   0   0   0   0   0   0   0   0   0   0   0  45 186 253 253 150  27   0   0   0   0   0   0   0   0]\n",
            " [  0   0   0   0   0   0   0   0   0   0   0   0   0   0   0  16  93 252 253 187   0   0   0   0   0   0   0   0]\n",
            " [  0   0   0   0   0   0   0   0   0   0   0   0   0   0   0   0   0 249 253 249  64   0   0   0   0   0   0   0]\n",
            " [  0   0   0   0   0   0   0   0   0   0   0   0   0   0  46 130 183 253 253 207   2   0   0   0   0   0   0   0]\n",
            " [  0   0   0   0   0   0   0   0   0   0   0   0  39 148 229 253 253 253 250 182   0   0   0   0   0   0   0   0]\n",
            " [  0   0   0   0   0   0   0   0   0   0  24 114 221 253 253 253 253 201  78   0   0   0   0   0   0   0   0   0]\n",
            " [  0   0   0   0   0   0   0   0  23  66 213 253 253 253 253 198  81   2   0   0   0   0   0   0   0   0   0   0]\n",
            " [  0   0   0   0   0   0  18 171 219 253 253 253 253 195  80   9   0   0   0   0   0   0   0   0   0   0   0   0]\n",
            " [  0   0   0   0  55 172 226 253 253 253 253 244 133  11   0   0   0   0   0   0   0   0   0   0   0   0   0   0]\n",
            " [  0   0   0   0 136 253 253 253 212 135 132  16   0   0   0   0   0   0   0   0   0   0   0   0   0   0   0   0]\n",
            " [  0   0   0   0   0   0   0   0   0   0   0   0   0   0   0   0   0   0   0   0   0   0   0   0   0   0   0   0]\n",
            " [  0   0   0   0   0   0   0   0   0   0   0   0   0   0   0   0   0   0   0   0   0   0   0   0   0   0   0   0]\n",
            " [  0   0   0   0   0   0   0   0   0   0   0   0   0   0   0   0   0   0   0   0   0   0   0   0   0   0   0   0]]\n"
          ]
        },
        {
          "output_type": "display_data",
          "data": {
            "text/plain": [
              "<Figure size 640x480 with 1 Axes>"
            ],
            "image/png": "[encoded data removed]"
          },
          "metadata": {}
        }
      ]
    },
    {
      "cell_type": "markdown",
      "metadata": {
        "id": "BaqXlSMBwmMg"
      },
      "source": [
        "## 1. Información sobre el dataset"
      ]
    },
    {
      "cell_type": "markdown",
      "metadata": {
        "id": "e0aer8ZZwmMh"
      },
      "source": [
        "Una vez tenemos los datos cargados en memoria, vamos a obtener información sobre los mismos."
      ]
    },
    {
      "cell_type": "markdown",
      "metadata": {
        "id": "E-im9PnEwmMh"
      },
      "source": [
        "**Pregunta 1.1 *(0.25 puntos)*** ¿Cuántas imágenes hay de *training* y de *test*? ¿Qué tamaño tienen las imágenes?"
      ]
    },
    {
      "cell_type": "code",
      "metadata": {
        "id": "lvP0Y4SCwmMi",
        "colab": {
          "base_uri": "https://localhost:8080/"
        },
        "outputId": "e16a0df0-ad56-4cba-f7ec-41ce60cbe7ad"
      },
      "source": [
        "### Tu código aquí ###\n",
        "print(f\"En el conjunto de datos hay {training_images.shape[0]} imágenes en training y {test_images.shape[0]} en test\")\n",
        "print(f\"Tamaño de cada imagen de train {training_images.shape[1:]} y de test {test_images.shape[1:]}\")"
      ],
      "execution_count": 10,
      "outputs": [
        {
          "output_type": "stream",
          "name": "stdout",
          "text": [
            "En el conjunto de datos hay 60000 imágenes en training y 10000 en test\n",
            "Tamaño de cada imagen de train (28, 28) y de test (28, 28)\n"
          ]
        }
      ]
    },
    {
      "cell_type": "markdown",
      "metadata": {
        "id": "Xwp5ljFKwmMj"
      },
      "source": [
        "*Tu respuesta aquí*\n",
        "\n",
        "- **Número de imágenes en el conjunto de entrenamiento:** 60,000  \n",
        "- **Número de imágenes en el conjunto de test:** 10,000  \n",
        "- **Tamaño de cada imagen:** 28 x 28 píxeles  "
      ]
    },
    {
      "cell_type": "markdown",
      "metadata": {
        "id": "F2LsvfHOwmMk"
      },
      "source": [
        "**Pregunta 1.2 *(0.25 puntos)*** Realizar una exploración de las variables que contienen los datos. Describir en qué consiste un example del dataset (qué información se guarda en cada imagen) y describir qué contiene la información en y."
      ]
    },
    {
      "cell_type": "code",
      "metadata": {
        "id": "3W5rzaGxwmMk",
        "colab": {
          "base_uri": "https://localhost:8080/",
          "height": 1000
        },
        "outputId": "a6739531-4e5c-4ec2-f15c-7fbbd88fbe60"
      },
      "source": [
        "### Tu código aquí ###\n",
        "print(f\"Tipo de datos en training_images: {training_images.dtype}\")\n",
        "print(f\"Tipo de datos en training_labels: {training_labels.dtype}\")\n",
        "\n",
        "example_image = training_images[0]\n",
        "example_label = training_labels[0]\n",
        "\n",
        "print(\"\\nContenido de un ejemplo de imagen (training_images[0]):\")\n",
        "print(example_image)\n",
        "\n",
        "print(f\"\\nEtiqueta correspondiente a la imagen de ejemplo (training_labels[0]): {example_label}\")\n",
        "print(f\"Rango de valores: {training_labels.min()} - {training_labels.max()}\")\n",
        "\n",
        "plt.imshow(training_images[0], cmap='gray')\n",
        "plt.title(f\"Etiqueta: {training_labels[0]}\")\n",
        "plt.show()"
      ],
      "execution_count": 11,
      "outputs": [
        {
          "output_type": "stream",
          "name": "stdout",
          "text": [
            "Tipo de datos en training_images: uint8\n",
            "Tipo de datos en training_labels: uint8\n",
            "\n",
            "Contenido de un ejemplo de imagen (training_images[0]):\n",
            "[[  0   0   0   0   0   0   0   0   0   0   0   0   0   0   0   0   0   0   0   0   0   0   0   0   0   0   0   0]\n",
            " [  0   0   0   0   0   0   0   0   0   0   0   0   0   0   0   0   0   0   0   0   0   0   0   0   0   0   0   0]\n",
            " [  0   0   0   0   0   0   0   0   0   0   0   0   0   0   0   0   0   0   0   0   0   0   0   0   0   0   0   0]\n",
            " [  0   0   0   0   0   0   0   0   0   0   0   0   0   0   0   0   0   0   0   0   0   0   0   0   0   0   0   0]\n",
            " [  0   0   0   0   0   0   0   0   0   0   0   0   0   0   0   0   0   0   0   0   0   0   0   0   0   0   0   0]\n",
            " [  0   0   0   0   0   0   0   0   0   0   0   0   3  18  18  18 126 136 175  26 166 255 247 127   0   0   0   0]\n",
            " [  0   0   0   0   0   0   0   0  30  36  94 154 170 253 253 253 253 253 225 172 253 242 195  64   0   0   0   0]\n",
            " [  0   0   0   0   0   0   0  49 238 253 253 253 253 253 253 253 253 251  93  82  82  56  39   0   0   0   0   0]\n",
            " [  0   0   0   0   0   0   0  18 219 253 253 253 253 253 198 182 247 241   0   0   0   0   0   0   0   0   0   0]\n",
            " [  0   0   0   0   0   0   0   0  80 156 107 253 253 205  11   0  43 154   0   0   0   0   0   0   0   0   0   0]\n",
            " [  0   0   0   0   0   0   0   0   0  14   1 154 253  90   0   0   0   0   0   0   0   0   0   0   0   0   0   0]\n",
            " [  0   0   0   0   0   0   0   0   0   0   0 139 253 190   2   0   0   0   0   0   0   0   0   0   0   0   0   0]\n",
            " [  0   0   0   0   0   0   0   0   0   0   0  11 190 253  70   0   0   0   0   0   0   0   0   0   0   0   0   0]\n",
            " [  0   0   0   0   0   0   0   0   0   0   0   0  35 241 225 160 108   1   0   0   0   0   0   0   0   0   0   0]\n",
            " [  0   0   0   0   0   0   0   0   0   0   0   0   0  81 240 253 253 119  25   0   0   0   0   0   0   0   0   0]\n",
            " [  0   0   0   0   0   0   0   0   0   0   0   0   0   0  45 186 253 253 150  27   0   0   0   0   0   0   0   0]\n",
            " [  0   0   0   0   0   0   0   0   0   0   0   0   0   0   0  16  93 252 253 187   0   0   0   0   0   0   0   0]\n",
            " [  0   0   0   0   0   0   0   0   0   0   0   0   0   0   0   0   0 249 253 249  64   0   0   0   0   0   0   0]\n",
            " [  0   0   0   0   0   0   0   0   0   0   0   0   0   0  46 130 183 253 253 207   2   0   0   0   0   0   0   0]\n",
            " [  0   0   0   0   0   0   0   0   0   0   0   0  39 148 229 253 253 253 250 182   0   0   0   0   0   0   0   0]\n",
            " [  0   0   0   0   0   0   0   0   0   0  24 114 221 253 253 253 253 201  78   0   0   0   0   0   0   0   0   0]\n",
            " [  0   0   0   0   0   0   0   0  23  66 213 253 253 253 253 198  81   2   0   0   0   0   0   0   0   0   0   0]\n",
            " [  0   0   0   0   0   0  18 171 219 253 253 253 253 195  80   9   0   0   0   0   0   0   0   0   0   0   0   0]\n",
            " [  0   0   0   0  55 172 226 253 253 253 253 244 133  11   0   0   0   0   0   0   0   0   0   0   0   0   0   0]\n",
            " [  0   0   0   0 136 253 253 253 212 135 132  16   0   0   0   0   0   0   0   0   0   0   0   0   0   0   0   0]\n",
            " [  0   0   0   0   0   0   0   0   0   0   0   0   0   0   0   0   0   0   0   0   0   0   0   0   0   0   0   0]\n",
            " [  0   0   0   0   0   0   0   0   0   0   0   0   0   0   0   0   0   0   0   0   0   0   0   0   0   0   0   0]\n",
            " [  0   0   0   0   0   0   0   0   0   0   0   0   0   0   0   0   0   0   0   0   0   0   0   0   0   0   0   0]]\n",
            "\n",
            "Etiqueta correspondiente a la imagen de ejemplo (training_labels[0]): 5\n",
            "Rango de valores: 0 - 9\n"
          ]
        },
        {
          "output_type": "display_data",
          "data": {
            "text/plain": [
              "<Figure size 640x480 with 1 Axes>"
            ],
            "image/png": "[encoded data removed]"
          },
          "metadata": {}
        }
      ]
    },
    {
      "cell_type": "markdown",
      "metadata": {
        "id": "zaEWKFyvwmMm"
      },
      "source": [
        "*Tu respuesta aquí*\n",
        "\n",
        "### **Conjunto de datos:** MNIST\n",
        "- Contiene imágenes de dígitos escritos a mano.\n",
        "- Cada imagen tiene un tamaño de **28x28 píxeles** en escala de grises, con valores entre **0 y 255** (tipo `uint8`).\n",
        "\n",
        "### **Estructura de los datos**\n",
        "- **Tipo de dato en las imágenes:** `uint8`  \n",
        "- **Tipo de dato en las etiquetas:** `uint8`  \n",
        "\n",
        "### **Ejemplo de una imagen (training_images[0])**\n",
        "La imagen se representa como una matriz de 28x28, con valores numéricos que indican la intensidad del píxel.  \n",
        "\n",
        "### **Etiqueta correspondiente a la imagen de ejemplo (training_labels[0])**\n",
        "- El valor asociado es `5`, lo que indica que la imagen representa el número **5**.  \n",
        "- Las etiquetas pueden variar entre **0** y **9**.\n"
      ]
    },
    {
      "cell_type": "markdown",
      "source": [
        "## 2. Normalización y preprocesado de los datos"
      ],
      "metadata": {
        "id": "OXWLSFdnwAay"
      }
    },
    {
      "cell_type": "markdown",
      "source": [
        "**Pregunta 2.1 (0.25 puntos)** Habreis notado que todos los valores numericos están entre 0 y 255. Si estamos entrenando una red neuronal, una buena practica es transformar todos los valores entre 0 y 1, un proceso llamado \"normalización\" y afortunadamente en Python es fácil normalizar una lista. ¿Cómo lo podemos hacer?"
      ],
      "metadata": {
        "id": "H9W9mgi7wUOY"
      }
    },
    {
      "cell_type": "code",
      "source": [
        "### Tu código aquí ###\n",
        "training_images_norm = training_images / 255.0\n",
        "test_images_norm = test_images / 255.0\n"
      ],
      "metadata": {
        "id": "n-BhUak6wjGc"
      },
      "execution_count": 12,
      "outputs": []
    },
    {
      "cell_type": "code",
      "source": [
        "# Verificación del rango de valores\n",
        "image_norm = training_images_norm[0]\n",
        "print(f\"Rango de valores de las imágenes tras ser normalizada: {training_images_norm.min()} - {training_images_norm.max()}\")"
      ],
      "metadata": {
        "colab": {
          "base_uri": "https://localhost:8080/"
        },
        "id": "m71ydu-LJS8_",
        "outputId": "779367b8-9718-47b3-a233-9338610d53c4"
      },
      "execution_count": 13,
      "outputs": [
        {
          "output_type": "stream",
          "name": "stdout",
          "text": [
            "Rango de valores de las imágenes tras ser normalizada: 0.0 - 1.0\n"
          ]
        }
      ]
    },
    {
      "cell_type": "code",
      "source": [
        "plt.figure(figsize=(8, 4))\n",
        "\n",
        "plt.subplot(1, 2, 1)\n",
        "plt.imshow(training_images[0], cmap='gray')\n",
        "plt.title(f\"Original\\nEtiqueta: {training_labels[0]}\")\n",
        "plt.axis('off')\n",
        "\n",
        "plt.subplot(1, 2, 2)\n",
        "plt.imshow(training_images_norm[0], cmap='gray')\n",
        "plt.title(f\"Normalizada\\nEtiqueta: {training_labels[0]}\")\n",
        "plt.axis('off')\n",
        "\n",
        "plt.tight_layout()\n",
        "plt.show()"
      ],
      "metadata": {
        "colab": {
          "base_uri": "https://localhost:8080/",
          "height": 420
        },
        "id": "SGdSDDp-J4GB",
        "outputId": "9ca4d8e8-57e4-43be-fb60-a4494da744bc"
      },
      "execution_count": 14,
      "outputs": [
        {
          "output_type": "display_data",
          "data": {
            "text/plain": [
              "<Figure size 800x400 with 2 Axes>"
            ],
            "image/png": "[encoded data removed]"
          },
          "metadata": {}
        }
      ]
    },
    {
      "cell_type": "markdown",
      "source": [
        "Como se puede observar, la normalización:\n",
        "- No altera la estructura ni la percepción visual de la imagen.\n",
        "- Solo cambia la representación interna de los valores de los píxeles (0 a 1 en lugar de 0 a 255).\n",
        "- Esto facilita el proceso de aprendizaje de la red neuronal al evitar grandes oscilaciones en los gradientes durante el entrenamiento."
      ],
      "metadata": {
        "id": "hKjOL6aaJvAw"
      }
    },
    {
      "cell_type": "markdown",
      "source": [
        "**Pregunta 2.2 (0.25 puntos)** Utiliza la función ***reshape*** de Numpy para convertir las imágenes en vectores de características de un tamaño de (N, 784). Explica con tus palabras por qué es necesario hacer esto.\n",
        "\n"
      ],
      "metadata": {
        "id": "aAj9bKbJxDoN"
      }
    },
    {
      "cell_type": "code",
      "source": [
        "### Tu código aquí ###\n",
        "num_train = training_images.shape[0]\n",
        "num_test = test_images.shape[0]\n",
        "\n",
        "flattened_image_training = training_images.reshape(num_train, 28 * 28)\n",
        "flattened_image_test = test_images.reshape(num_test, 28 * 28)\n",
        "\n",
        "print(f\"Training images shape flattened: {flattened_image_training.shape}\")\n",
        "print(f\"Test images shape flattened: {flattened_image_training.shape}\")"
      ],
      "metadata": {
        "id": "qRdZBcCKxvLZ",
        "colab": {
          "base_uri": "https://localhost:8080/"
        },
        "outputId": "1c0d2b8d-2c83-44c1-80b8-157d49cd1e74"
      },
      "execution_count": 15,
      "outputs": [
        {
          "output_type": "stream",
          "name": "stdout",
          "text": [
            "Training images shape flattened: (60000, 784)\n",
            "Test images shape flattened: (60000, 784)\n"
          ]
        }
      ]
    },
    {
      "cell_type": "markdown",
      "source": [
        "**Respuesta a la pregunta 2.2**:"
      ],
      "metadata": {
        "id": "LCIZJRjWxwrE"
      }
    },
    {
      "cell_type": "markdown",
      "source": [
        "**Pregunta 2.3 (0.25 puntos)** Para facilitar el desarrollo de la actividad, vamos a expresar las etiquetas así:"
      ],
      "metadata": {
        "id": "VUJ9BpFSyR3m"
      }
    },
    {
      "cell_type": "code",
      "source": [
        "training_labels_categorical = tf.keras.utils.to_categorical(training_labels)\n",
        "test_labels_categorical = tf.keras.utils.to_categorical(test_labels)"
      ],
      "metadata": {
        "id": "jwgU9vScyZy_"
      },
      "execution_count": 16,
      "outputs": []
    },
    {
      "cell_type": "markdown",
      "source": [
        "Muestra cómo son ahora los datos, como resultado de este cambio y también de los realizados en las dos preguntas anteriores. Debate cómo se beneficiará la red neuronal de todos estos cambios."
      ],
      "metadata": {
        "id": "itJBwG0Lyy2u"
      }
    },
    {
      "cell_type": "code",
      "source": [
        "### Tu código aquí ###\n",
        "print(\"Imagen normalizada\")\n",
        "print(training_images_norm[0])\n",
        "\n",
        "print(\"Imagen vectorizada\")\n",
        "print(flattened_image_training[0])\n",
        "\n",
        "print(\"Etiqueta original\")\n",
        "print(training_labels[0])\n",
        "\n",
        "print(\"Etiqueta Categorical\")\n",
        "print(training_labels_categorical[0])"
      ],
      "metadata": {
        "id": "J0h1cc3CzJfs",
        "colab": {
          "base_uri": "https://localhost:8080/"
        },
        "outputId": "8d394aa7-5dfb-4156-c52e-95755cf448d9"
      },
      "execution_count": 17,
      "outputs": [
        {
          "output_type": "stream",
          "name": "stdout",
          "text": [
            "Imagen normalizada\n",
            "[[0.         0.         0.         0.         0.         0.         0.         0.         0.         0.         0.         0.         0.         0.         0.         0.         0.\n",
            "  0.         0.         0.         0.         0.         0.         0.         0.         0.         0.         0.        ]\n",
            " [0.         0.         0.         0.         0.         0.         0.         0.         0.         0.         0.         0.         0.         0.         0.         0.         0.\n",
            "  0.         0.         0.         0.         0.         0.         0.         0.         0.         0.         0.        ]\n",
            " [0.         0.         0.         0.         0.         0.         0.         0.         0.         0.         0.         0.         0.         0.         0.         0.         0.\n",
            "  0.         0.         0.         0.         0.         0.         0.         0.         0.         0.         0.        ]\n",
            " [0.         0.         0.         0.         0.         0.         0.         0.         0.         0.         0.         0.         0.         0.         0.         0.         0.\n",
            "  0.         0.         0.         0.         0.         0.         0.         0.         0.         0.         0.        ]\n",
            " [0.         0.         0.         0.         0.         0.         0.         0.         0.         0.         0.         0.         0.         0.         0.         0.         0.\n",
            "  0.         0.         0.         0.         0.         0.         0.         0.         0.         0.         0.        ]\n",
            " [0.         0.         0.         0.         0.         0.         0.         0.         0.         0.         0.         0.         0.01176471 0.07058824 0.07058824 0.07058824 0.49411765\n",
            "  0.53333333 0.68627451 0.10196078 0.65098039 1.         0.96862745 0.49803922 0.         0.         0.         0.        ]\n",
            " [0.         0.         0.         0.         0.         0.         0.         0.         0.11764706 0.14117647 0.36862745 0.60392157 0.66666667 0.99215686 0.99215686 0.99215686 0.99215686\n",
            "  0.99215686 0.88235294 0.6745098  0.99215686 0.94901961 0.76470588 0.25098039 0.         0.         0.         0.        ]\n",
            " [0.         0.         0.         0.         0.         0.         0.         0.19215686 0.93333333 0.99215686 0.99215686 0.99215686 0.99215686 0.99215686 0.99215686 0.99215686 0.99215686\n",
            "  0.98431373 0.36470588 0.32156863 0.32156863 0.21960784 0.15294118 0.         0.         0.         0.         0.        ]\n",
            " [0.         0.         0.         0.         0.         0.         0.         0.07058824 0.85882353 0.99215686 0.99215686 0.99215686 0.99215686 0.99215686 0.77647059 0.71372549 0.96862745\n",
            "  0.94509804 0.         0.         0.         0.         0.         0.         0.         0.         0.         0.        ]\n",
            " [0.         0.         0.         0.         0.         0.         0.         0.         0.31372549 0.61176471 0.41960784 0.99215686 0.99215686 0.80392157 0.04313725 0.         0.16862745\n",
            "  0.60392157 0.         0.         0.         0.         0.         0.         0.         0.         0.         0.        ]\n",
            " [0.         0.         0.         0.         0.         0.         0.         0.         0.         0.05490196 0.00392157 0.60392157 0.99215686 0.35294118 0.         0.         0.\n",
            "  0.         0.         0.         0.         0.         0.         0.         0.         0.         0.         0.        ]\n",
            " [0.         0.         0.         0.         0.         0.         0.         0.         0.         0.         0.         0.54509804 0.99215686 0.74509804 0.00784314 0.         0.\n",
            "  0.         0.         0.         0.         0.         0.         0.         0.         0.         0.         0.        ]\n",
            " [0.         0.         0.         0.         0.         0.         0.         0.         0.         0.         0.         0.04313725 0.74509804 0.99215686 0.2745098  0.         0.\n",
            "  0.         0.         0.         0.         0.         0.         0.         0.         0.         0.         0.        ]\n",
            " [0.         0.         0.         0.         0.         0.         0.         0.         0.         0.         0.         0.         0.1372549  0.94509804 0.88235294 0.62745098 0.42352941\n",
            "  0.00392157 0.         0.         0.         0.         0.         0.         0.         0.         0.         0.        ]\n",
            " [0.         0.         0.         0.         0.         0.         0.         0.         0.         0.         0.         0.         0.         0.31764706 0.94117647 0.99215686 0.99215686\n",
            "  0.46666667 0.09803922 0.         0.         0.         0.         0.         0.         0.         0.         0.        ]\n",
            " [0.         0.         0.         0.         0.         0.         0.         0.         0.         0.         0.         0.         0.         0.         0.17647059 0.72941176 0.99215686\n",
            "  0.99215686 0.58823529 0.10588235 0.         0.         0.         0.         0.         0.         0.         0.        ]\n",
            " [0.         0.         0.         0.         0.         0.         0.         0.         0.         0.         0.         0.         0.         0.         0.         0.0627451  0.36470588\n",
            "  0.98823529 0.99215686 0.73333333 0.         0.         0.         0.         0.         0.         0.         0.        ]\n",
            " [0.         0.         0.         0.         0.         0.         0.         0.         0.         0.         0.         0.         0.         0.         0.         0.         0.\n",
            "  0.97647059 0.99215686 0.97647059 0.25098039 0.         0.         0.         0.         0.         0.         0.        ]\n",
            " [0.         0.         0.         0.         0.         0.         0.         0.         0.         0.         0.         0.         0.         0.         0.18039216 0.50980392 0.71764706\n",
            "  0.99215686 0.99215686 0.81176471 0.00784314 0.         0.         0.         0.         0.         0.         0.        ]\n",
            " [0.         0.         0.         0.         0.         0.         0.         0.         0.         0.         0.         0.         0.15294118 0.58039216 0.89803922 0.99215686 0.99215686\n",
            "  0.99215686 0.98039216 0.71372549 0.         0.         0.         0.         0.         0.         0.         0.        ]\n",
            " [0.         0.         0.         0.         0.         0.         0.         0.         0.         0.         0.09411765 0.44705882 0.86666667 0.99215686 0.99215686 0.99215686 0.99215686\n",
            "  0.78823529 0.30588235 0.         0.         0.         0.         0.         0.         0.         0.         0.        ]\n",
            " [0.         0.         0.         0.         0.         0.         0.         0.         0.09019608 0.25882353 0.83529412 0.99215686 0.99215686 0.99215686 0.99215686 0.77647059 0.31764706\n",
            "  0.00784314 0.         0.         0.         0.         0.         0.         0.         0.         0.         0.        ]\n",
            " [0.         0.         0.         0.         0.         0.         0.07058824 0.67058824 0.85882353 0.99215686 0.99215686 0.99215686 0.99215686 0.76470588 0.31372549 0.03529412 0.\n",
            "  0.         0.         0.         0.         0.         0.         0.         0.         0.         0.         0.        ]\n",
            " [0.         0.         0.         0.         0.21568627 0.6745098  0.88627451 0.99215686 0.99215686 0.99215686 0.99215686 0.95686275 0.52156863 0.04313725 0.         0.         0.\n",
            "  0.         0.         0.         0.         0.         0.         0.         0.         0.         0.         0.        ]\n",
            " [0.         0.         0.         0.         0.53333333 0.99215686 0.99215686 0.99215686 0.83137255 0.52941176 0.51764706 0.0627451  0.         0.         0.         0.         0.\n",
            "  0.         0.         0.         0.         0.         0.         0.         0.         0.         0.         0.        ]\n",
            " [0.         0.         0.         0.         0.         0.         0.         0.         0.         0.         0.         0.         0.         0.         0.         0.         0.\n",
            "  0.         0.         0.         0.         0.         0.         0.         0.         0.         0.         0.        ]\n",
            " [0.         0.         0.         0.         0.         0.         0.         0.         0.         0.         0.         0.         0.         0.         0.         0.         0.\n",
            "  0.         0.         0.         0.         0.         0.         0.         0.         0.         0.         0.        ]\n",
            " [0.         0.         0.         0.         0.         0.         0.         0.         0.         0.         0.         0.         0.         0.         0.         0.         0.\n",
            "  0.         0.         0.         0.         0.         0.         0.         0.         0.         0.         0.        ]]\n",
            "Imagen vectorizada\n",
            "[  0   0   0   0   0   0   0   0   0   0   0   0   0   0   0   0   0   0   0   0   0   0   0   0   0   0   0   0   0   0   0   0   0   0   0   0   0   0   0   0   0   0   0   0   0   0   0   0   0\n",
            "   0   0   0   0   0   0   0   0   0   0   0   0   0   0   0   0   0   0   0   0   0   0   0   0   0   0   0   0   0   0   0   0   0   0   0   0   0   0   0   0   0   0   0   0   0   0   0   0   0\n",
            "   0   0   0   0   0   0   0   0   0   0   0   0   0   0   0   0   0   0   0   0   0   0   0   0   0   0   0   0   0   0   0   0   0   0   0   0   0   0   0   0   0   0   0   0   0   0   0   0   0\n",
            "   0   0   0   0   0   3  18  18  18 126 136 175  26 166 255 247 127   0   0   0   0   0   0   0   0   0   0   0   0  30  36  94 154 170 253 253 253 253 253 225 172 253 242 195  64   0   0   0   0\n",
            "   0   0   0   0   0   0   0  49 238 253 253 253 253 253 253 253 253 251  93  82  82  56  39   0   0   0   0   0   0   0   0   0   0   0   0  18 219 253 253 253 253 253 198 182 247 241   0   0   0\n",
            "   0   0   0   0   0   0   0   0   0   0   0   0   0   0   0  80 156 107 253 253 205  11   0  43 154   0   0   0   0   0   0   0   0   0   0   0   0   0   0   0   0   0   0   0  14   1 154 253  90\n",
            "   0   0   0   0   0   0   0   0   0   0   0   0   0   0   0   0   0   0   0   0   0   0   0   0   0 139 253 190   2   0   0   0   0   0   0   0   0   0   0   0   0   0   0   0   0   0   0   0   0\n",
            "   0   0   0   0  11 190 253  70   0   0   0   0   0   0   0   0   0   0   0   0   0   0   0   0   0   0   0   0   0   0   0   0   0  35 241 225 160 108   1   0   0   0   0   0   0   0   0   0   0\n",
            "   0   0   0   0   0   0   0   0   0   0   0   0   0  81 240 253 253 119  25   0   0   0   0   0   0   0   0   0   0   0   0   0   0   0   0   0   0   0   0   0   0   0  45 186 253 253 150  27   0\n",
            "   0   0   0   0   0   0   0   0   0   0   0   0   0   0   0   0   0   0   0   0   0   0  16  93 252 253 187   0   0   0   0   0   0   0   0   0   0   0   0   0   0   0   0   0   0   0   0   0   0\n",
            "   0   0   0 249 253 249  64   0   0   0   0   0   0   0   0   0   0   0   0   0   0   0   0   0   0   0   0   0  46 130 183 253 253 207   2   0   0   0   0   0   0   0   0   0   0   0   0   0   0\n",
            "   0   0   0   0   0  39 148 229 253 253 253 250 182   0   0   0   0   0   0   0   0   0   0   0   0   0   0   0   0   0   0  24 114 221 253 253 253 253 201  78   0   0   0   0   0   0   0   0   0\n",
            "   0   0   0   0   0   0   0   0  23  66 213 253 253 253 253 198  81   2   0   0   0   0   0   0   0   0   0   0   0   0   0   0   0   0  18 171 219 253 253 253 253 195  80   9   0   0   0   0   0\n",
            "   0   0   0   0   0   0   0   0   0   0   0  55 172 226 253 253 253 253 244 133  11   0   0   0   0   0   0   0   0   0   0   0   0   0   0   0   0   0   0 136 253 253 253 212 135 132  16   0   0\n",
            "   0   0   0   0   0   0   0   0   0   0   0   0   0   0   0   0   0   0   0   0   0   0   0   0   0   0   0   0   0   0   0   0   0   0   0   0   0   0   0   0   0   0   0   0   0   0   0   0   0\n",
            "   0   0   0   0   0   0   0   0   0   0   0   0   0   0   0   0   0   0   0   0   0   0   0   0   0   0   0   0   0   0   0   0   0   0   0   0   0   0   0   0   0   0   0   0   0   0   0   0   0]\n",
            "Etiqueta original\n",
            "5\n",
            "Etiqueta Categorical\n",
            "[0. 0. 0. 0. 0. 1. 0. 0. 0. 0.]\n"
          ]
        }
      ]
    },
    {
      "cell_type": "markdown",
      "source": [
        "Respuesta a la pregunta 2.3:\n",
        "\n",
        "### Normalización de Imágenes\n",
        "Consiste en ajustar los valores de entrada a un rango específico, comúnmente entre **0 y 1**. En este caso, las imágenes originalmente poseen valores de píxeles entre `0` y `255`, correspondientes a su intensidad de color en escala de grises.\n",
        "\n",
        "**Ventajas de la Normalización:**\n",
        "- **Estabilización de Gradientes:** Evita problemas de desbordamiento numérico y mejora la convergencia del algoritmo de optimización.\n",
        "- **Reduce la Varianza:** Los datos están más centrados y con menor dispersión.\n",
        "\n",
        "### Vectorización de Imágenes\n",
        "Las imágenes, que originalmente están representadas en una matriz de dimensión `28 × 28`, son aplanadas en vectores de dimensión `1 × 784`. Este proceso se conoce como **vectorización** y se realiza utilizando la función de NumPy:\n",
        "\n",
        "**Beneficios de la Vectorización:**\n",
        "- Permite conectar directamente con las neuronas de entrada.\n",
        "- **Optimización en Cálculos:** Las operaciones matriciales se optimizan en una única dimensión.\n",
        "\n",
        "### One-Hot Encoding de Etiquetas\n",
        "Las etiquetas que originalmente están representadas como un único valor categórico (por ejemplo, el número `5`) se transforman en vectores binarios utilizando el método de **One-Hot Encoding**.\n",
        "\n",
        "La transformación asigna un vector de dimensión igual al número de clases (10 en el caso de los dígitos del `0` al `9`). Para una etiqueta específica, solo el índice correspondiente tiene un valor de `1` y el resto son `0`.\n",
        "\n",
        "Ejemplo para la etiqueta `5`: 5 → [0, 0, 0, 0, 0, 1, 0, 0, 0, 0]\n",
        "\n",
        "**Ventajas del One-Hot Encoding:**\n",
        "- **Facilita el Cálculo del Error:** Las funciones de pérdida como categorical crossentropy requieren que las etiquetas estén en este formato.\n",
        "- **Evita Relaciones:** Al transformar las etiquetas, se elimina cualquier relación ordinal que podría interpretar el modelo.\n",
        "\n"
      ],
      "metadata": {
        "id": "GsG0MKk9zKsU"
      }
    },
    {
      "cell_type": "markdown",
      "source": [
        "## 3. Creación del Modelo"
      ],
      "metadata": {
        "id": "dI3IAhOQ8zHi"
      }
    },
    {
      "cell_type": "markdown",
      "metadata": {
        "id": "yYUWWsszMAKt"
      },
      "source": [
        "Ahora vamos a definir el modelo, pero antes vamos a repasar algunos comandos y conceptos muy útiles:\n",
        "* **Sequential**: Eso define una SECUENCIA de capas en la red neuronal\n",
        "* **Dense**: Añade una capa de neuronas\n",
        "* **Flatten**: ¿Recuerdas cómo eran las imágenes cuando las imprimiste para poder verlas? Un cuadrado, Flatten toma ese cuadrado y lo convierte en un vector de una dimensión.\n",
        "\n",
        "Cada capa de neuronas necesita una función de activación. Normalmente se usa la función relu en las capas intermedias y softmax en la ultima capa (en problemas de clasificación de más de dos items)\n",
        "* **Relu** significa que \"Si X>0 devuelve X, si no, devuelve 0\", así que lo que hace es pasar sólo valores 0 o mayores a la siguiente capa de la red.\n",
        "* **Softmax** toma un conjunto de valores, y escoge el más grande."
      ]
    },
    {
      "cell_type": "markdown",
      "metadata": {
        "id": "QgBW1yE2MwPp"
      },
      "source": [
        " **Pregunta 3.1 (0.5 puntos)**. Utilizando Keras, y preparando los datos de X e Y como fuera necesario, define y entrena una red neuronal que sea capaz de clasificar imágenes de MNIST con las siguientes características:\n",
        "\n",
        "* Una capa de entrada del tamaño adecuado.\n",
        "* Una capa oculta de 512 neuronas.\n",
        "* Una capa final con 10 salidas."
      ]
    },
    {
      "cell_type": "markdown",
      "source": [
        "**X (Imágenes)**\n",
        "\n",
        "Para mejorar la eficiencia del modelo, los datos se **normalizan**.\n",
        "\n",
        "**Y (Etiquetas)**\n",
        "\n",
        "Las etiquetas se convierten a **One-Hot Encoding**."
      ],
      "metadata": {
        "id": "rCMNO-7qGzhG"
      }
    },
    {
      "cell_type": "code",
      "source": [
        "# Definición del Modelo\n",
        "from tensorflow import keras\n",
        "\n",
        "model_original = keras.models.Sequential()\n",
        "model_original.add(keras.layers.Flatten(input_shape=[28, 28]))\n",
        "model_original.add(keras.layers.Dense(512, activation=\"relu\"))\n",
        "model_original.add(keras.layers.Dense(10, activation=\"softmax\"))"
      ],
      "metadata": {
        "colab": {
          "base_uri": "https://localhost:8080/"
        },
        "id": "1oZ9-ieuL6W2",
        "outputId": "376bda88-41c4-4467-c0c1-9fd39ff4770b"
      },
      "execution_count": 18,
      "outputs": [
        {
          "output_type": "stream",
          "name": "stderr",
          "text": [
            "/usr/local/lib/python3.11/dist-packages/keras/src/layers/reshaping/flatten.py:37: UserWarning: Do not pass an `input_shape`/`input_dim` argument to a layer. When using Sequential models, prefer using an `Input(shape)` object as the first layer in the model instead.\n",
            "  super().__init__(**kwargs)\n"
          ]
        }
      ]
    },
    {
      "cell_type": "code",
      "source": [
        "# Compilación del Modelo\n",
        "model_original.compile(\n",
        "    optimizer='adam',\n",
        "    loss='categorical_crossentropy',\n",
        "    metrics=['accuracy']\n",
        ")"
      ],
      "metadata": {
        "id": "tKZF02mFQ1rx"
      },
      "execution_count": 19,
      "outputs": []
    },
    {
      "cell_type": "code",
      "source": [
        "# Entrenamiento del Modelo\n",
        "history_original = model_original.fit(training_images_norm, training_labels_categorical, epochs=30, validation_data=(test_images_norm, test_labels_categorical))\n"
      ],
      "metadata": {
        "colab": {
          "base_uri": "https://localhost:8080/"
        },
        "id": "xuq4nly8RvBk",
        "outputId": "4712eead-e2b7-46c9-e90c-c3b5705bd3d9"
      },
      "execution_count": 20,
      "outputs": [
        {
          "output_type": "stream",
          "name": "stdout",
          "text": [
            "Epoch 1/30\n",
            "\u001b[1m1875/1875\u001b[0m \u001b[32m━━━━━━━━━━━━━━━━━━━━\u001b[0m\u001b[37m\u001b[0m \u001b[1m18s\u001b[0m 9ms/step - accuracy: 0.8989 - loss: 0.3459 - val_accuracy: 0.9704 - val_loss: 0.0999\n",
            "Epoch 2/30\n",
            "\u001b[1m1875/1875\u001b[0m \u001b[32m━━━━━━━━━━━━━━━━━━━━\u001b[0m\u001b[37m\u001b[0m \u001b[1m17s\u001b[0m 7ms/step - accuracy: 0.9740 - loss: 0.0839 - val_accuracy: 0.9738 - val_loss: 0.0821\n",
            "Epoch 3/30\n",
            "\u001b[1m1875/1875\u001b[0m \u001b[32m━━━━━━━━━━━━━━━━━━━━\u001b[0m\u001b[37m\u001b[0m \u001b[1m20s\u001b[0m 7ms/step - accuracy: 0.9843 - loss: 0.0518 - val_accuracy: 0.9795 - val_loss: 0.0670\n",
            "Epoch 4/30\n",
            "\u001b[1m1875/1875\u001b[0m \u001b[32m━━━━━━━━━━━━━━━━━━━━\u001b[0m\u001b[37m\u001b[0m \u001b[1m12s\u001b[0m 6ms/step - accuracy: 0.9891 - loss: 0.0356 - val_accuracy: 0.9770 - val_loss: 0.0741\n",
            "Epoch 5/30\n",
            "\u001b[1m1875/1875\u001b[0m \u001b[32m━━━━━━━━━━━━━━━━━━━━\u001b[0m\u001b[37m\u001b[0m \u001b[1m13s\u001b[0m 7ms/step - accuracy: 0.9917 - loss: 0.0245 - val_accuracy: 0.9790 - val_loss: 0.0772\n",
            "Epoch 6/30\n",
            "\u001b[1m1875/1875\u001b[0m \u001b[32m━━━━━━━━━━━━━━━━━━━━\u001b[0m\u001b[37m\u001b[0m \u001b[1m13s\u001b[0m 7ms/step - accuracy: 0.9931 - loss: 0.0201 - val_accuracy: 0.9800 - val_loss: 0.0739\n",
            "Epoch 7/30\n",
            "\u001b[1m1875/1875\u001b[0m \u001b[32m━━━━━━━━━━━━━━━━━━━━\u001b[0m\u001b[37m\u001b[0m \u001b[1m13s\u001b[0m 7ms/step - accuracy: 0.9960 - loss: 0.0135 - val_accuracy: 0.9827 - val_loss: 0.0638\n",
            "Epoch 8/30\n",
            "\u001b[1m1875/1875\u001b[0m \u001b[32m━━━━━━━━━━━━━━━━━━━━\u001b[0m\u001b[37m\u001b[0m \u001b[1m13s\u001b[0m 7ms/step - accuracy: 0.9966 - loss: 0.0112 - val_accuracy: 0.9814 - val_loss: 0.0730\n",
            "Epoch 9/30\n",
            "\u001b[1m1875/1875\u001b[0m \u001b[32m━━━━━━━━━━━━━━━━━━━━\u001b[0m\u001b[37m\u001b[0m \u001b[1m21s\u001b[0m 7ms/step - accuracy: 0.9968 - loss: 0.0094 - val_accuracy: 0.9799 - val_loss: 0.0871\n",
            "Epoch 10/30\n",
            "\u001b[1m1875/1875\u001b[0m \u001b[32m━━━━━━━━━━━━━━━━━━━━\u001b[0m\u001b[37m\u001b[0m \u001b[1m21s\u001b[0m 7ms/step - accuracy: 0.9964 - loss: 0.0095 - val_accuracy: 0.9829 - val_loss: 0.0730\n",
            "Epoch 11/30\n",
            "\u001b[1m1875/1875\u001b[0m \u001b[32m━━━━━━━━━━━━━━━━━━━━\u001b[0m\u001b[37m\u001b[0m \u001b[1m13s\u001b[0m 7ms/step - accuracy: 0.9979 - loss: 0.0069 - val_accuracy: 0.9815 - val_loss: 0.0787\n",
            "Epoch 12/30\n",
            "\u001b[1m1875/1875\u001b[0m \u001b[32m━━━━━━━━━━━━━━━━━━━━\u001b[0m\u001b[37m\u001b[0m \u001b[1m12s\u001b[0m 7ms/step - accuracy: 0.9980 - loss: 0.0055 - val_accuracy: 0.9810 - val_loss: 0.0819\n",
            "Epoch 13/30\n",
            "\u001b[1m1875/1875\u001b[0m \u001b[32m━━━━━━━━━━━━━━━━━━━━\u001b[0m\u001b[37m\u001b[0m \u001b[1m21s\u001b[0m 7ms/step - accuracy: 0.9972 - loss: 0.0086 - val_accuracy: 0.9812 - val_loss: 0.0949\n",
            "Epoch 14/30\n",
            "\u001b[1m1875/1875\u001b[0m \u001b[32m━━━━━━━━━━━━━━━━━━━━\u001b[0m\u001b[37m\u001b[0m \u001b[1m20s\u001b[0m 7ms/step - accuracy: 0.9983 - loss: 0.0052 - val_accuracy: 0.9798 - val_loss: 0.1096\n",
            "Epoch 15/30\n",
            "\u001b[1m1875/1875\u001b[0m \u001b[32m━━━━━━━━━━━━━━━━━━━━\u001b[0m\u001b[37m\u001b[0m \u001b[1m21s\u001b[0m 7ms/step - accuracy: 0.9976 - loss: 0.0072 - val_accuracy: 0.9826 - val_loss: 0.0933\n",
            "Epoch 16/30\n",
            "\u001b[1m1875/1875\u001b[0m \u001b[32m━━━━━━━━━━━━━━━━━━━━\u001b[0m\u001b[37m\u001b[0m \u001b[1m13s\u001b[0m 7ms/step - accuracy: 0.9984 - loss: 0.0046 - val_accuracy: 0.9796 - val_loss: 0.1085\n",
            "Epoch 17/30\n",
            "\u001b[1m1875/1875\u001b[0m \u001b[32m━━━━━━━━━━━━━━━━━━━━\u001b[0m\u001b[37m\u001b[0m \u001b[1m20s\u001b[0m 7ms/step - accuracy: 0.9976 - loss: 0.0069 - val_accuracy: 0.9813 - val_loss: 0.1014\n",
            "Epoch 18/30\n",
            "\u001b[1m1875/1875\u001b[0m \u001b[32m━━━━━━━━━━━━━━━━━━━━\u001b[0m\u001b[37m\u001b[0m \u001b[1m21s\u001b[0m 7ms/step - accuracy: 0.9978 - loss: 0.0065 - val_accuracy: 0.9828 - val_loss: 0.1015\n",
            "Epoch 19/30\n",
            "\u001b[1m1875/1875\u001b[0m \u001b[32m━━━━━━━━━━━━━━━━━━━━\u001b[0m\u001b[37m\u001b[0m \u001b[1m14s\u001b[0m 7ms/step - accuracy: 0.9981 - loss: 0.0065 - val_accuracy: 0.9840 - val_loss: 0.0970\n",
            "Epoch 20/30\n",
            "\u001b[1m1875/1875\u001b[0m \u001b[32m━━━━━━━━━━━━━━━━━━━━\u001b[0m\u001b[37m\u001b[0m \u001b[1m20s\u001b[0m 7ms/step - accuracy: 0.9985 - loss: 0.0044 - val_accuracy: 0.9804 - val_loss: 0.1265\n",
            "Epoch 21/30\n",
            "\u001b[1m1875/1875\u001b[0m \u001b[32m━━━━━━━━━━━━━━━━━━━━\u001b[0m\u001b[37m\u001b[0m \u001b[1m20s\u001b[0m 7ms/step - accuracy: 0.9986 - loss: 0.0043 - val_accuracy: 0.9792 - val_loss: 0.1347\n",
            "Epoch 22/30\n",
            "\u001b[1m1875/1875\u001b[0m \u001b[32m━━━━━━━━━━━━━━━━━━━━\u001b[0m\u001b[37m\u001b[0m \u001b[1m20s\u001b[0m 7ms/step - accuracy: 0.9981 - loss: 0.0060 - val_accuracy: 0.9803 - val_loss: 0.1125\n",
            "Epoch 23/30\n",
            "\u001b[1m1875/1875\u001b[0m \u001b[32m━━━━━━━━━━━━━━━━━━━━\u001b[0m\u001b[37m\u001b[0m \u001b[1m20s\u001b[0m 7ms/step - accuracy: 0.9989 - loss: 0.0029 - val_accuracy: 0.9817 - val_loss: 0.1152\n",
            "Epoch 24/30\n",
            "\u001b[1m1875/1875\u001b[0m \u001b[32m━━━━━━━━━━━━━━━━━━━━\u001b[0m\u001b[37m\u001b[0m \u001b[1m21s\u001b[0m 7ms/step - accuracy: 0.9980 - loss: 0.0062 - val_accuracy: 0.9809 - val_loss: 0.1324\n",
            "Epoch 25/30\n",
            "\u001b[1m1875/1875\u001b[0m \u001b[32m━━━━━━━━━━━━━━━━━━━━\u001b[0m\u001b[37m\u001b[0m \u001b[1m20s\u001b[0m 7ms/step - accuracy: 0.9978 - loss: 0.0073 - val_accuracy: 0.9840 - val_loss: 0.1186\n",
            "Epoch 26/30\n",
            "\u001b[1m1875/1875\u001b[0m \u001b[32m━━━━━━━━━━━━━━━━━━━━\u001b[0m\u001b[37m\u001b[0m \u001b[1m14s\u001b[0m 7ms/step - accuracy: 0.9992 - loss: 0.0021 - val_accuracy: 0.9814 - val_loss: 0.1323\n",
            "Epoch 27/30\n",
            "\u001b[1m1875/1875\u001b[0m \u001b[32m━━━━━━━━━━━━━━━━━━━━\u001b[0m\u001b[37m\u001b[0m \u001b[1m13s\u001b[0m 7ms/step - accuracy: 0.9991 - loss: 0.0030 - val_accuracy: 0.9817 - val_loss: 0.1284\n",
            "Epoch 28/30\n",
            "\u001b[1m1875/1875\u001b[0m \u001b[32m━━━━━━━━━━━━━━━━━━━━\u001b[0m\u001b[37m\u001b[0m \u001b[1m20s\u001b[0m 7ms/step - accuracy: 0.9983 - loss: 0.0048 - val_accuracy: 0.9818 - val_loss: 0.1369\n",
            "Epoch 29/30\n",
            "\u001b[1m1875/1875\u001b[0m \u001b[32m━━━━━━━━━━━━━━━━━━━━\u001b[0m\u001b[37m\u001b[0m \u001b[1m21s\u001b[0m 7ms/step - accuracy: 0.9984 - loss: 0.0052 - val_accuracy: 0.9817 - val_loss: 0.1335\n",
            "Epoch 30/30\n",
            "\u001b[1m1875/1875\u001b[0m \u001b[32m━━━━━━━━━━━━━━━━━━━━\u001b[0m\u001b[37m\u001b[0m \u001b[1m13s\u001b[0m 7ms/step - accuracy: 0.9987 - loss: 0.0043 - val_accuracy: 0.9819 - val_loss: 0.1384\n"
          ]
        }
      ]
    },
    {
      "cell_type": "code",
      "source": [
        "# Resultados del Entrenamiento\n",
        "import pandas as pd\n",
        "\n",
        "pd.DataFrame(history_original.history).plot(figsize=(8,5))\n",
        "plt.grid(True)\n",
        "plt.gca().set_ylim(0,1)\n",
        "plt.show()"
      ],
      "metadata": {
        "colab": {
          "base_uri": "https://localhost:8080/",
          "height": 451
        },
        "id": "1_yBPKuaSjvU",
        "outputId": "1b934ac2-e152-4bed-ae3f-c93a073c3c6c"
      },
      "execution_count": 21,
      "outputs": [
        {
          "output_type": "display_data",
          "data": {
            "text/plain": [
              "<Figure size 800x500 with 1 Axes>"
            ],
            "image/png": "[encoded data removed]"
          },
          "metadata": {}
        }
      ]
    },
    {
      "cell_type": "code",
      "metadata": {
        "id": "aTaD2QXIORwu",
        "colab": {
          "base_uri": "https://localhost:8080/"
        },
        "outputId": "0816a92a-e578-4bc4-e585-81733ed5f4ed"
      },
      "source": [
        "# Evaluación en el Conjunto de Test\n",
        "test_loss_original, test_acc_original = model_original.evaluate(test_images_norm, test_labels_categorical)\n",
        "print(f\"\\nPrecisión en el conjunto de test: {test_acc_original * 100:.2f}%\")\n",
        "print(f\"\\nPérdida en el conjunto de test: {test_loss_original * 100:.2f}%\")"
      ],
      "execution_count": 22,
      "outputs": [
        {
          "output_type": "stream",
          "name": "stdout",
          "text": [
            "\u001b[1m313/313\u001b[0m \u001b[32m━━━━━━━━━━━━━━━━━━━━\u001b[0m\u001b[37m\u001b[0m \u001b[1m1s\u001b[0m 4ms/step - accuracy: 0.9782 - loss: 0.1685\n",
            "\n",
            "Precisión en el conjunto de test: 98.19%\n",
            "\n",
            "Pérdida en el conjunto de test: 13.84%\n"
          ]
        }
      ]
    },
    {
      "cell_type": "markdown",
      "source": [
        "- El modelo presenta una alta precisión desde las primeras épocas, alcanzando el 98.19% en el conjunto de test.\n",
        "- La pérdida se mantiene relativamente baja, mostrando una buena capacidad de generalización.\n",
        "- El modelo tiene un comportamiento estable, sin signos evidentes de sobreajuste (overfitting)."
      ],
      "metadata": {
        "id": "iOsyfp6Mf100"
      }
    },
    {
      "cell_type": "markdown",
      "metadata": {
        "id": "Bxr5hTKYOQnK"
      },
      "source": [
        "**Pregunta 3.2 (0.25 puntos)**: ¿crees conveniente utilizar una capa flatten en este caso? Motiva tu respuesta.\n",
        "\n"
      ]
    },
    {
      "cell_type": "markdown",
      "source": [
        "En este caso, sí es conveniente usar una capa Flatten si queremos procesar imágenes con una red neuronal densa (fully connected) tradicional.\n",
        "\n",
        "**Motivo:**\n",
        "- Las imágenes originales son matrices 2D de tamaño 28x28 píxeles.\n",
        "- Las capas densas (Dense) esperan vectores 1D como entrada, no matrices 2D.\n",
        "- La capa **Flatten** se encarga de transformar cada imagen 2D en un vector 1D (de tamaño 784 = 28×28), lo que permite que la red densa pueda procesar los datos correctamente.\n",
        "- Si no se usa Flatten, se debe hacer un reshape manual antes, como se muestra a continuación:"
      ],
      "metadata": {
        "id": "gAqRmbbJIHOV"
      }
    },
    {
      "cell_type": "code",
      "source": [
        "flattened_image_training_ = training_images_norm.reshape(num_train, 28 * 28)\n",
        "flattened_image_test_ = test_images_norm.reshape(num_test, 28 * 28)"
      ],
      "metadata": {
        "id": "iuPotFyFRL7l"
      },
      "execution_count": 23,
      "outputs": []
    },
    {
      "cell_type": "code",
      "metadata": {
        "id": "VNjQEtUUG4iI"
      },
      "source": [
        "### Tu código para incluir una capa flatten si lo ves necesario ###\n",
        "from tensorflow import keras\n",
        "\n",
        "model_flatten= keras.models.Sequential()\n",
        "model_flatten.add(keras.layers.Dense(512, activation=\"relu\"))\n",
        "model_flatten.add(keras.layers.Dense(10, activation=\"softmax\"))"
      ],
      "execution_count": 24,
      "outputs": []
    },
    {
      "cell_type": "code",
      "source": [
        "model_flatten.compile(\n",
        "    optimizer='sgd',\n",
        "    loss='categorical_crossentropy',\n",
        "    metrics=['accuracy']\n",
        ")"
      ],
      "metadata": {
        "id": "WLDZnMOJwKJY"
      },
      "execution_count": 25,
      "outputs": []
    },
    {
      "cell_type": "code",
      "source": [
        "history_flatten = model_flatten.fit(flattened_image_training_, training_labels_categorical, epochs=30, validation_data=(flattened_image_test_, test_labels_categorical))"
      ],
      "metadata": {
        "colab": {
          "base_uri": "https://localhost:8080/"
        },
        "id": "LwIjf-eGRP9Q",
        "outputId": "da83b2d8-6a35-421c-adbf-56c3305eba47"
      },
      "execution_count": 26,
      "outputs": [
        {
          "output_type": "stream",
          "name": "stdout",
          "text": [
            "Epoch 1/30\n",
            "\u001b[1m1875/1875\u001b[0m \u001b[32m━━━━━━━━━━━━━━━━━━━━\u001b[0m\u001b[37m\u001b[0m \u001b[1m9s\u001b[0m 4ms/step - accuracy: 0.7638 - loss: 0.9751 - val_accuracy: 0.9059 - val_loss: 0.3420\n",
            "Epoch 2/30\n",
            "\u001b[1m1875/1875\u001b[0m \u001b[32m━━━━━━━━━━━━━━━━━━━━\u001b[0m\u001b[37m\u001b[0m \u001b[1m8s\u001b[0m 4ms/step - accuracy: 0.9059 - loss: 0.3430 - val_accuracy: 0.9204 - val_loss: 0.2840\n",
            "Epoch 3/30\n",
            "\u001b[1m1875/1875\u001b[0m \u001b[32m━━━━━━━━━━━━━━━━━━━━\u001b[0m\u001b[37m\u001b[0m \u001b[1m9s\u001b[0m 5ms/step - accuracy: 0.9209 - loss: 0.2820 - val_accuracy: 0.9301 - val_loss: 0.2495\n",
            "Epoch 4/30\n",
            "\u001b[1m1875/1875\u001b[0m \u001b[32m━━━━━━━━━━━━━━━━━━━━\u001b[0m\u001b[37m\u001b[0m \u001b[1m9s\u001b[0m 4ms/step - accuracy: 0.9298 - loss: 0.2503 - val_accuracy: 0.9344 - val_loss: 0.2268\n",
            "Epoch 5/30\n",
            "\u001b[1m1875/1875\u001b[0m \u001b[32m━━━━━━━━━━━━━━━━━━━━\u001b[0m\u001b[37m\u001b[0m \u001b[1m9s\u001b[0m 5ms/step - accuracy: 0.9380 - loss: 0.2237 - val_accuracy: 0.9398 - val_loss: 0.2073\n",
            "Epoch 6/30\n",
            "\u001b[1m1875/1875\u001b[0m \u001b[32m━━━━━━━━━━━━━━━━━━━━\u001b[0m\u001b[37m\u001b[0m \u001b[1m9s\u001b[0m 5ms/step - accuracy: 0.9420 - loss: 0.2065 - val_accuracy: 0.9460 - val_loss: 0.1909\n",
            "Epoch 7/30\n",
            "\u001b[1m1875/1875\u001b[0m \u001b[32m━━━━━━━━━━━━━━━━━━━━\u001b[0m\u001b[37m\u001b[0m \u001b[1m9s\u001b[0m 4ms/step - accuracy: 0.9476 - loss: 0.1907 - val_accuracy: 0.9492 - val_loss: 0.1808\n",
            "Epoch 8/30\n",
            "\u001b[1m1875/1875\u001b[0m \u001b[32m━━━━━━━━━━━━━━━━━━━━\u001b[0m\u001b[37m\u001b[0m \u001b[1m9s\u001b[0m 4ms/step - accuracy: 0.9511 - loss: 0.1748 - val_accuracy: 0.9530 - val_loss: 0.1685\n",
            "Epoch 9/30\n",
            "\u001b[1m1875/1875\u001b[0m \u001b[32m━━━━━━━━━━━━━━━━━━━━\u001b[0m\u001b[37m\u001b[0m \u001b[1m10s\u001b[0m 4ms/step - accuracy: 0.9554 - loss: 0.1620 - val_accuracy: 0.9542 - val_loss: 0.1610\n",
            "Epoch 10/30\n",
            "\u001b[1m1875/1875\u001b[0m \u001b[32m━━━━━━━━━━━━━━━━━━━━\u001b[0m\u001b[37m\u001b[0m \u001b[1m12s\u001b[0m 5ms/step - accuracy: 0.9586 - loss: 0.1486 - val_accuracy: 0.9567 - val_loss: 0.1502\n",
            "Epoch 11/30\n",
            "\u001b[1m1875/1875\u001b[0m \u001b[32m━━━━━━━━━━━━━━━━━━━━\u001b[0m\u001b[37m\u001b[0m \u001b[1m9s\u001b[0m 5ms/step - accuracy: 0.9599 - loss: 0.1417 - val_accuracy: 0.9586 - val_loss: 0.1429\n",
            "Epoch 12/30\n",
            "\u001b[1m1875/1875\u001b[0m \u001b[32m━━━━━━━━━━━━━━━━━━━━\u001b[0m\u001b[37m\u001b[0m \u001b[1m9s\u001b[0m 4ms/step - accuracy: 0.9621 - loss: 0.1372 - val_accuracy: 0.9603 - val_loss: 0.1365\n",
            "Epoch 13/30\n",
            "\u001b[1m1875/1875\u001b[0m \u001b[32m━━━━━━━━━━━━━━━━━━━━\u001b[0m\u001b[37m\u001b[0m \u001b[1m9s\u001b[0m 4ms/step - accuracy: 0.9660 - loss: 0.1242 - val_accuracy: 0.9614 - val_loss: 0.1306\n",
            "Epoch 14/30\n",
            "\u001b[1m1875/1875\u001b[0m \u001b[32m━━━━━━━━━━━━━━━━━━━━\u001b[0m\u001b[37m\u001b[0m \u001b[1m11s\u001b[0m 4ms/step - accuracy: 0.9671 - loss: 0.1216 - val_accuracy: 0.9632 - val_loss: 0.1257\n",
            "Epoch 15/30\n",
            "\u001b[1m1875/1875\u001b[0m \u001b[32m━━━━━━━━━━━━━━━━━━━━\u001b[0m\u001b[37m\u001b[0m \u001b[1m11s\u001b[0m 5ms/step - accuracy: 0.9678 - loss: 0.1182 - val_accuracy: 0.9648 - val_loss: 0.1213\n",
            "Epoch 16/30\n",
            "\u001b[1m1875/1875\u001b[0m \u001b[32m━━━━━━━━━━━━━━━━━━━━\u001b[0m\u001b[37m\u001b[0m \u001b[1m11s\u001b[0m 5ms/step - accuracy: 0.9704 - loss: 0.1111 - val_accuracy: 0.9657 - val_loss: 0.1167\n",
            "Epoch 17/30\n",
            "\u001b[1m1875/1875\u001b[0m \u001b[32m━━━━━━━━━━━━━━━━━━━━\u001b[0m\u001b[37m\u001b[0m \u001b[1m10s\u001b[0m 5ms/step - accuracy: 0.9726 - loss: 0.1023 - val_accuracy: 0.9660 - val_loss: 0.1143\n",
            "Epoch 18/30\n",
            "\u001b[1m1875/1875\u001b[0m \u001b[32m━━━━━━━━━━━━━━━━━━━━\u001b[0m\u001b[37m\u001b[0m \u001b[1m9s\u001b[0m 4ms/step - accuracy: 0.9736 - loss: 0.1002 - val_accuracy: 0.9676 - val_loss: 0.1113\n",
            "Epoch 19/30\n",
            "\u001b[1m1875/1875\u001b[0m \u001b[32m━━━━━━━━━━━━━━━━━━━━\u001b[0m\u001b[37m\u001b[0m \u001b[1m8s\u001b[0m 4ms/step - accuracy: 0.9752 - loss: 0.0948 - val_accuracy: 0.9681 - val_loss: 0.1067\n",
            "Epoch 20/30\n",
            "\u001b[1m1875/1875\u001b[0m \u001b[32m━━━━━━━━━━━━━━━━━━━━\u001b[0m\u001b[37m\u001b[0m \u001b[1m11s\u001b[0m 5ms/step - accuracy: 0.9755 - loss: 0.0928 - val_accuracy: 0.9694 - val_loss: 0.1038\n",
            "Epoch 21/30\n",
            "\u001b[1m1875/1875\u001b[0m \u001b[32m━━━━━━━━━━━━━━━━━━━━\u001b[0m\u001b[37m\u001b[0m \u001b[1m9s\u001b[0m 5ms/step - accuracy: 0.9774 - loss: 0.0896 - val_accuracy: 0.9704 - val_loss: 0.1005\n",
            "Epoch 22/30\n",
            "\u001b[1m1875/1875\u001b[0m \u001b[32m━━━━━━━━━━━━━━━━━━━━\u001b[0m\u001b[37m\u001b[0m \u001b[1m8s\u001b[0m 4ms/step - accuracy: 0.9768 - loss: 0.0879 - val_accuracy: 0.9702 - val_loss: 0.0986\n",
            "Epoch 23/30\n",
            "\u001b[1m1875/1875\u001b[0m \u001b[32m━━━━━━━━━━━━━━━━━━━━\u001b[0m\u001b[37m\u001b[0m \u001b[1m9s\u001b[0m 5ms/step - accuracy: 0.9787 - loss: 0.0816 - val_accuracy: 0.9710 - val_loss: 0.0959\n",
            "Epoch 24/30\n",
            "\u001b[1m1875/1875\u001b[0m \u001b[32m━━━━━━━━━━━━━━━━━━━━\u001b[0m\u001b[37m\u001b[0m \u001b[1m10s\u001b[0m 5ms/step - accuracy: 0.9798 - loss: 0.0776 - val_accuracy: 0.9714 - val_loss: 0.0946\n",
            "Epoch 25/30\n",
            "\u001b[1m1875/1875\u001b[0m \u001b[32m━━━━━━━━━━━━━━━━━━━━\u001b[0m\u001b[37m\u001b[0m \u001b[1m9s\u001b[0m 4ms/step - accuracy: 0.9798 - loss: 0.0767 - val_accuracy: 0.9724 - val_loss: 0.0936\n",
            "Epoch 26/30\n",
            "\u001b[1m1875/1875\u001b[0m \u001b[32m━━━━━━━━━━━━━━━━━━━━\u001b[0m\u001b[37m\u001b[0m \u001b[1m8s\u001b[0m 4ms/step - accuracy: 0.9808 - loss: 0.0738 - val_accuracy: 0.9738 - val_loss: 0.0901\n",
            "Epoch 27/30\n",
            "\u001b[1m1875/1875\u001b[0m \u001b[32m━━━━━━━━━━━━━━━━━━━━\u001b[0m\u001b[37m\u001b[0m \u001b[1m9s\u001b[0m 5ms/step - accuracy: 0.9821 - loss: 0.0708 - val_accuracy: 0.9740 - val_loss: 0.0883\n",
            "Epoch 28/30\n",
            "\u001b[1m1875/1875\u001b[0m \u001b[32m━━━━━━━━━━━━━━━━━━━━\u001b[0m\u001b[37m\u001b[0m \u001b[1m9s\u001b[0m 5ms/step - accuracy: 0.9833 - loss: 0.0661 - val_accuracy: 0.9734 - val_loss: 0.0878\n",
            "Epoch 29/30\n",
            "\u001b[1m1875/1875\u001b[0m \u001b[32m━━━━━━━━━━━━━━━━━━━━\u001b[0m\u001b[37m\u001b[0m \u001b[1m10s\u001b[0m 4ms/step - accuracy: 0.9831 - loss: 0.0661 - val_accuracy: 0.9741 - val_loss: 0.0866\n",
            "Epoch 30/30\n",
            "\u001b[1m1875/1875\u001b[0m \u001b[32m━━━━━━━━━━━━━━━━━━━━\u001b[0m\u001b[37m\u001b[0m \u001b[1m9s\u001b[0m 5ms/step - accuracy: 0.9837 - loss: 0.0652 - val_accuracy: 0.9741 - val_loss: 0.0854\n"
          ]
        }
      ]
    },
    {
      "cell_type": "code",
      "source": [
        "pd.DataFrame(history_flatten.history).plot(figsize=(8,5))\n",
        "plt.grid(True)\n",
        "plt.gca().set_ylim(0,1)\n",
        "plt.show()"
      ],
      "metadata": {
        "colab": {
          "base_uri": "https://localhost:8080/",
          "height": 451
        },
        "id": "U1XE9JDgwKaC",
        "outputId": "b33a5539-1bb5-4f29-e5e0-d6af46997433"
      },
      "execution_count": 27,
      "outputs": [
        {
          "output_type": "display_data",
          "data": {
            "text/plain": [
              "<Figure size 800x500 with 1 Axes>"
            ],
            "image/png": "[encoded data removed]"
          },
          "metadata": {}
        }
      ]
    },
    {
      "cell_type": "code",
      "source": [
        "test_loss, test_acc = model_flatten.evaluate(flattened_image_test_, test_labels_categorical)\n",
        "print(f\"\\nPrecisión en el conjunto de test: {test_acc * 100:.2f}%\")\n",
        "print(f\"\\nPérdida en el conjunto de test: {test_loss * 100:.2f}%\")"
      ],
      "metadata": {
        "colab": {
          "base_uri": "https://localhost:8080/"
        },
        "id": "UWipQuvEwNNG",
        "outputId": "fe1e41a6-12e5-41fe-f6f9-9cb77bbe18e3"
      },
      "execution_count": 28,
      "outputs": [
        {
          "output_type": "stream",
          "name": "stdout",
          "text": [
            "\u001b[1m313/313\u001b[0m \u001b[32m━━━━━━━━━━━━━━━━━━━━\u001b[0m\u001b[37m\u001b[0m \u001b[1m1s\u001b[0m 3ms/step - accuracy: 0.9690 - loss: 0.1006\n",
            "\n",
            "Precisión en el conjunto de test: 97.41%\n",
            "\n",
            "Pérdida en el conjunto de test: 8.54%\n"
          ]
        }
      ]
    },
    {
      "cell_type": "markdown",
      "source": [
        "**Respuesta a la pregunta 3.2**:\n",
        "\n",
        "### **Observaciones basadas en la experimentación con el código:**\n",
        "- El uso de reshape manual y usar los datos ya como vectores funciona igual que usar la capa Flatten.\n",
        "- Ambas opciones convierten las imágenes en vectores, pero la capa Flatten hace esto automáticamente dentro del modelo, facilitando la construcción y lectura del código.\n",
        "- En cuanto a desempeño, se observan resultados similares en precisión y pérdida, con ligeras diferencias debidas a la optimización.\n",
        "- Sin embargo, **no usar Flatten ni hacer reshape impediría que la red densa funcione correctamente**, pues no podría procesar entradas 2D directamente."
      ],
      "metadata": {
        "id": "D8vHUgfz0_ac"
      }
    },
    {
      "cell_type": "markdown",
      "source": [
        "**Pregunta 3.3 (0.25 puntos)**: Utiliza la función summary() para mostrar la estructura de tu modelo."
      ],
      "metadata": {
        "id": "QFVEWNBV1WnY"
      }
    },
    {
      "cell_type": "code",
      "source": [
        "### Tu código aquí ###\n",
        "model_original.summary()"
      ],
      "metadata": {
        "id": "YQpJ-DW61lOO",
        "colab": {
          "base_uri": "https://localhost:8080/",
          "height": 255
        },
        "outputId": "7de3e602-5861-4199-ecad-9c8e9aef55cb"
      },
      "execution_count": 29,
      "outputs": [
        {
          "output_type": "display_data",
          "data": {
            "text/plain": [
              "\u001b[1mModel: \"sequential\"\u001b[0m\n"
            ],
            "text/html": [
              "<pre style=\"white-space:pre;overflow-x:auto;line-height:normal;font-family:Menlo,'DejaVu Sans Mono',consolas,'Courier New',monospace\"><span style=\"font-weight: bold\">Model: \"sequential\"</span>\n",
              "</pre>\n"
            ]
          },
          "metadata": {}
        },
        {
          "output_type": "display_data",
          "data": {
            "text/plain": [
              "┏━━━━━━━━━━━━━━━━━━━━━━━━━━━━━━━━━┳━━━━━━━━━━━━━━━━━━━━━━━━┳━━━━━━━━━━━━━━━┓\n",
              "┃\u001b[1m \u001b[0m\u001b[1mLayer (type)                   \u001b[0m\u001b[1m \u001b[0m┃\u001b[1m \u001b[0m\u001b[1mOutput Shape          \u001b[0m\u001b[1m \u001b[0m┃\u001b[1m \u001b[0m\u001b[1m      Param #\u001b[0m\u001b[1m \u001b[0m┃\n",
              "┡━━━━━━━━━━━━━━━━━━━━━━━━━━━━━━━━━╇━━━━━━━━━━━━━━━━━━━━━━━━╇━━━━━━━━━━━━━━━┩\n",
              "│ flatten (\u001b[38;5;33mFlatten\u001b[0m)               │ (\u001b[38;5;45mNone\u001b[0m, \u001b[38;5;34m784\u001b[0m)            │             \u001b[38;5;34m0\u001b[0m │\n",
              "├─────────────────────────────────┼────────────────────────┼───────────────┤\n",
              "│ dense (\u001b[38;5;33mDense\u001b[0m)                   │ (\u001b[38;5;45mNone\u001b[0m, \u001b[38;5;34m512\u001b[0m)            │       \u001b[38;5;34m401,920\u001b[0m │\n",
              "├─────────────────────────────────┼────────────────────────┼───────────────┤\n",
              "│ dense_1 (\u001b[38;5;33mDense\u001b[0m)                 │ (\u001b[38;5;45mNone\u001b[0m, \u001b[38;5;34m10\u001b[0m)             │         \u001b[38;5;34m5,130\u001b[0m │\n",
              "└─────────────────────────────────┴────────────────────────┴───────────────┘\n"
            ],
            "text/html": [
              "<pre style=\"white-space:pre;overflow-x:auto;line-height:normal;font-family:Menlo,'DejaVu Sans Mono',consolas,'Courier New',monospace\">┏━━━━━━━━━━━━━━━━━━━━━━━━━━━━━━━━━┳━━━━━━━━━━━━━━━━━━━━━━━━┳━━━━━━━━━━━━━━━┓\n",
              "┃<span style=\"font-weight: bold\"> Layer (type)                    </span>┃<span style=\"font-weight: bold\"> Output Shape           </span>┃<span style=\"font-weight: bold\">       Param # </span>┃\n",
              "┡━━━━━━━━━━━━━━━━━━━━━━━━━━━━━━━━━╇━━━━━━━━━━━━━━━━━━━━━━━━╇━━━━━━━━━━━━━━━┩\n",
              "│ flatten (<span style=\"color: #0087ff; text-decoration-color: #0087ff\">Flatten</span>)               │ (<span style=\"color: #00d7ff; text-decoration-color: #00d7ff\">None</span>, <span style=\"color: #00af00; text-decoration-color: #00af00\">784</span>)            │             <span style=\"color: #00af00; text-decoration-color: #00af00\">0</span> │\n",
              "├─────────────────────────────────┼────────────────────────┼───────────────┤\n",
              "│ dense (<span style=\"color: #0087ff; text-decoration-color: #0087ff\">Dense</span>)                   │ (<span style=\"color: #00d7ff; text-decoration-color: #00d7ff\">None</span>, <span style=\"color: #00af00; text-decoration-color: #00af00\">512</span>)            │       <span style=\"color: #00af00; text-decoration-color: #00af00\">401,920</span> │\n",
              "├─────────────────────────────────┼────────────────────────┼───────────────┤\n",
              "│ dense_1 (<span style=\"color: #0087ff; text-decoration-color: #0087ff\">Dense</span>)                 │ (<span style=\"color: #00d7ff; text-decoration-color: #00d7ff\">None</span>, <span style=\"color: #00af00; text-decoration-color: #00af00\">10</span>)             │         <span style=\"color: #00af00; text-decoration-color: #00af00\">5,130</span> │\n",
              "└─────────────────────────────────┴────────────────────────┴───────────────┘\n",
              "</pre>\n"
            ]
          },
          "metadata": {}
        },
        {
          "output_type": "display_data",
          "data": {
            "text/plain": [
              "\u001b[1m Total params: \u001b[0m\u001b[38;5;34m1,221,152\u001b[0m (4.66 MB)\n"
            ],
            "text/html": [
              "<pre style=\"white-space:pre;overflow-x:auto;line-height:normal;font-family:Menlo,'DejaVu Sans Mono',consolas,'Courier New',monospace\"><span style=\"font-weight: bold\"> Total params: </span><span style=\"color: #00af00; text-decoration-color: #00af00\">1,221,152</span> (4.66 MB)\n",
              "</pre>\n"
            ]
          },
          "metadata": {}
        },
        {
          "output_type": "display_data",
          "data": {
            "text/plain": [
              "\u001b[1m Trainable params: \u001b[0m\u001b[38;5;34m407,050\u001b[0m (1.55 MB)\n"
            ],
            "text/html": [
              "<pre style=\"white-space:pre;overflow-x:auto;line-height:normal;font-family:Menlo,'DejaVu Sans Mono',consolas,'Courier New',monospace\"><span style=\"font-weight: bold\"> Trainable params: </span><span style=\"color: #00af00; text-decoration-color: #00af00\">407,050</span> (1.55 MB)\n",
              "</pre>\n"
            ]
          },
          "metadata": {}
        },
        {
          "output_type": "display_data",
          "data": {
            "text/plain": [
              "\u001b[1m Non-trainable params: \u001b[0m\u001b[38;5;34m0\u001b[0m (0.00 B)\n"
            ],
            "text/html": [
              "<pre style=\"white-space:pre;overflow-x:auto;line-height:normal;font-family:Menlo,'DejaVu Sans Mono',consolas,'Courier New',monospace\"><span style=\"font-weight: bold\"> Non-trainable params: </span><span style=\"color: #00af00; text-decoration-color: #00af00\">0</span> (0.00 B)\n",
              "</pre>\n"
            ]
          },
          "metadata": {}
        },
        {
          "output_type": "display_data",
          "data": {
            "text/plain": [
              "\u001b[1m Optimizer params: \u001b[0m\u001b[38;5;34m814,102\u001b[0m (3.11 MB)\n"
            ],
            "text/html": [
              "<pre style=\"white-space:pre;overflow-x:auto;line-height:normal;font-family:Menlo,'DejaVu Sans Mono',consolas,'Courier New',monospace\"><span style=\"font-weight: bold\"> Optimizer params: </span><span style=\"color: #00af00; text-decoration-color: #00af00\">814,102</span> (3.11 MB)\n",
              "</pre>\n"
            ]
          },
          "metadata": {}
        }
      ]
    },
    {
      "cell_type": "code",
      "source": [
        "model_flatten.summary()"
      ],
      "metadata": {
        "colab": {
          "base_uri": "https://localhost:8080/",
          "height": 221
        },
        "id": "V5i5fgu0cQCQ",
        "outputId": "cf26485d-bf18-46fa-ff55-95bd68615ba3"
      },
      "execution_count": 30,
      "outputs": [
        {
          "output_type": "display_data",
          "data": {
            "text/plain": [
              "\u001b[1mModel: \"sequential_1\"\u001b[0m\n"
            ],
            "text/html": [
              "<pre style=\"white-space:pre;overflow-x:auto;line-height:normal;font-family:Menlo,'DejaVu Sans Mono',consolas,'Courier New',monospace\"><span style=\"font-weight: bold\">Model: \"sequential_1\"</span>\n",
              "</pre>\n"
            ]
          },
          "metadata": {}
        },
        {
          "output_type": "display_data",
          "data": {
            "text/plain": [
              "┏━━━━━━━━━━━━━━━━━━━━━━━━━━━━━━━━━┳━━━━━━━━━━━━━━━━━━━━━━━━┳━━━━━━━━━━━━━━━┓\n",
              "┃\u001b[1m \u001b[0m\u001b[1mLayer (type)                   \u001b[0m\u001b[1m \u001b[0m┃\u001b[1m \u001b[0m\u001b[1mOutput Shape          \u001b[0m\u001b[1m \u001b[0m┃\u001b[1m \u001b[0m\u001b[1m      Param #\u001b[0m\u001b[1m \u001b[0m┃\n",
              "┡━━━━━━━━━━━━━━━━━━━━━━━━━━━━━━━━━╇━━━━━━━━━━━━━━━━━━━━━━━━╇━━━━━━━━━━━━━━━┩\n",
              "│ dense_2 (\u001b[38;5;33mDense\u001b[0m)                 │ (\u001b[38;5;34m32\u001b[0m, \u001b[38;5;34m512\u001b[0m)              │       \u001b[38;5;34m401,920\u001b[0m │\n",
              "├─────────────────────────────────┼────────────────────────┼───────────────┤\n",
              "│ dense_3 (\u001b[38;5;33mDense\u001b[0m)                 │ (\u001b[38;5;34m32\u001b[0m, \u001b[38;5;34m10\u001b[0m)               │         \u001b[38;5;34m5,130\u001b[0m │\n",
              "└─────────────────────────────────┴────────────────────────┴───────────────┘\n"
            ],
            "text/html": [
              "<pre style=\"white-space:pre;overflow-x:auto;line-height:normal;font-family:Menlo,'DejaVu Sans Mono',consolas,'Courier New',monospace\">┏━━━━━━━━━━━━━━━━━━━━━━━━━━━━━━━━━┳━━━━━━━━━━━━━━━━━━━━━━━━┳━━━━━━━━━━━━━━━┓\n",
              "┃<span style=\"font-weight: bold\"> Layer (type)                    </span>┃<span style=\"font-weight: bold\"> Output Shape           </span>┃<span style=\"font-weight: bold\">       Param # </span>┃\n",
              "┡━━━━━━━━━━━━━━━━━━━━━━━━━━━━━━━━━╇━━━━━━━━━━━━━━━━━━━━━━━━╇━━━━━━━━━━━━━━━┩\n",
              "│ dense_2 (<span style=\"color: #0087ff; text-decoration-color: #0087ff\">Dense</span>)                 │ (<span style=\"color: #00af00; text-decoration-color: #00af00\">32</span>, <span style=\"color: #00af00; text-decoration-color: #00af00\">512</span>)              │       <span style=\"color: #00af00; text-decoration-color: #00af00\">401,920</span> │\n",
              "├─────────────────────────────────┼────────────────────────┼───────────────┤\n",
              "│ dense_3 (<span style=\"color: #0087ff; text-decoration-color: #0087ff\">Dense</span>)                 │ (<span style=\"color: #00af00; text-decoration-color: #00af00\">32</span>, <span style=\"color: #00af00; text-decoration-color: #00af00\">10</span>)               │         <span style=\"color: #00af00; text-decoration-color: #00af00\">5,130</span> │\n",
              "└─────────────────────────────────┴────────────────────────┴───────────────┘\n",
              "</pre>\n"
            ]
          },
          "metadata": {}
        },
        {
          "output_type": "display_data",
          "data": {
            "text/plain": [
              "\u001b[1m Total params: \u001b[0m\u001b[38;5;34m407,052\u001b[0m (1.55 MB)\n"
            ],
            "text/html": [
              "<pre style=\"white-space:pre;overflow-x:auto;line-height:normal;font-family:Menlo,'DejaVu Sans Mono',consolas,'Courier New',monospace\"><span style=\"font-weight: bold\"> Total params: </span><span style=\"color: #00af00; text-decoration-color: #00af00\">407,052</span> (1.55 MB)\n",
              "</pre>\n"
            ]
          },
          "metadata": {}
        },
        {
          "output_type": "display_data",
          "data": {
            "text/plain": [
              "\u001b[1m Trainable params: \u001b[0m\u001b[38;5;34m407,050\u001b[0m (1.55 MB)\n"
            ],
            "text/html": [
              "<pre style=\"white-space:pre;overflow-x:auto;line-height:normal;font-family:Menlo,'DejaVu Sans Mono',consolas,'Courier New',monospace\"><span style=\"font-weight: bold\"> Trainable params: </span><span style=\"color: #00af00; text-decoration-color: #00af00\">407,050</span> (1.55 MB)\n",
              "</pre>\n"
            ]
          },
          "metadata": {}
        },
        {
          "output_type": "display_data",
          "data": {
            "text/plain": [
              "\u001b[1m Non-trainable params: \u001b[0m\u001b[38;5;34m0\u001b[0m (0.00 B)\n"
            ],
            "text/html": [
              "<pre style=\"white-space:pre;overflow-x:auto;line-height:normal;font-family:Menlo,'DejaVu Sans Mono',consolas,'Courier New',monospace\"><span style=\"font-weight: bold\"> Non-trainable params: </span><span style=\"color: #00af00; text-decoration-color: #00af00\">0</span> (0.00 B)\n",
              "</pre>\n"
            ]
          },
          "metadata": {}
        },
        {
          "output_type": "display_data",
          "data": {
            "text/plain": [
              "\u001b[1m Optimizer params: \u001b[0m\u001b[38;5;34m2\u001b[0m (12.00 B)\n"
            ],
            "text/html": [
              "<pre style=\"white-space:pre;overflow-x:auto;line-height:normal;font-family:Menlo,'DejaVu Sans Mono',consolas,'Courier New',monospace\"><span style=\"font-weight: bold\"> Optimizer params: </span><span style=\"color: #00af00; text-decoration-color: #00af00\">2</span> (12.00 B)\n",
              "</pre>\n"
            ]
          },
          "metadata": {}
        }
      ]
    },
    {
      "cell_type": "markdown",
      "source": [
        "## 4: Compilación y entrenamiento"
      ],
      "metadata": {
        "id": "nco-l8vx1Kzb"
      }
    },
    {
      "cell_type": "markdown",
      "source": [
        "**Pregunta 4.1 (0.5 puntos)**: Compila tu modelo. Utiliza ***categorical_crossentropy*** como función de pérdida, ***Adam*** como optimizador, y monitoriza la ***tasa de acierto*** durante el entrenamiento. Explica qué hace cada cosa en la compilación."
      ],
      "metadata": {
        "id": "myZQUTCn1yD3"
      }
    },
    {
      "cell_type": "code",
      "source": [
        "### Tu código aquí ###\n",
        "model_original.compile(\n",
        "    optimizer='adam',\n",
        "    loss='categorical_crossentropy',\n",
        "    metrics=['accuracy']\n",
        ")"
      ],
      "metadata": {
        "id": "I_CPQN9p2a7J"
      },
      "execution_count": 53,
      "outputs": []
    },
    {
      "cell_type": "markdown",
      "source": [
        "**Respuesta a la pregunta 4.1**:\n",
        "\n",
        "#### `optimizer='adam'`\n",
        "- **Adam (Adaptive Moment Estimation)** es un optimizador basado en gradiente descendente, pero con dos mejoras clave:\n",
        "  - **Momentum:** Acumula un promedio exponencial de los gradientes pasados para suavizar el proceso de actualización, evitando oscilaciones.\n",
        "  - **Adaptive Learning Rate:** Ajusta la tasa de aprendizaje para cada parámetro en función de estimaciones de los momentos de primer y segundo orden (media y varianza) de los gradientes.\n",
        "\n",
        "#### `loss='categorical_crossentropy'`\n",
        "- Es la función de pérdida que se utiliza para problemas de **clasificación multiclase**.\n",
        "- El término *categorical* se refiere a que las etiquetas están en formato *one-hot encoding*:\n",
        "  - Ejemplo para tres clases: `[1, 0, 0]`, `[0, 1, 0]`, `[0, 0, 1]`.\n",
        "- La *cross-entropy* mide la diferencia entre la distribución de probabilidad real (etiqueta) y la distribución de probabilidad predicha por la red.\n",
        "\n",
        "#### `metrics=['accuracy']`\n",
        "- Se pide al modelo que monitoree su **tasa de acierto** durante el entrenamiento.\n",
        "- **Accuracy (Precisión):** Es el porcentaje de predicciones correctas sobre el total de predicciones."
      ],
      "metadata": {
        "id": "TJ_vlOrj2dR7"
      }
    },
    {
      "cell_type": "markdown",
      "source": [
        "**Pregunta 4.2 (0.5 puntos)**: Utiliza la función ***fit()*** para entrenar tu modelo. Para ayudarte en tu primer entrenamiento, utiliza estos valores:\n",
        "*   epochs = 5\n",
        "*   batch_size = 32\n",
        "*   validation_split = 0.25\n",
        "\n"
      ],
      "metadata": {
        "id": "f7KSdoEr2rLn"
      }
    },
    {
      "cell_type": "code",
      "source": [
        "### Tu código aquí ###\n",
        "history = model_original.fit(\n",
        "    training_images_norm,\n",
        "    training_labels_categorical,\n",
        "    epochs=5,\n",
        "    batch_size=32,\n",
        "    validation_split=0.25\n",
        ")"
      ],
      "metadata": {
        "id": "yytNVJf33WFU",
        "colab": {
          "base_uri": "https://localhost:8080/"
        },
        "outputId": "d4f208a7-2cc9-4ec3-bedc-a497ee646081"
      },
      "execution_count": 54,
      "outputs": [
        {
          "output_type": "stream",
          "name": "stdout",
          "text": [
            "Epoch 1/5\n",
            "\u001b[1m1407/1407\u001b[0m \u001b[32m━━━━━━━━━━━━━━━━━━━━\u001b[0m\u001b[37m\u001b[0m \u001b[1m12s\u001b[0m 8ms/step - accuracy: 0.9992 - loss: 0.0023 - val_accuracy: 0.9973 - val_loss: 0.0100\n",
            "Epoch 2/5\n",
            "\u001b[1m1407/1407\u001b[0m \u001b[32m━━━━━━━━━━━━━━━━━━━━\u001b[0m\u001b[37m\u001b[0m \u001b[1m20s\u001b[0m 7ms/step - accuracy: 0.9982 - loss: 0.0061 - val_accuracy: 0.9949 - val_loss: 0.0227\n",
            "Epoch 3/5\n",
            "\u001b[1m1407/1407\u001b[0m \u001b[32m━━━━━━━━━━━━━━━━━━━━\u001b[0m\u001b[37m\u001b[0m \u001b[1m21s\u001b[0m 8ms/step - accuracy: 0.9992 - loss: 0.0033 - val_accuracy: 0.9969 - val_loss: 0.0130\n",
            "Epoch 4/5\n",
            "\u001b[1m1407/1407\u001b[0m \u001b[32m━━━━━━━━━━━━━━━━━━━━\u001b[0m\u001b[37m\u001b[0m \u001b[1m10s\u001b[0m 7ms/step - accuracy: 0.9987 - loss: 0.0041 - val_accuracy: 0.9972 - val_loss: 0.0121\n",
            "Epoch 5/5\n",
            "\u001b[1m1407/1407\u001b[0m \u001b[32m━━━━━━━━━━━━━━━━━━━━\u001b[0m\u001b[37m\u001b[0m \u001b[1m11s\u001b[0m 8ms/step - accuracy: 0.9990 - loss: 0.0037 - val_accuracy: 0.9971 - val_loss: 0.0148\n"
          ]
        }
      ]
    },
    {
      "cell_type": "code",
      "source": [
        "pd.DataFrame(history.history).plot(figsize=(8,5))\n",
        "plt.grid(True)\n",
        "plt.gca().set_ylim(0,1)\n",
        "plt.show()"
      ],
      "metadata": {
        "colab": {
          "base_uri": "https://localhost:8080/",
          "height": 451
        },
        "id": "zK8fAxkFkcsW",
        "outputId": "04fe491f-77e5-49fa-8a75-320a695272bb"
      },
      "execution_count": 55,
      "outputs": [
        {
          "output_type": "display_data",
          "data": {
            "text/plain": [
              "<Figure size 800x500 with 1 Axes>"
            ],
            "image/png": "[encoded data removed]"
          },
          "metadata": {}
        }
      ]
    },
    {
      "cell_type": "code",
      "source": [
        "test_loss, test_acc = model_original.evaluate(test_images_norm, test_labels_categorical)\n",
        "print(f\"\\nPrecisión en el conjunto de test: {test_acc * 100:.2f}%\")\n",
        "print(f\"\\nPérdida en el conjunto de test: {test_loss * 100:.2f}%\")"
      ],
      "metadata": {
        "colab": {
          "base_uri": "https://localhost:8080/"
        },
        "id": "_apChpbe5kw4",
        "outputId": "7270a671-2f47-4f99-bff4-6e379ad81e9e"
      },
      "execution_count": 56,
      "outputs": [
        {
          "output_type": "stream",
          "name": "stdout",
          "text": [
            "\u001b[1m313/313\u001b[0m \u001b[32m━━━━━━━━━━━━━━━━━━━━\u001b[0m\u001b[37m\u001b[0m \u001b[1m1s\u001b[0m 3ms/step - accuracy: 0.9810 - loss: 0.1914\n",
            "\n",
            "Precisión en el conjunto de test: 98.30%\n",
            "\n",
            "Pérdida en el conjunto de test: 16.13%\n"
          ]
        }
      ]
    },
    {
      "cell_type": "code",
      "source": [
        "print(\"\\nEntrenamiento con 5 epochs:\")\n",
        "print(f\"Precisión en entrenamiento: {history.history['accuracy'][-1]:.4f}\")\n",
        "print(f\"Pérdida en entrenamiento: {history.history['loss'][-1]:.4f}\")\n",
        "print(f\"Precisión en validación: {history.history['val_accuracy'][-1]:.4f}\")\n",
        "print(f\"Pérdida en validación: {history.history['val_loss'][-1]:.4f}\")"
      ],
      "metadata": {
        "colab": {
          "base_uri": "https://localhost:8080/"
        },
        "id": "Qlhw573rjn5w",
        "outputId": "f41b6835-a2ae-4556-adc5-14898ec9f75b"
      },
      "execution_count": 57,
      "outputs": [
        {
          "output_type": "stream",
          "name": "stdout",
          "text": [
            "\n",
            "Entrenamiento con 5 epochs:\n",
            "Precisión en entrenamiento: 0.9988\n",
            "Pérdida en entrenamiento: 0.0047\n",
            "Precisión en validación: 0.9971\n",
            "Pérdida en validación: 0.0148\n"
          ]
        }
      ]
    },
    {
      "cell_type": "markdown",
      "source": [
        "- Se entrenó el modelo durante 5 épocas con batches de 32 imágenes y un 25% de los datos usado para validación.\n",
        "- La tasa de acierto (accuracy) tanto en entrenamiento como en validación es muy alta (>99%).\n",
        "- La pérdida (loss) es baja, indicando que el modelo aprende bien a clasificar.\n",
        "- La precisión en el conjunto de test (datos no vistos) es del 98.30%, lo que indica buena generalización."
      ],
      "metadata": {
        "id": "3TBBjq4x5sqU"
      }
    },
    {
      "cell_type": "markdown",
      "metadata": {
        "id": "hiQ8qAzhRQ4L"
      },
      "source": [
        "# 5: Impacto al variar el número de neuronas en las capas ocultas\n",
        "\n",
        "En este ejercicio vamos a experimentar con nuestra red neuronal cambiando el numero de neuronas por 512 y por otros valores. Para ello, utiliza la red neuronal de la pregunta 3, y su capa oculta cambia el número de neuronas:\n",
        "\n",
        "* **256 neuronas en la capa oculta\n",
        "* **1024 neuronas en la capa oculta\n",
        "\n",
        "y entrena la red en ambos casos.\n",
        "\n"
      ]
    },
    {
      "cell_type": "code",
      "source": [
        "def create_and_train_model(hidden_neurons, epochs=5, batch_size=32):\n",
        "    model = keras.models.Sequential()\n",
        "    model.add(keras.layers.Flatten(input_shape=[28, 28]))\n",
        "    model.add(keras.layers.Dense(hidden_neurons, activation=\"relu\"))\n",
        "    model.add(keras.layers.Dense(10, activation=\"softmax\"))\n",
        "\n",
        "    # Compilación del modelo\n",
        "    model.compile(optimizer='adam',\n",
        "                  loss='categorical_crossentropy',\n",
        "                  metrics=['accuracy'])\n",
        "\n",
        "    # Entrenamiento del modelo\n",
        "    history = model.fit(training_images_norm, training_labels_categorical,\n",
        "                        epochs=epochs,\n",
        "                        batch_size=batch_size,\n",
        "                        validation_split=0.25,\n",
        "                        verbose=0)\n",
        "\n",
        "    # Evaluación en el conjunto de test\n",
        "    test_loss, test_acc = model.evaluate(test_images_norm, test_labels_categorical, verbose=0)\n",
        "\n",
        "    return history, test_loss, test_acc"
      ],
      "metadata": {
        "id": "rmQyArSh9LLy"
      },
      "execution_count": 35,
      "outputs": []
    },
    {
      "cell_type": "code",
      "metadata": {
        "id": "cdP8ZwuaUV93",
        "colab": {
          "base_uri": "https://localhost:8080/"
        },
        "outputId": "37a21abb-dac4-4a1e-f217-6deec571c697"
      },
      "source": [
        "### Tu código para 256 neuronas aquí ###\n",
        "history_256, loss_256, acc_256 = create_and_train_model(256)"
      ],
      "execution_count": 36,
      "outputs": [
        {
          "output_type": "stream",
          "name": "stderr",
          "text": [
            "/usr/local/lib/python3.11/dist-packages/keras/src/layers/reshaping/flatten.py:37: UserWarning: Do not pass an `input_shape`/`input_dim` argument to a layer. When using Sequential models, prefer using an `Input(shape)` object as the first layer in the model instead.\n",
            "  super().__init__(**kwargs)\n"
          ]
        }
      ]
    },
    {
      "cell_type": "code",
      "metadata": {
        "id": "YXBlbbfuUaPa"
      },
      "source": [
        "### Tu código para 1024 neuronas aquí ###\n",
        "history_1024, loss_1024, acc_1024 = create_and_train_model(1024)"
      ],
      "execution_count": 37,
      "outputs": []
    },
    {
      "cell_type": "code",
      "source": [
        "(loss_256, acc_256), (loss_1024, acc_1024)"
      ],
      "metadata": {
        "colab": {
          "base_uri": "https://localhost:8080/"
        },
        "id": "uyy1_hWn9QTn",
        "outputId": "d317eec0-684e-497c-d2eb-ef7eb9a9672e"
      },
      "execution_count": 38,
      "outputs": [
        {
          "output_type": "execute_result",
          "data": {
            "text/plain": [
              "((0.07643066346645355, 0.9771999716758728),\n",
              " (0.07649939507246017, 0.9793000221252441))"
            ]
          },
          "metadata": {},
          "execution_count": 38
        }
      ]
    },
    {
      "cell_type": "markdown",
      "metadata": {
        "id": "wG0h2HL-Uj93"
      },
      "source": [
        "**Pregunta 5.1 (0.5 puntos)**: ¿Cual es el impacto que tiene la red neuronal?"
      ]
    },
    {
      "cell_type": "markdown",
      "source": [
        "Respuesta a la pregunta 5.1:\n",
        "\n",
        "Se entrenaron dos modelos con la misma arquitectura, cambiando únicamente el número de neuronas en la capa oculta: uno con 256 neuronas y otro con 1024 neuronas. Los resultados obtenidos fueron:\n",
        "\n",
        "| Número de neuronas | Pérdida (loss) | Precisión (accuracy) |\n",
        "| ------------------ | -------------- | -------------------- |\n",
        "| 256                | 0.0764         | 97.72%               |\n",
        "| 1024               | 0.0765         | 97.93%               |\n",
        "\n",
        "**Conclusiones:**\n",
        "- La precisión mejora ligeramente al aumentar el número de neuronas de 256 a 1024.\n",
        "- La pérdida se mantiene prácticamente igual en ambos casos.\n",
        "- Esto indica que aumentar el número de neuronas aporta una mejora leve en el rendimiento del modelo, pero no es un cambio drástico.\n",
        "- La red con 256 neuronas ya tiene suficiente capacidad para aprender el problema de manera efectiva, y el incremento a 1024 neuronas no genera una mejora significativa.\n",
        "- Para esta tarea y conjunto de datos, un tamaño moderado en la capa oculta es suficiente y más neuronas solo aportan mínimos beneficios."
      ],
      "metadata": {
        "id": "0ff9PdKi7wgq"
      }
    },
    {
      "cell_type": "markdown",
      "metadata": {
        "id": "f37cIr81ZYJj"
      },
      "source": [
        "# 6: Número de neuronas de la capa de salida\n",
        "Considerad la capa final, la de salida de la red neuronal de la pregunta 3.\n",
        "\n",
        "**Pregunta 6.1 (0.25 puntos)**: ¿Por qué son 10 las neuronas de la última capa?\n",
        "\n",
        "**Pregunta 6.2 (0.25 puntos)**: ¿Qué pasaría si tuvieras una cantidad diferente a 10?\n",
        "\n",
        "Por ejemplo, intenta entrenar la red con 5, para ello utiliza la red neuronal de la pregunta 1 y cambia a 5 el número de neuronas en la última capa."
      ]
    },
    {
      "cell_type": "code",
      "source": [
        "### Tu código de la red neuronal con 5 neuronas en la capa de salida de la pregunta 7 aquí ###\n",
        "model_5 = keras.models.Sequential()\n",
        "model_5.add(keras.layers.Flatten(input_shape=[28, 28]))\n",
        "model_5.add(keras.layers.Dense(512, activation=\"relu\"))\n",
        "model_5.add(keras.layers.Dense(5, activation=\"softmax\"))\n",
        "\n",
        "model_15 = keras.models.Sequential()\n",
        "model_15.add(keras.layers.Flatten(input_shape=[28, 28]))\n",
        "model_15.add(keras.layers.Dense(512, activation=\"relu\"))\n",
        "model_15.add(keras.layers.Dense(15, activation=\"softmax\"))"
      ],
      "metadata": {
        "id": "A0AHorjyB6zH"
      },
      "execution_count": 39,
      "outputs": []
    },
    {
      "cell_type": "code",
      "source": [
        "model_5.compile(\n",
        "    optimizer='adam',\n",
        "    loss='categorical_crossentropy',\n",
        "    metrics=['accuracy']\n",
        ")\n",
        "\n",
        "model_15.compile(\n",
        "    optimizer='adam',\n",
        "    loss='categorical_crossentropy',\n",
        "    metrics=['accuracy']\n",
        ")"
      ],
      "metadata": {
        "id": "HLCTG3VzCB41"
      },
      "execution_count": 40,
      "outputs": []
    },
    {
      "cell_type": "code",
      "source": [
        "try:\n",
        "  history_original = model_5.fit(\n",
        "    training_images_norm,\n",
        "    training_labels_categorical,\n",
        "    epochs=5,\n",
        "    batch_size=32,\n",
        "    validation_split=0.25\n",
        "  )\n",
        "except ValueError as e:\n",
        "    print(f\"Ocurrió un error al entrenar el modelo: {e}\")\n",
        "\n",
        "try:\n",
        "  history_original = model_15.fit(\n",
        "    training_images_norm,\n",
        "    training_labels_categorical,\n",
        "    epochs=5,\n",
        "    batch_size=32,\n",
        "    validation_split=0.25\n",
        "  )\n",
        "except ValueError as e:\n",
        "    print(f\"Ocurrió un error al entrenar el modelo: {e}\")"
      ],
      "metadata": {
        "colab": {
          "base_uri": "https://localhost:8080/"
        },
        "id": "yzKbjp-cCCub",
        "outputId": "87e54c29-2e9d-4e02-9916-5d82442fc0d7"
      },
      "execution_count": 41,
      "outputs": [
        {
          "output_type": "stream",
          "name": "stdout",
          "text": [
            "Epoch 1/5\n",
            "Ocurrió un error al entrenar el modelo: Arguments `target` and `output` must have the same shape. Received: target.shape=(None, 10), output.shape=(None, 5)\n",
            "Epoch 1/5\n",
            "Ocurrió un error al entrenar el modelo: Arguments `target` and `output` must have the same shape. Received: target.shape=(None, 10), output.shape=(None, 15)\n"
          ]
        }
      ]
    },
    {
      "cell_type": "markdown",
      "metadata": {
        "id": "SLsQcq-6aUoD"
      },
      "source": [
        "Tu respuestas a la pregunta 6.1 aquí:\n",
        "\n",
        "La última capa de la red tiene 10 neuronas porque el problema que se está resolviendo es una clasificación con 10 clases diferentes. Cada neurona representa una clase posible (por ejemplo, dígitos del 0 al 9 en MNIST). La salida de cada neurona es la probabilidad estimada de que la entrada pertenezca a esa clase específica, y la suma de las salidas es 1 gracias a la función de activación softmax.\n",
        "\n",
        "Por eso, el número de neuronas en la última capa debe coincidir con el número de clases que queremos identificar."
      ]
    },
    {
      "cell_type": "markdown",
      "metadata": {
        "id": "J1f_7ZFeaUu6"
      },
      "source": [
        "Tu respuestas a la pregunta 6.2 aquí:\n",
        "\n",
        "Cuando se cambia el número de neuronas en la capa de salida a un número distinto de 10 (por ejemplo, 5 o 15), se produce un error durante el entrenamiento:\n",
        "- Esto ocurre porque las etiquetas de entrenamiento están codificadas para 10 clases (tienen dimensión 10).\n",
        "- La red espera que la salida tenga la misma dimensión que las etiquetas para calcular la función de pérdida (categorical crossentropy).\n",
        "- Si la salida tiene menos o más neuronas, la dimensión no coincide y se genera un error como se muestra."
      ]
    },
    {
      "cell_type": "markdown",
      "metadata": {
        "id": "HNIBCkshaf2y"
      },
      "source": [
        "# 7: Aumento de epoch y su efecto en la red neuronal\n",
        "En este ejercicio vamos a ver el impacto de aumentar los epoch en el entrenamiento. Usando la red neuronal de la pregunta 3:\n",
        "\n",
        "**Pregunta 7.1 (0.25 puntos)**\n",
        "* Intentad 15 epoch para su entrenamiento, probablemente obtendras un modelo con una pérdida mucho mejor que el que tiene 5.\n",
        "\n",
        "**Pregunta 7.2 (0.25 puntos)**\n",
        "* Intenta ahora con 30 epoch para su entrenamiento.\n",
        "\n",
        "**Pregunta 7.3 (0.25 puntos)**\n",
        "* ¿Qué está pasando en la pregunta anterior? Explica tu respuesta y da el nombre de este efecto si lo conoces."
      ]
    },
    {
      "cell_type": "code",
      "source": [
        "model_original_15 = keras.models.Sequential()\n",
        "model_original_15.add(keras.layers.Flatten(input_shape=[28, 28]))\n",
        "model_original_15.add(keras.layers.Dense(512, activation=\"relu\"))\n",
        "model_original_15.add(keras.layers.Dense(10, activation=\"softmax\"))"
      ],
      "metadata": {
        "id": "aAvddFK4RAMe"
      },
      "execution_count": 42,
      "outputs": []
    },
    {
      "cell_type": "code",
      "metadata": {
        "id": "Cb5vk_imG4iZ",
        "colab": {
          "base_uri": "https://localhost:8080/"
        },
        "outputId": "7c1f300a-cc14-475b-bff4-47ac5f188504"
      },
      "source": [
        "### Tu código para 15 epoch aquí ###\n",
        "model_original_15.compile(\n",
        "    optimizer='adam',\n",
        "    loss='categorical_crossentropy',\n",
        "    metrics=['accuracy']\n",
        ")\n",
        "\n",
        "history_15 = model_original_15.fit(training_images_norm, training_labels_categorical, epochs=15, batch_size=32, validation_split=0.25)"
      ],
      "execution_count": 43,
      "outputs": [
        {
          "output_type": "stream",
          "name": "stdout",
          "text": [
            "Epoch 1/15\n",
            "\u001b[1m1407/1407\u001b[0m \u001b[32m━━━━━━━━━━━━━━━━━━━━\u001b[0m\u001b[37m\u001b[0m \u001b[1m12s\u001b[0m 8ms/step - accuracy: 0.8927 - loss: 0.3705 - val_accuracy: 0.9637 - val_loss: 0.1206\n",
            "Epoch 2/15\n",
            "\u001b[1m1407/1407\u001b[0m \u001b[32m━━━━━━━━━━━━━━━━━━━━\u001b[0m\u001b[37m\u001b[0m \u001b[1m11s\u001b[0m 8ms/step - accuracy: 0.9730 - loss: 0.0894 - val_accuracy: 0.9673 - val_loss: 0.1064\n",
            "Epoch 3/15\n",
            "\u001b[1m1407/1407\u001b[0m \u001b[32m━━━━━━━━━━━━━━━━━━━━\u001b[0m\u001b[37m\u001b[0m \u001b[1m9s\u001b[0m 7ms/step - accuracy: 0.9827 - loss: 0.0552 - val_accuracy: 0.9731 - val_loss: 0.0876\n",
            "Epoch 4/15\n",
            "\u001b[1m1407/1407\u001b[0m \u001b[32m━━━━━━━━━━━━━━━━━━━━\u001b[0m\u001b[37m\u001b[0m \u001b[1m11s\u001b[0m 7ms/step - accuracy: 0.9890 - loss: 0.0370 - val_accuracy: 0.9708 - val_loss: 0.0953\n",
            "Epoch 5/15\n",
            "\u001b[1m1407/1407\u001b[0m \u001b[32m━━━━━━━━━━━━━━━━━━━━\u001b[0m\u001b[37m\u001b[0m \u001b[1m21s\u001b[0m 8ms/step - accuracy: 0.9915 - loss: 0.0274 - val_accuracy: 0.9731 - val_loss: 0.0902\n",
            "Epoch 6/15\n",
            "\u001b[1m1407/1407\u001b[0m \u001b[32m━━━━━━━━━━━━━━━━━━━━\u001b[0m\u001b[37m\u001b[0m \u001b[1m10s\u001b[0m 7ms/step - accuracy: 0.9935 - loss: 0.0192 - val_accuracy: 0.9756 - val_loss: 0.0898\n",
            "Epoch 7/15\n",
            "\u001b[1m1407/1407\u001b[0m \u001b[32m━━━━━━━━━━━━━━━━━━━━\u001b[0m\u001b[37m\u001b[0m \u001b[1m20s\u001b[0m 7ms/step - accuracy: 0.9946 - loss: 0.0168 - val_accuracy: 0.9773 - val_loss: 0.0852\n",
            "Epoch 8/15\n",
            "\u001b[1m1407/1407\u001b[0m \u001b[32m━━━━━━━━━━━━━━━━━━━━\u001b[0m\u001b[37m\u001b[0m \u001b[1m11s\u001b[0m 7ms/step - accuracy: 0.9967 - loss: 0.0102 - val_accuracy: 0.9779 - val_loss: 0.0876\n",
            "Epoch 9/15\n",
            "\u001b[1m1407/1407\u001b[0m \u001b[32m━━━━━━━━━━━━━━━━━━━━\u001b[0m\u001b[37m\u001b[0m \u001b[1m11s\u001b[0m 8ms/step - accuracy: 0.9972 - loss: 0.0088 - val_accuracy: 0.9743 - val_loss: 0.1137\n",
            "Epoch 10/15\n",
            "\u001b[1m1407/1407\u001b[0m \u001b[32m━━━━━━━━━━━━━━━━━━━━\u001b[0m\u001b[37m\u001b[0m \u001b[1m11s\u001b[0m 8ms/step - accuracy: 0.9965 - loss: 0.0097 - val_accuracy: 0.9767 - val_loss: 0.1036\n",
            "Epoch 11/15\n",
            "\u001b[1m1407/1407\u001b[0m \u001b[32m━━━━━━━━━━━━━━━━━━━━\u001b[0m\u001b[37m\u001b[0m \u001b[1m21s\u001b[0m 8ms/step - accuracy: 0.9970 - loss: 0.0085 - val_accuracy: 0.9756 - val_loss: 0.1267\n",
            "Epoch 12/15\n",
            "\u001b[1m1407/1407\u001b[0m \u001b[32m━━━━━━━━━━━━━━━━━━━━\u001b[0m\u001b[37m\u001b[0m \u001b[1m10s\u001b[0m 7ms/step - accuracy: 0.9973 - loss: 0.0094 - val_accuracy: 0.9785 - val_loss: 0.1086\n",
            "Epoch 13/15\n",
            "\u001b[1m1407/1407\u001b[0m \u001b[32m━━━━━━━━━━━━━━━━━━━━\u001b[0m\u001b[37m\u001b[0m \u001b[1m10s\u001b[0m 7ms/step - accuracy: 0.9978 - loss: 0.0082 - val_accuracy: 0.9758 - val_loss: 0.1211\n",
            "Epoch 14/15\n",
            "\u001b[1m1407/1407\u001b[0m \u001b[32m━━━━━━━━━━━━━━━━━━━━\u001b[0m\u001b[37m\u001b[0m \u001b[1m11s\u001b[0m 7ms/step - accuracy: 0.9977 - loss: 0.0065 - val_accuracy: 0.9774 - val_loss: 0.1203\n",
            "Epoch 15/15\n",
            "\u001b[1m1407/1407\u001b[0m \u001b[32m━━━━━━━━━━━━━━━━━━━━\u001b[0m\u001b[37m\u001b[0m \u001b[1m10s\u001b[0m 7ms/step - accuracy: 0.9989 - loss: 0.0046 - val_accuracy: 0.9783 - val_loss: 0.1186\n"
          ]
        }
      ]
    },
    {
      "cell_type": "code",
      "source": [
        "pd.DataFrame(history_15.history).plot(figsize=(8,5))\n",
        "plt.grid(True)\n",
        "plt.gca().set_ylim(0,1)\n",
        "plt.show()"
      ],
      "metadata": {
        "colab": {
          "base_uri": "https://localhost:8080/",
          "height": 451
        },
        "id": "AZEgDyikE8U-",
        "outputId": "41964c4a-5c3b-4c93-ef4c-b9a0c4f13dfe"
      },
      "execution_count": 44,
      "outputs": [
        {
          "output_type": "display_data",
          "data": {
            "text/plain": [
              "<Figure size 800x500 with 1 Axes>"
            ],
            "image/png": "[encoded data removed]"
          },
          "metadata": {}
        }
      ]
    },
    {
      "cell_type": "code",
      "source": [
        "test_loss, test_acc = model_original_15.evaluate(test_images_norm, test_labels_categorical)\n",
        "print(f\"\\nPrecisión en el conjunto de test: {test_acc * 100:.2f}%\")\n",
        "print(f\"\\nPérdida en el conjunto de test: {test_loss * 100:.2f}%\")"
      ],
      "metadata": {
        "colab": {
          "base_uri": "https://localhost:8080/"
        },
        "id": "xqGN0YXOE-CZ",
        "outputId": "6182fdbd-80f3-4998-a523-f8d65769a138"
      },
      "execution_count": 45,
      "outputs": [
        {
          "output_type": "stream",
          "name": "stdout",
          "text": [
            "\u001b[1m313/313\u001b[0m \u001b[32m━━━━━━━━━━━━━━━━━━━━\u001b[0m\u001b[37m\u001b[0m \u001b[1m1s\u001b[0m 2ms/step - accuracy: 0.9763 - loss: 0.1064\n",
            "\n",
            "Precisión en el conjunto de test: 97.98%\n",
            "\n",
            "Pérdida en el conjunto de test: 9.39%\n"
          ]
        }
      ]
    },
    {
      "cell_type": "code",
      "source": [
        "print(\"Entrenamiento con 15 epochs:\")\n",
        "print(f\"Precisión en entrenamiento: {history_15.history['accuracy'][-1]:.4f}\")\n",
        "print(f\"Pérdida en entrenamiento: {history_15.history['loss'][-1]:.4f}\")\n",
        "print(f\"Precisión en validación: {history_15.history['val_accuracy'][-1]:.4f}\")\n",
        "print(f\"Pérdida en validación: {history_15.history['val_loss'][-1]:.4f}\")"
      ],
      "metadata": {
        "colab": {
          "base_uri": "https://localhost:8080/"
        },
        "id": "7OiCXU6ZRL2d",
        "outputId": "67873973-5cd1-4b1a-cb4c-17a88ac235b4"
      },
      "execution_count": 46,
      "outputs": [
        {
          "output_type": "stream",
          "name": "stdout",
          "text": [
            "Entrenamiento con 15 epochs:\n",
            "Precisión en entrenamiento: 0.9979\n",
            "Pérdida en entrenamiento: 0.0075\n",
            "Precisión en validación: 0.9783\n",
            "Pérdida en validación: 0.1186\n"
          ]
        }
      ]
    },
    {
      "cell_type": "markdown",
      "source": [
        "Al entrenar la red neuronal con **15 épocas**, se observó una mejora notable en la precisión y una reducción en la pérdida del modelo durante las primeras épocas. Sin embargo, a partir de la época 8, la pérdida en el conjunto de validación dejó de mejorar significativamente y comenzó a estabilizarse, e incluso a incrementarse ligeramente en algunas iteraciones."
      ],
      "metadata": {
        "id": "Wj2VpT_Mm_c4"
      }
    },
    {
      "cell_type": "code",
      "metadata": {
        "id": "I9jQ26Gda5cv",
        "colab": {
          "base_uri": "https://localhost:8080/"
        },
        "outputId": "d205da06-3949-4345-ac45-dc6173935caf"
      },
      "source": [
        "### Tu código para 30 epoch aquí ###\n",
        "history_30 = model_original_15.fit(training_images_norm, training_labels_categorical, epochs=30, batch_size=32, validation_split=0.25)"
      ],
      "execution_count": 47,
      "outputs": [
        {
          "output_type": "stream",
          "name": "stdout",
          "text": [
            "Epoch 1/30\n",
            "\u001b[1m1407/1407\u001b[0m \u001b[32m━━━━━━━━━━━━━━━━━━━━\u001b[0m\u001b[37m\u001b[0m \u001b[1m10s\u001b[0m 7ms/step - accuracy: 0.9975 - loss: 0.0078 - val_accuracy: 0.9760 - val_loss: 0.1365\n",
            "Epoch 2/30\n",
            "\u001b[1m1407/1407\u001b[0m \u001b[32m━━━━━━━━━━━━━━━━━━━━\u001b[0m\u001b[37m\u001b[0m \u001b[1m21s\u001b[0m 8ms/step - accuracy: 0.9981 - loss: 0.0058 - val_accuracy: 0.9769 - val_loss: 0.1316\n",
            "Epoch 3/30\n",
            "\u001b[1m1407/1407\u001b[0m \u001b[32m━━━━━━━━━━━━━━━━━━━━\u001b[0m\u001b[37m\u001b[0m \u001b[1m10s\u001b[0m 7ms/step - accuracy: 0.9990 - loss: 0.0033 - val_accuracy: 0.9775 - val_loss: 0.1319\n",
            "Epoch 4/30\n",
            "\u001b[1m1407/1407\u001b[0m \u001b[32m━━━━━━━━━━━━━━━━━━━━\u001b[0m\u001b[37m\u001b[0m \u001b[1m11s\u001b[0m 8ms/step - accuracy: 0.9976 - loss: 0.0078 - val_accuracy: 0.9759 - val_loss: 0.1355\n",
            "Epoch 5/30\n",
            "\u001b[1m1407/1407\u001b[0m \u001b[32m━━━━━━━━━━━━━━━━━━━━\u001b[0m\u001b[37m\u001b[0m \u001b[1m11s\u001b[0m 7ms/step - accuracy: 0.9980 - loss: 0.0060 - val_accuracy: 0.9746 - val_loss: 0.1563\n",
            "Epoch 6/30\n",
            "\u001b[1m1407/1407\u001b[0m \u001b[32m━━━━━━━━━━━━━━━━━━━━\u001b[0m\u001b[37m\u001b[0m \u001b[1m11s\u001b[0m 7ms/step - accuracy: 0.9985 - loss: 0.0046 - val_accuracy: 0.9789 - val_loss: 0.1438\n",
            "Epoch 7/30\n",
            "\u001b[1m1407/1407\u001b[0m \u001b[32m━━━━━━━━━━━━━━━━━━━━\u001b[0m\u001b[37m\u001b[0m \u001b[1m10s\u001b[0m 7ms/step - accuracy: 0.9995 - loss: 0.0019 - val_accuracy: 0.9693 - val_loss: 0.1755\n",
            "Epoch 8/30\n",
            "\u001b[1m1407/1407\u001b[0m \u001b[32m━━━━━━━━━━━━━━━━━━━━\u001b[0m\u001b[37m\u001b[0m \u001b[1m9s\u001b[0m 7ms/step - accuracy: 0.9975 - loss: 0.0082 - val_accuracy: 0.9772 - val_loss: 0.1391\n",
            "Epoch 9/30\n",
            "\u001b[1m1407/1407\u001b[0m \u001b[32m━━━━━━━━━━━━━━━━━━━━\u001b[0m\u001b[37m\u001b[0m \u001b[1m10s\u001b[0m 7ms/step - accuracy: 0.9991 - loss: 0.0026 - val_accuracy: 0.9790 - val_loss: 0.1395\n",
            "Epoch 10/30\n",
            "\u001b[1m1407/1407\u001b[0m \u001b[32m━━━━━━━━━━━━━━━━━━━━\u001b[0m\u001b[37m\u001b[0m \u001b[1m21s\u001b[0m 8ms/step - accuracy: 0.9997 - loss: 0.0011 - val_accuracy: 0.9703 - val_loss: 0.2151\n",
            "Epoch 11/30\n",
            "\u001b[1m1407/1407\u001b[0m \u001b[32m━━━━━━━━━━━━━━━━━━━━\u001b[0m\u001b[37m\u001b[0m \u001b[1m10s\u001b[0m 7ms/step - accuracy: 0.9968 - loss: 0.0110 - val_accuracy: 0.9772 - val_loss: 0.1631\n",
            "Epoch 12/30\n",
            "\u001b[1m1407/1407\u001b[0m \u001b[32m━━━━━━━━━━━━━━━━━━━━\u001b[0m\u001b[37m\u001b[0m \u001b[1m11s\u001b[0m 8ms/step - accuracy: 0.9991 - loss: 0.0028 - val_accuracy: 0.9755 - val_loss: 0.1755\n",
            "Epoch 13/30\n",
            "\u001b[1m1407/1407\u001b[0m \u001b[32m━━━━━━━━━━━━━━━━━━━━\u001b[0m\u001b[37m\u001b[0m \u001b[1m20s\u001b[0m 7ms/step - accuracy: 0.9982 - loss: 0.0048 - val_accuracy: 0.9781 - val_loss: 0.1612\n",
            "Epoch 14/30\n",
            "\u001b[1m1407/1407\u001b[0m \u001b[32m━━━━━━━━━━━━━━━━━━━━\u001b[0m\u001b[37m\u001b[0m \u001b[1m21s\u001b[0m 8ms/step - accuracy: 0.9984 - loss: 0.0051 - val_accuracy: 0.9784 - val_loss: 0.1756\n",
            "Epoch 15/30\n",
            "\u001b[1m1407/1407\u001b[0m \u001b[32m━━━━━━━━━━━━━━━━━━━━\u001b[0m\u001b[37m\u001b[0m \u001b[1m21s\u001b[0m 8ms/step - accuracy: 0.9993 - loss: 0.0023 - val_accuracy: 0.9765 - val_loss: 0.1662\n",
            "Epoch 16/30\n",
            "\u001b[1m1407/1407\u001b[0m \u001b[32m━━━━━━━━━━━━━━━━━━━━\u001b[0m\u001b[37m\u001b[0m \u001b[1m10s\u001b[0m 7ms/step - accuracy: 0.9989 - loss: 0.0043 - val_accuracy: 0.9782 - val_loss: 0.1786\n",
            "Epoch 17/30\n",
            "\u001b[1m1407/1407\u001b[0m \u001b[32m━━━━━━━━━━━━━━━━━━━━\u001b[0m\u001b[37m\u001b[0m \u001b[1m11s\u001b[0m 7ms/step - accuracy: 0.9995 - loss: 0.0018 - val_accuracy: 0.9773 - val_loss: 0.1857\n",
            "Epoch 18/30\n",
            "\u001b[1m1407/1407\u001b[0m \u001b[32m━━━━━━━━━━━━━━━━━━━━\u001b[0m\u001b[37m\u001b[0m \u001b[1m11s\u001b[0m 8ms/step - accuracy: 0.9988 - loss: 0.0045 - val_accuracy: 0.9760 - val_loss: 0.1831\n",
            "Epoch 19/30\n",
            "\u001b[1m1407/1407\u001b[0m \u001b[32m━━━━━━━━━━━━━━━━━━━━\u001b[0m\u001b[37m\u001b[0m \u001b[1m21s\u001b[0m 8ms/step - accuracy: 0.9985 - loss: 0.0045 - val_accuracy: 0.9769 - val_loss: 0.1850\n",
            "Epoch 20/30\n",
            "\u001b[1m1407/1407\u001b[0m \u001b[32m━━━━━━━━━━━━━━━━━━━━\u001b[0m\u001b[37m\u001b[0m \u001b[1m19s\u001b[0m 7ms/step - accuracy: 0.9974 - loss: 0.0099 - val_accuracy: 0.9776 - val_loss: 0.1838\n",
            "Epoch 21/30\n",
            "\u001b[1m1407/1407\u001b[0m \u001b[32m━━━━━━━━━━━━━━━━━━━━\u001b[0m\u001b[37m\u001b[0m \u001b[1m10s\u001b[0m 7ms/step - accuracy: 0.9988 - loss: 0.0039 - val_accuracy: 0.9796 - val_loss: 0.1852\n",
            "Epoch 22/30\n",
            "\u001b[1m1407/1407\u001b[0m \u001b[32m━━━━━━━━━━━━━━━━━━━━\u001b[0m\u001b[37m\u001b[0m \u001b[1m11s\u001b[0m 8ms/step - accuracy: 0.9997 - loss: 0.0013 - val_accuracy: 0.9773 - val_loss: 0.1980\n",
            "Epoch 23/30\n",
            "\u001b[1m1407/1407\u001b[0m \u001b[32m━━━━━━━━━━━━━━━━━━━━\u001b[0m\u001b[37m\u001b[0m \u001b[1m20s\u001b[0m 8ms/step - accuracy: 0.9981 - loss: 0.0062 - val_accuracy: 0.9781 - val_loss: 0.1858\n",
            "Epoch 24/30\n",
            "\u001b[1m1407/1407\u001b[0m \u001b[32m━━━━━━━━━━━━━━━━━━━━\u001b[0m\u001b[37m\u001b[0m \u001b[1m20s\u001b[0m 7ms/step - accuracy: 0.9993 - loss: 0.0023 - val_accuracy: 0.9780 - val_loss: 0.1934\n",
            "Epoch 25/30\n",
            "\u001b[1m1407/1407\u001b[0m \u001b[32m━━━━━━━━━━━━━━━━━━━━\u001b[0m\u001b[37m\u001b[0m \u001b[1m11s\u001b[0m 7ms/step - accuracy: 0.9993 - loss: 0.0017 - val_accuracy: 0.9761 - val_loss: 0.2233\n",
            "Epoch 26/30\n",
            "\u001b[1m1407/1407\u001b[0m \u001b[32m━━━━━━━━━━━━━━━━━━━━\u001b[0m\u001b[37m\u001b[0m \u001b[1m21s\u001b[0m 8ms/step - accuracy: 0.9980 - loss: 0.0075 - val_accuracy: 0.9767 - val_loss: 0.2116\n",
            "Epoch 27/30\n",
            "\u001b[1m1407/1407\u001b[0m \u001b[32m━━━━━━━━━━━━━━━━━━━━\u001b[0m\u001b[37m\u001b[0m \u001b[1m20s\u001b[0m 8ms/step - accuracy: 0.9992 - loss: 0.0032 - val_accuracy: 0.9735 - val_loss: 0.2477\n",
            "Epoch 28/30\n",
            "\u001b[1m1407/1407\u001b[0m \u001b[32m━━━━━━━━━━━━━━━━━━━━\u001b[0m\u001b[37m\u001b[0m \u001b[1m11s\u001b[0m 8ms/step - accuracy: 0.9985 - loss: 0.0072 - val_accuracy: 0.9787 - val_loss: 0.2065\n",
            "Epoch 29/30\n",
            "\u001b[1m1407/1407\u001b[0m \u001b[32m━━━━━━━━━━━━━━━━━━━━\u001b[0m\u001b[37m\u001b[0m \u001b[1m20s\u001b[0m 8ms/step - accuracy: 0.9994 - loss: 0.0021 - val_accuracy: 0.9771 - val_loss: 0.2315\n",
            "Epoch 30/30\n",
            "\u001b[1m1407/1407\u001b[0m \u001b[32m━━━━━━━━━━━━━━━━━━━━\u001b[0m\u001b[37m\u001b[0m \u001b[1m12s\u001b[0m 9ms/step - accuracy: 0.9992 - loss: 0.0025 - val_accuracy: 0.9797 - val_loss: 0.2098\n"
          ]
        }
      ]
    },
    {
      "cell_type": "markdown",
      "source": [
        "Con 30 épocas, la precisión valida ligeramente baja respecto a 5 y 15, y la pérdida valida aumenta mucho, indicando un sobreajuste importante: el modelo está muy ajustado a los datos de entrenamiento y generaliza peor."
      ],
      "metadata": {
        "id": "aW0jZ1k8LIjQ"
      }
    },
    {
      "cell_type": "code",
      "source": [
        "print(\"\\nEntrenamiento con 30 epochs:\")\n",
        "print(f\"Precisión en entrenamiento: {history_30.history['accuracy'][-1]:.4f}\")\n",
        "print(f\"Pérdida en entrenamiento: {history_30.history['loss'][-1]:.4f}\")\n",
        "print(f\"Precisión en validación: {history_30.history['val_accuracy'][-1]:.4f}\")\n",
        "print(f\"Pérdida en validación: {history_30.history['val_loss'][-1]:.4f}\")"
      ],
      "metadata": {
        "colab": {
          "base_uri": "https://localhost:8080/"
        },
        "id": "HwUl7T6-RPpL",
        "outputId": "d01c62b3-0106-484b-8326-fa57bbe66a14"
      },
      "execution_count": 48,
      "outputs": [
        {
          "output_type": "stream",
          "name": "stdout",
          "text": [
            "\n",
            "Entrenamiento con 30 epochs:\n",
            "Precisión en entrenamiento: 0.9988\n",
            "Pérdida en entrenamiento: 0.0038\n",
            "Precisión en validación: 0.9797\n",
            "Pérdida en validación: 0.2098\n"
          ]
        }
      ]
    },
    {
      "cell_type": "markdown",
      "source": [
        "Cuando el modelo fue entrenado durante **30 épocas** la precisión en el conjunto de entrenamiento se mantuvo alta (99.88%) y la pérdida se redujo aún más. Además, la precisión de validación no mostró mejoras significativas y se mantuvo estancada en torno al 97-98%.\n"
      ],
      "metadata": {
        "id": "nfanbAkgnLIa"
      }
    },
    {
      "cell_type": "markdown",
      "metadata": {
        "id": "Fs0fjzH4bmSR"
      },
      "source": [
        "Tu respuesta a la pregunta 7.3 aquí:\n",
        "\n",
        "El comportamiento observado es un claro ejemplo de **overfitting (sobreajuste)**.\n",
        "- Durante el entrenamiento, el modelo mejora su precisión y reduce su pérdida de forma constante en el conjunto de entrenamiento, pero empieza a fallar en generalizar para los datos de validación.\n",
        "- El modelo comienza a memorizar patrones específicos del conjunto de entrenamiento, incluyendo ruido y detalles específicos que no son representativos para datos nuevos."
      ]
    },
    {
      "cell_type": "markdown",
      "metadata": {
        "id": "HlIgNG4Yb_N6"
      },
      "source": [
        "# 8: Early stop\n",
        "En el ejercicio anterior, cuando entrenabas con epoch extras, tenías un problema en el que tu pérdida podía cambiar. Puede que te haya llevado un poco de tiempo esperar a que el entrenamiento lo hiciera,  y puede que hayas pensado \"¿no estaría bien si pudiera parar el entrenamiento cuando alcance un valor deseado?\", es decir, una precisión del 85% podría ser suficiente para ti, y si alcanzas eso después de 3 epoch, ¿por qué sentarte a esperar a que termine muchas más épocas? Como cualquier otro programa existen formas de parar la ejecución\n",
        "\n",
        "A partir del código de ejemplo, hacer una nueva función que tenga en cuenta la perdida (loss) y que pueda parar el código para evitar que ocurra el efeto secundario que vimos en el ejercicio 5."
      ]
    },
    {
      "cell_type": "code",
      "metadata": {
        "id": "b5UwceFUG4ic",
        "colab": {
          "base_uri": "https://localhost:8080/"
        },
        "outputId": "4c7ca9f9-ae0d-4a13-8fa5-a391a5ac44b3"
      },
      "source": [
        "import tensorflow as tf\n",
        "from tensorflow import keras\n",
        "\n",
        "class myCallback(tf.keras.callbacks.Callback):\n",
        "    def on_epoch_end(self, epoch, logs={}):\n",
        "        if logs.get('accuracy') > 0.85:\n",
        "            print(\"\\nAlcanzado el 85% de precisión, se cancela el entrenamiento!!\")\n",
        "            self.model.stop_training = True\n",
        "\n",
        "callback = myCallback()\n",
        "\n",
        "model = keras.models.Sequential([\n",
        "    keras.layers.Flatten(input_shape=[28, 28]),\n",
        "    keras.layers.Dense(512, activation=\"relu\"),\n",
        "    keras.layers.Dense(10, activation=\"softmax\")\n",
        "])\n",
        "\n",
        "model.compile(optimizer='adam',\n",
        "              loss='categorical_crossentropy',\n",
        "              metrics=['accuracy'])\n",
        "\n",
        "history = model.fit(training_images_norm, training_labels_categorical,\n",
        "                    epochs=30,\n",
        "                    batch_size=32,\n",
        "                    validation_data=(test_images_norm, test_labels_categorical),\n",
        "                    callbacks=[callback])\n"
      ],
      "execution_count": 49,
      "outputs": [
        {
          "output_type": "stream",
          "name": "stderr",
          "text": [
            "/usr/local/lib/python3.11/dist-packages/keras/src/layers/reshaping/flatten.py:37: UserWarning: Do not pass an `input_shape`/`input_dim` argument to a layer. When using Sequential models, prefer using an `Input(shape)` object as the first layer in the model instead.\n",
            "  super().__init__(**kwargs)\n"
          ]
        },
        {
          "output_type": "stream",
          "name": "stdout",
          "text": [
            "Epoch 1/30\n",
            "\u001b[1m1870/1875\u001b[0m \u001b[32m━━━━━━━━━━━━━━━━━━━\u001b[0m\u001b[37m━\u001b[0m \u001b[1m0s\u001b[0m 6ms/step - accuracy: 0.9015 - loss: 0.3361\n",
            "Alcanzado el 85% de precisión, se cancela el entrenamiento!!\n",
            "\u001b[1m1875/1875\u001b[0m \u001b[32m━━━━━━━━━━━━━━━━━━━━\u001b[0m\u001b[37m\u001b[0m \u001b[1m14s\u001b[0m 7ms/step - accuracy: 0.9017 - loss: 0.3357 - val_accuracy: 0.9641 - val_loss: 0.1171\n"
          ]
        }
      ]
    },
    {
      "cell_type": "code",
      "source": [
        "print(f\"Precisión en entrenamiento: {history.history['accuracy'][-1]:.4f}\")\n",
        "print(f\"Pérdida en entrenamiento: {history.history['loss'][-1]:.4f}\")\n",
        "print(f\"Precisión en validación: {history.history['val_accuracy'][-1]:.4f}\")\n",
        "print(f\"Pérdida en validación: {history.history['val_loss'][-1]:.4f}\")"
      ],
      "metadata": {
        "colab": {
          "base_uri": "https://localhost:8080/"
        },
        "id": "xTdgyvjhrwTR",
        "outputId": "83f4905e-711e-4b8a-f003-180592401b2e"
      },
      "execution_count": 50,
      "outputs": [
        {
          "output_type": "stream",
          "name": "stdout",
          "text": [
            "Precisión en entrenamiento: 0.9405\n",
            "Pérdida en entrenamiento: 0.1999\n",
            "Precisión en validación: 0.9641\n",
            "Pérdida en validación: 0.1171\n"
          ]
        }
      ]
    },
    {
      "cell_type": "markdown",
      "source": [
        "El modelo ha alcanzado el 85% de precisión en solo una época! Esto demuestra la efectividad del early stopping. El entrenamiento se detuvo automáticamente tan pronto como se alcanzó la precisión deseada, lo cual ahorra tiempo de computación y evita que el modelo se sobreentrene, lo que puede llevar a un sobreajuste (overfitting).\n",
        "\n"
      ],
      "metadata": {
        "id": "k5Fn_KDbtTBY"
      }
    },
    {
      "cell_type": "markdown",
      "metadata": {
        "id": "0Bjd8wGKccrn"
      },
      "source": [
        "**Pregunta 8.1. *(0.75 puntos)***: Consulta la documentación de Keras y aprende cómo podemos utilizar Early stop en nuestro modelos."
      ]
    },
    {
      "cell_type": "markdown",
      "source": [
        "En esta solución, hemos usado el callback `EarlyStopping` de Keras, que permite detener el entrenamiento de un modelo cuando una métrica específica deja de mejorar. En este caso, hemos configurado el callback para monitorear la pérdida (loss) del modelo."
      ],
      "metadata": {
        "id": "GoaA6GIPzfXh"
      }
    },
    {
      "cell_type": "code",
      "source": [
        "### Tu código aquí ###\n",
        "callback = keras.callbacks.EarlyStopping(monitor='loss', patience=3)\n",
        "model = keras.models.Sequential([\n",
        "    keras.layers.Flatten(input_shape=[28, 28]),\n",
        "    keras.layers.Dense(512, activation=\"relu\"),\n",
        "    keras.layers.Dense(10, activation=\"softmax\")\n",
        "])\n",
        "\n",
        "model.compile(optimizer='adam',\n",
        "              loss='categorical_crossentropy',\n",
        "              metrics=['accuracy'])\n",
        "\n",
        "history = model.fit(training_images_norm, training_labels_categorical,\n",
        "                    epochs=30,\n",
        "                    batch_size=32,\n",
        "                    validation_data=(test_images_norm, test_labels_categorical),\n",
        "                    callbacks=[callback])"
      ],
      "metadata": {
        "id": "3P3sQQky8qI6",
        "colab": {
          "base_uri": "https://localhost:8080/"
        },
        "outputId": "867eb7e2-6623-4268-8dc0-e3acbff08a20"
      },
      "execution_count": 59,
      "outputs": [
        {
          "output_type": "stream",
          "name": "stdout",
          "text": [
            "Epoch 1/30\n",
            "\u001b[1m1875/1875\u001b[0m \u001b[32m━━━━━━━━━━━━━━━━━━━━\u001b[0m\u001b[37m\u001b[0m \u001b[1m15s\u001b[0m 7ms/step - accuracy: 0.8983 - loss: 0.3446 - val_accuracy: 0.9671 - val_loss: 0.1034\n",
            "Epoch 2/30\n",
            "\u001b[1m1875/1875\u001b[0m \u001b[32m━━━━━━━━━━━━━━━━━━━━\u001b[0m\u001b[37m\u001b[0m \u001b[1m15s\u001b[0m 8ms/step - accuracy: 0.9731 - loss: 0.0867 - val_accuracy: 0.9757 - val_loss: 0.0770\n",
            "Epoch 3/30\n",
            "\u001b[1m1875/1875\u001b[0m \u001b[32m━━━━━━━━━━━━━━━━━━━━\u001b[0m\u001b[37m\u001b[0m \u001b[1m19s\u001b[0m 7ms/step - accuracy: 0.9831 - loss: 0.0514 - val_accuracy: 0.9751 - val_loss: 0.0793\n",
            "Epoch 4/30\n",
            "\u001b[1m1875/1875\u001b[0m \u001b[32m━━━━━━━━━━━━━━━━━━━━\u001b[0m\u001b[37m\u001b[0m \u001b[1m13s\u001b[0m 7ms/step - accuracy: 0.9903 - loss: 0.0322 - val_accuracy: 0.9807 - val_loss: 0.0628\n",
            "Epoch 5/30\n",
            "\u001b[1m1875/1875\u001b[0m \u001b[32m━━━━━━━━━━━━━━━━━━━━\u001b[0m\u001b[37m\u001b[0m \u001b[1m20s\u001b[0m 7ms/step - accuracy: 0.9916 - loss: 0.0257 - val_accuracy: 0.9789 - val_loss: 0.0734\n",
            "Epoch 6/30\n",
            "\u001b[1m1875/1875\u001b[0m \u001b[32m━━━━━━━━━━━━━━━━━━━━\u001b[0m\u001b[37m\u001b[0m \u001b[1m13s\u001b[0m 7ms/step - accuracy: 0.9946 - loss: 0.0180 - val_accuracy: 0.9814 - val_loss: 0.0644\n",
            "Epoch 7/30\n",
            "\u001b[1m1875/1875\u001b[0m \u001b[32m━━━━━━━━━━━━━━━━━━━━\u001b[0m\u001b[37m\u001b[0m \u001b[1m13s\u001b[0m 7ms/step - accuracy: 0.9955 - loss: 0.0141 - val_accuracy: 0.9818 - val_loss: 0.0670\n",
            "Epoch 8/30\n",
            "\u001b[1m1875/1875\u001b[0m \u001b[32m━━━━━━━━━━━━━━━━━━━━\u001b[0m\u001b[37m\u001b[0m \u001b[1m13s\u001b[0m 7ms/step - accuracy: 0.9952 - loss: 0.0127 - val_accuracy: 0.9808 - val_loss: 0.0781\n",
            "Epoch 9/30\n",
            "\u001b[1m1875/1875\u001b[0m \u001b[32m━━━━━━━━━━━━━━━━━━━━\u001b[0m\u001b[37m\u001b[0m \u001b[1m13s\u001b[0m 7ms/step - accuracy: 0.9976 - loss: 0.0089 - val_accuracy: 0.9794 - val_loss: 0.0846\n",
            "Epoch 10/30\n",
            "\u001b[1m1875/1875\u001b[0m \u001b[32m━━━━━━━━━━━━━━━━━━━━\u001b[0m\u001b[37m\u001b[0m \u001b[1m13s\u001b[0m 7ms/step - accuracy: 0.9966 - loss: 0.0097 - val_accuracy: 0.9814 - val_loss: 0.0823\n",
            "Epoch 11/30\n",
            "\u001b[1m1875/1875\u001b[0m \u001b[32m━━━━━━━━━━━━━━━━━━━━\u001b[0m\u001b[37m\u001b[0m \u001b[1m21s\u001b[0m 7ms/step - accuracy: 0.9972 - loss: 0.0090 - val_accuracy: 0.9793 - val_loss: 0.0956\n",
            "Epoch 12/30\n",
            "\u001b[1m1875/1875\u001b[0m \u001b[32m━━━━━━━━━━━━━━━━━━━━\u001b[0m\u001b[37m\u001b[0m \u001b[1m20s\u001b[0m 7ms/step - accuracy: 0.9966 - loss: 0.0090 - val_accuracy: 0.9813 - val_loss: 0.0789\n",
            "Epoch 13/30\n",
            "\u001b[1m1875/1875\u001b[0m \u001b[32m━━━━━━━━━━━━━━━━━━━━\u001b[0m\u001b[37m\u001b[0m \u001b[1m14s\u001b[0m 7ms/step - accuracy: 0.9974 - loss: 0.0071 - val_accuracy: 0.9800 - val_loss: 0.1029\n",
            "Epoch 14/30\n",
            "\u001b[1m1875/1875\u001b[0m \u001b[32m━━━━━━━━━━━━━━━━━━━━\u001b[0m\u001b[37m\u001b[0m \u001b[1m20s\u001b[0m 7ms/step - accuracy: 0.9979 - loss: 0.0078 - val_accuracy: 0.9806 - val_loss: 0.0986\n",
            "Epoch 15/30\n",
            "\u001b[1m1875/1875\u001b[0m \u001b[32m━━━━━━━━━━━━━━━━━━━━\u001b[0m\u001b[37m\u001b[0m \u001b[1m21s\u001b[0m 7ms/step - accuracy: 0.9976 - loss: 0.0068 - val_accuracy: 0.9782 - val_loss: 0.1159\n",
            "Epoch 16/30\n",
            "\u001b[1m1875/1875\u001b[0m \u001b[32m━━━━━━━━━━━━━━━━━━━━\u001b[0m\u001b[37m\u001b[0m \u001b[1m21s\u001b[0m 7ms/step - accuracy: 0.9986 - loss: 0.0043 - val_accuracy: 0.9812 - val_loss: 0.1076\n",
            "Epoch 17/30\n",
            "\u001b[1m1875/1875\u001b[0m \u001b[32m━━━━━━━━━━━━━━━━━━━━\u001b[0m\u001b[37m\u001b[0m \u001b[1m20s\u001b[0m 7ms/step - accuracy: 0.9984 - loss: 0.0048 - val_accuracy: 0.9804 - val_loss: 0.1165\n",
            "Epoch 18/30\n",
            "\u001b[1m1875/1875\u001b[0m \u001b[32m━━━━━━━━━━━━━━━━━━━━\u001b[0m\u001b[37m\u001b[0m \u001b[1m13s\u001b[0m 7ms/step - accuracy: 0.9980 - loss: 0.0054 - val_accuracy: 0.9809 - val_loss: 0.1204\n",
            "Epoch 19/30\n",
            "\u001b[1m1875/1875\u001b[0m \u001b[32m━━━━━━━━━━━━━━━━━━━━\u001b[0m\u001b[37m\u001b[0m \u001b[1m13s\u001b[0m 7ms/step - accuracy: 0.9983 - loss: 0.0046 - val_accuracy: 0.9833 - val_loss: 0.1071\n",
            "Epoch 20/30\n",
            "\u001b[1m1875/1875\u001b[0m \u001b[32m━━━━━━━━━━━━━━━━━━━━\u001b[0m\u001b[37m\u001b[0m \u001b[1m13s\u001b[0m 7ms/step - accuracy: 0.9983 - loss: 0.0053 - val_accuracy: 0.9815 - val_loss: 0.1104\n",
            "Epoch 21/30\n",
            "\u001b[1m1875/1875\u001b[0m \u001b[32m━━━━━━━━━━━━━━━━━━━━\u001b[0m\u001b[37m\u001b[0m \u001b[1m20s\u001b[0m 7ms/step - accuracy: 0.9991 - loss: 0.0030 - val_accuracy: 0.9830 - val_loss: 0.1166\n",
            "Epoch 22/30\n",
            "\u001b[1m1875/1875\u001b[0m \u001b[32m━━━━━━━━━━━━━━━━━━━━\u001b[0m\u001b[37m\u001b[0m \u001b[1m21s\u001b[0m 7ms/step - accuracy: 0.9980 - loss: 0.0074 - val_accuracy: 0.9804 - val_loss: 0.1288\n",
            "Epoch 23/30\n",
            "\u001b[1m1875/1875\u001b[0m \u001b[32m━━━━━━━━━━━━━━━━━━━━\u001b[0m\u001b[37m\u001b[0m \u001b[1m22s\u001b[0m 8ms/step - accuracy: 0.9991 - loss: 0.0025 - val_accuracy: 0.9813 - val_loss: 0.1382\n",
            "Epoch 24/30\n",
            "\u001b[1m1875/1875\u001b[0m \u001b[32m━━━━━━━━━━━━━━━━━━━━\u001b[0m\u001b[37m\u001b[0m \u001b[1m18s\u001b[0m 7ms/step - accuracy: 0.9980 - loss: 0.0065 - val_accuracy: 0.9822 - val_loss: 0.1103\n"
          ]
        }
      ]
    },
    {
      "cell_type": "code",
      "source": [
        "print(f\"Precisión en entrenamiento: {history.history['accuracy'][-1]:.4f}\")\n",
        "print(f\"Pérdida en entrenamiento: {history.history['loss'][-1]:.4f}\")\n",
        "print(f\"Precisión en validación: {history.history['val_accuracy'][-1]:.4f}\")\n",
        "print(f\"Pérdida en validación: {history.history['val_loss'][-1]:.4f}\")"
      ],
      "metadata": {
        "colab": {
          "base_uri": "https://localhost:8080/"
        },
        "id": "b9mMtxkft0fT",
        "outputId": "fb5793ee-b5bb-49c4-9188-11d147e45396"
      },
      "execution_count": 61,
      "outputs": [
        {
          "output_type": "stream",
          "name": "stdout",
          "text": [
            "Precisión en entrenamiento: 0.9981\n",
            "Pérdida en entrenamiento: 0.0059\n",
            "Precisión en validación: 0.9822\n",
            "Pérdida en validación: 0.1103\n"
          ]
        }
      ]
    },
    {
      "cell_type": "markdown",
      "source": [
        "**Comportamiento del Entrenamiento:**\n",
        "- El entrenamiento se detuvo automáticamente después de que la métrica de pérdida (loss) dejó de mejorar durante 3 épocas consecutivas. Esto evita que el modelo siga entrenando y posiblemente caiga en un problema de overfitting.\n",
        "- Como se observa en los logs, después de un cierto punto, la pérdida comenzó a oscilar y no mejoró, lo que activó el Early Stopping.\n",
        "- Esto permite ahorrar tiempo de entrenamiento y evita que el modelo se degrade en desempeño en el conjunto de validación."
      ],
      "metadata": {
        "id": "plkabjUGzoM_"
      }
    },
    {
      "cell_type": "markdown",
      "metadata": {
        "id": "M_yZ9B8gTFqR"
      },
      "source": [
        "## 9. Unidades de activación"
      ]
    },
    {
      "cell_type": "markdown",
      "metadata": {
        "id": "MuVNxmXSTFqR"
      },
      "source": [
        "En este ejercicio, vamos a evaluar la importancia de utilizar las unidades de activación adecuadas. Como hemos visto en clase, funciones de activación como sigmoid han dejado de utilizarse en favor de otras unidades como ReLU.\n",
        "\n",
        "**Pregunta 9.1 *(0.75 puntos)***: Utilizando la red realizada en el ejercicio 3, escribir un breve análisis comparando la utilización de unidades sigmoid y ReLU (por ejemplo, se pueden comentar aspectos como velocidad de convergencia, métricas obtenidas...). Explicar por qué pueden darse estas diferencias. Opcionalmente, comparar con otras activaciones disponibles en Keras.\n",
        "\n",
        "*Pista: Usando redes más grandes se hace más sencillo apreciar las diferencias. Es mejor utilizar al menos 3 o 4 capas densas.*"
      ]
    },
    {
      "cell_type": "code",
      "metadata": {
        "id": "hoYUajTuTFqS",
        "colab": {
          "base_uri": "https://localhost:8080/",
          "height": 1000
        },
        "outputId": "5d487fb7-15ae-46de-83ab-d64ea7f51753"
      },
      "source": [
        "## Tu código y comentarios de texto aquí\n",
        "## Puedes incluir tantas celdas como quieras\n",
        "## No olvides utilizar celdas de Markdown para texto\n",
        "from tensorflow.keras.layers import Dense, Flatten, LeakyReLU\n",
        "import time\n",
        "\n",
        "def create_model(activation):\n",
        "    model = keras.Sequential()\n",
        "    model.add(Flatten(input_shape=[28, 28]))\n",
        "\n",
        "    for _ in range(4):\n",
        "        if activation == 'leaky_relu':\n",
        "            model.add(Dense(512))\n",
        "            model.add(LeakyReLU(alpha=0.1))\n",
        "        else:\n",
        "            model.add(Dense(512, activation=activation))\n",
        "\n",
        "    model.add(Dense(10, activation='softmax'))\n",
        "\n",
        "    model.compile(optimizer='adam',\n",
        "                  loss='categorical_crossentropy',\n",
        "                  metrics=['accuracy'])\n",
        "    return model\n",
        "\n",
        "activations = ['sigmoid', 'relu', 'tanh', 'leaky_relu']\n",
        "histories = {}\n",
        "times = {}\n",
        "\n",
        "for act in activations:\n",
        "    print(f\"\\nEntrenando con activación: {act}\")\n",
        "    model = create_model(act)\n",
        "    start_time = time.time()\n",
        "    history = model.fit(training_images_norm, training_labels_categorical,\n",
        "                        epochs=10,\n",
        "                        batch_size=32,\n",
        "                        validation_data=(test_images_norm, test_labels_categorical),\n",
        "                        verbose=2)\n",
        "    end_time = time.time()\n",
        "    histories[act] = history\n",
        "    times[act] = end_time - start_time\n",
        "    print(f\"Tiempo de entrenamiento con {act}: {times[act]:.2f} segundos\")\n",
        "\n",
        "plt.figure(figsize=(12, 6))\n",
        "for act in activations:\n",
        "    plt.plot(histories[act].history['val_accuracy'], label=f'val_accuracy {act}')\n",
        "plt.title('Comparación de precisión en validación según función de activación')\n",
        "plt.xlabel('Épocas')\n",
        "plt.ylabel('Precisión')\n",
        "plt.legend()\n",
        "plt.show()"
      ],
      "execution_count": 58,
      "outputs": [
        {
          "output_type": "stream",
          "name": "stdout",
          "text": [
            "\n",
            "Entrenando con activación: sigmoid\n"
          ]
        },
        {
          "output_type": "stream",
          "name": "stderr",
          "text": [
            "/usr/local/lib/python3.11/dist-packages/keras/src/layers/reshaping/flatten.py:37: UserWarning: Do not pass an `input_shape`/`input_dim` argument to a layer. When using Sequential models, prefer using an `Input(shape)` object as the first layer in the model instead.\n",
            "  super().__init__(**kwargs)\n"
          ]
        },
        {
          "output_type": "stream",
          "name": "stdout",
          "text": [
            "Epoch 1/10\n",
            "1875/1875 - 33s - 17ms/step - accuracy: 0.8648 - loss: 0.4150 - val_accuracy: 0.9468 - val_loss: 0.1755\n",
            "Epoch 2/10\n",
            "1875/1875 - 42s - 22ms/step - accuracy: 0.9554 - loss: 0.1502 - val_accuracy: 0.9636 - val_loss: 0.1235\n",
            "Epoch 3/10\n",
            "1875/1875 - 31s - 16ms/step - accuracy: 0.9693 - loss: 0.1036 - val_accuracy: 0.9669 - val_loss: 0.1172\n",
            "Epoch 4/10\n",
            "1875/1875 - 30s - 16ms/step - accuracy: 0.9766 - loss: 0.0772 - val_accuracy: 0.9713 - val_loss: 0.0968\n",
            "Epoch 5/10\n",
            "1875/1875 - 42s - 23ms/step - accuracy: 0.9818 - loss: 0.0587 - val_accuracy: 0.9741 - val_loss: 0.0955\n",
            "Epoch 6/10\n",
            "1875/1875 - 41s - 22ms/step - accuracy: 0.9852 - loss: 0.0479 - val_accuracy: 0.9783 - val_loss: 0.0800\n",
            "Epoch 7/10\n",
            "1875/1875 - 40s - 22ms/step - accuracy: 0.9889 - loss: 0.0362 - val_accuracy: 0.9760 - val_loss: 0.0881\n",
            "Epoch 8/10\n",
            "1875/1875 - 41s - 22ms/step - accuracy: 0.9901 - loss: 0.0314 - val_accuracy: 0.9806 - val_loss: 0.0811\n",
            "Epoch 9/10\n",
            "1875/1875 - 43s - 23ms/step - accuracy: 0.9919 - loss: 0.0254 - val_accuracy: 0.9780 - val_loss: 0.0932\n",
            "Epoch 10/10\n",
            "1875/1875 - 39s - 21ms/step - accuracy: 0.9933 - loss: 0.0216 - val_accuracy: 0.9780 - val_loss: 0.0927\n",
            "Tiempo de entrenamiento con sigmoid: 381.86 segundos\n",
            "\n",
            "Entrenando con activación: relu\n",
            "Epoch 1/10\n",
            "1875/1875 - 37s - 20ms/step - accuracy: 0.9363 - loss: 0.2140 - val_accuracy: 0.9608 - val_loss: 0.1405\n",
            "Epoch 2/10\n",
            "1875/1875 - 32s - 17ms/step - accuracy: 0.9698 - loss: 0.1054 - val_accuracy: 0.9742 - val_loss: 0.0901\n",
            "Epoch 3/10\n",
            "1875/1875 - 42s - 22ms/step - accuracy: 0.9780 - loss: 0.0759 - val_accuracy: 0.9781 - val_loss: 0.0840\n",
            "Epoch 4/10\n",
            "1875/1875 - 31s - 16ms/step - accuracy: 0.9822 - loss: 0.0617 - val_accuracy: 0.9750 - val_loss: 0.1130\n",
            "Epoch 5/10\n",
            "1875/1875 - 33s - 18ms/step - accuracy: 0.9849 - loss: 0.0505 - val_accuracy: 0.9739 - val_loss: 0.1016\n",
            "Epoch 6/10\n",
            "1875/1875 - 41s - 22ms/step - accuracy: 0.9868 - loss: 0.0467 - val_accuracy: 0.9786 - val_loss: 0.0974\n",
            "Epoch 7/10\n",
            "1875/1875 - 31s - 17ms/step - accuracy: 0.9886 - loss: 0.0407 - val_accuracy: 0.9813 - val_loss: 0.0725\n",
            "Epoch 8/10\n",
            "1875/1875 - 32s - 17ms/step - accuracy: 0.9905 - loss: 0.0349 - val_accuracy: 0.9761 - val_loss: 0.1087\n",
            "Epoch 9/10\n",
            "1875/1875 - 31s - 16ms/step - accuracy: 0.9904 - loss: 0.0343 - val_accuracy: 0.9810 - val_loss: 0.0899\n",
            "Epoch 10/10\n",
            "1875/1875 - 41s - 22ms/step - accuracy: 0.9923 - loss: 0.0295 - val_accuracy: 0.9779 - val_loss: 0.1005\n",
            "Tiempo de entrenamiento con relu: 350.30 segundos\n",
            "\n",
            "Entrenando con activación: tanh\n",
            "Epoch 1/10\n",
            "1875/1875 - 34s - 18ms/step - accuracy: 0.9160 - loss: 0.2851 - val_accuracy: 0.9491 - val_loss: 0.1614\n",
            "Epoch 2/10\n",
            "1875/1875 - 33s - 17ms/step - accuracy: 0.9544 - loss: 0.1517 - val_accuracy: 0.9473 - val_loss: 0.1712\n",
            "Epoch 3/10\n",
            "1875/1875 - 32s - 17ms/step - accuracy: 0.9653 - loss: 0.1157 - val_accuracy: 0.9602 - val_loss: 0.1348\n",
            "Epoch 4/10\n",
            "1875/1875 - 41s - 22ms/step - accuracy: 0.9696 - loss: 0.0988 - val_accuracy: 0.9604 - val_loss: 0.1413\n",
            "Epoch 5/10\n",
            "1875/1875 - 42s - 22ms/step - accuracy: 0.9744 - loss: 0.0837 - val_accuracy: 0.9671 - val_loss: 0.1161\n",
            "Epoch 6/10\n",
            "1875/1875 - 33s - 17ms/step - accuracy: 0.9773 - loss: 0.0724 - val_accuracy: 0.9640 - val_loss: 0.1297\n",
            "Epoch 7/10\n",
            "1875/1875 - 40s - 21ms/step - accuracy: 0.9806 - loss: 0.0617 - val_accuracy: 0.9699 - val_loss: 0.1057\n",
            "Epoch 8/10\n",
            "1875/1875 - 42s - 23ms/step - accuracy: 0.9818 - loss: 0.0590 - val_accuracy: 0.9721 - val_loss: 0.1044\n",
            "Epoch 9/10\n",
            "1875/1875 - 41s - 22ms/step - accuracy: 0.9837 - loss: 0.0516 - val_accuracy: 0.9729 - val_loss: 0.1002\n",
            "Epoch 10/10\n",
            "1875/1875 - 40s - 21ms/step - accuracy: 0.9842 - loss: 0.0481 - val_accuracy: 0.9685 - val_loss: 0.1259\n",
            "Tiempo de entrenamiento con tanh: 386.53 segundos\n",
            "\n",
            "Entrenando con activación: leaky_relu\n"
          ]
        },
        {
          "output_type": "stream",
          "name": "stderr",
          "text": [
            "/usr/local/lib/python3.11/dist-packages/keras/src/layers/activations/leaky_relu.py:41: UserWarning: Argument `alpha` is deprecated. Use `negative_slope` instead.\n",
            "  warnings.warn(\n"
          ]
        },
        {
          "output_type": "stream",
          "name": "stdout",
          "text": [
            "Epoch 1/10\n",
            "1875/1875 - 34s - 18ms/step - accuracy: 0.9352 - loss: 0.2215 - val_accuracy: 0.9576 - val_loss: 0.1406\n",
            "Epoch 2/10\n",
            "1875/1875 - 31s - 17ms/step - accuracy: 0.9665 - loss: 0.1161 - val_accuracy: 0.9668 - val_loss: 0.1121\n",
            "Epoch 3/10\n",
            "1875/1875 - 32s - 17ms/step - accuracy: 0.9732 - loss: 0.0905 - val_accuracy: 0.9774 - val_loss: 0.0823\n",
            "Epoch 4/10\n",
            "1875/1875 - 41s - 22ms/step - accuracy: 0.9785 - loss: 0.0745 - val_accuracy: 0.9773 - val_loss: 0.0793\n",
            "Epoch 5/10\n",
            "1875/1875 - 31s - 17ms/step - accuracy: 0.9810 - loss: 0.0648 - val_accuracy: 0.9731 - val_loss: 0.0969\n",
            "Epoch 6/10\n",
            "1875/1875 - 43s - 23ms/step - accuracy: 0.9832 - loss: 0.0547 - val_accuracy: 0.9717 - val_loss: 0.1156\n",
            "Epoch 7/10\n",
            "1875/1875 - 31s - 17ms/step - accuracy: 0.9857 - loss: 0.0502 - val_accuracy: 0.9755 - val_loss: 0.1078\n",
            "Epoch 8/10\n",
            "1875/1875 - 41s - 22ms/step - accuracy: 0.9865 - loss: 0.0484 - val_accuracy: 0.9731 - val_loss: 0.1214\n",
            "Epoch 9/10\n",
            "1875/1875 - 42s - 22ms/step - accuracy: 0.9871 - loss: 0.0464 - val_accuracy: 0.9778 - val_loss: 0.0856\n",
            "Epoch 10/10\n",
            "1875/1875 - 42s - 22ms/step - accuracy: 0.9893 - loss: 0.0365 - val_accuracy: 0.9755 - val_loss: 0.1341\n",
            "Tiempo de entrenamiento con leaky_relu: 377.57 segundos\n"
          ]
        },
        {
          "output_type": "display_data",
          "data": {
            "text/plain": [
              "<Figure size 1200x600 with 1 Axes>"
            ],
            "image/png": "[encoded data removed]"
          },
          "metadata": {}
        }
      ]
    },
    {
      "cell_type": "markdown",
      "source": [
        "### **Análisis Comparativo de Funciones de Activación:**\n",
        "\n",
        "#### **Función de Activación: Sigmoid**\n",
        "- **Precisión (Accuracy):** 0.9780 (validación)\n",
        "- **Pérdida (Loss):** 0.0927 (validación)\n",
        "- **Tiempo de entrenamiento:** 381.86 segundos\n",
        "- **Comportamiento:**\n",
        "  - Las actualizaciones de los pesos son pequeñas y el aprendizaje es más lento.\n",
        "  - Aunque alcanza un buen accuracy, el tiempo de entrenamiento es el más alto de todas las activaciones probadas.\n",
        "\n",
        "#### **Función de Activación: ReLU (Rectified Linear Unit)**\n",
        "- **Precisión (Accuracy)**: 0.9779 (validación)\n",
        "- **Pérdida (Loss):** 0.1005 (validación)\n",
        "- **Tiempo de entrenamiento:** 350.30 segundos\n",
        "- **Comportamiento:*\n",
        "  - ReLU es la función más común en redes profundas porque su gradiente es constante para valores positivos, lo cual evita el problema de `vanishing gradients`.\n",
        "  - Esto permite un aprendizaje más rápido y una convergencia mucho mejor que sigmoid.\n",
        "\n",
        "#### **Función de Activación: Tanh (Tangente Hiperbólica)**\n",
        "- **Precisión (Accuracy):** 0.9685 (validación)\n",
        "- **Pérdida (Loss):** 0.1259 (validación)\n",
        "- **Tiempo de entrenamiento:** 386.53 segundos\n",
        "- **Comportamiento:**\n",
        "  - `tanh` es una versión mejorada de sigmoid, ya que sus valores de salida están centrados en 0 (entre -1 y 1), permitiendo un entrenamiento más equilibrado.\n",
        "  - En este caso, tuvo un tiempo de entrenamiento elevado y la precisión fue la más baja de todas las activaciones probadas.\n",
        "\n",
        "#### **Función de Activación: Leaky ReLU**\n",
        "- **Precisión (Accuracy):** 0.9755 (validación)\n",
        "- **Pérdida (Loss):** 0.1341 (validación)\n",
        "- **Tiempo de entrenamiento:** 377.57 segundos\n",
        "- **Comportamiento:**\n",
        "  - Es una variante de ReLU que permite un pequeño gradiente para valores negativos, evitando el problema de \"neuronas muertas\".\n",
        "  - Aunque su precisión es buena, el tiempo de entrenamiento es mayor que ReLU estándar.\n",
        "\n",
        "#### **Conclusiones**\n",
        "\n",
        "##### **Velocidad de Convergencia:**\n",
        "- `ReLU` tuvo el menor tiempo de entrenamiento y una alta precisión. Esto se debe a que no satura en valores positivos y permite un gradiente más robusto.\n",
        "- `Sigmoid` y `tanh` son significativamente más lentas debido al vanishing gradient, afectando la velocidad de actualización de los pesos.\n",
        "\n",
        "##### **Precisión Obtenida:**\n",
        "`ReLU`, `sigmoid` y `leaky_relu` mostraron una precisión similar, pero tanh se quedó un poco atrás.\n",
        "\n",
        "##### **Problemas Detectados:**\n",
        "- `sigmoid` es más propenso a saturarse y hace que el modelo tarde más en converger.\n",
        "- `tanh` tampoco supera el problema de saturación y es más lento en redes profundas."
      ],
      "metadata": {
        "id": "d-2Wh-cbOo4n"
      }
    },
    {
      "cell_type": "markdown",
      "metadata": {
        "id": "pu6RbUFKTFqT"
      },
      "source": [
        "## 10. Inicialización de parámetros"
      ]
    },
    {
      "cell_type": "markdown",
      "metadata": {
        "id": "Abmm05UPTFqU"
      },
      "source": [
        "En este ejercicio, vamos a evaluar la importancia de una correcta inicialización de parámetros en una red neuronal.\n",
        "\n",
        "**Pregunta 10.1 *(0.75 puntos)***: Partiendo de una red similar a la del ejercicio anterior (usando ya ReLUs), comentar las diferencias que se aprecian en el entrenamiento al utilizar distintas estrategias de inicialización de parámetros. Para ello, inicializar todas las capas con las siguientes estrategias, disponibles en Keras, y analizar sus diferencias:\n",
        "\n",
        "* Inicialización con ceros.\n",
        "* Inicialización con una variable aleatoria normal.\n",
        "* Inicialización con los valores por defecto de Keras para una capa Dense (estrategia *glorot uniform*)"
      ]
    },
    {
      "cell_type": "code",
      "metadata": {
        "id": "qcMt7pSkTFqU",
        "colab": {
          "base_uri": "https://localhost:8080/",
          "height": 1000
        },
        "outputId": "96c9d3cf-063c-45a8-8c80-5aaf71d67dff"
      },
      "source": [
        "## Tu código y comentarios de texto aquí\n",
        "## Puedes incluir tantas celdas como quieras\n",
        "## No olvides utilizar celdas de Markdown para texto\n",
        "import tensorflow as tf\n",
        "from tensorflow import keras\n",
        "from tensorflow.keras.layers import Dense, Flatten\n",
        "from tensorflow.keras.initializers import Zeros, RandomNormal, GlorotUniform\n",
        "import time\n",
        "\n",
        "def create_model(initializer):\n",
        "    model = keras.Sequential([\n",
        "        Flatten(input_shape=[28, 28]),\n",
        "        Dense(512, activation='relu', kernel_initializer=initializer),\n",
        "        Dense(512, activation='relu', kernel_initializer=initializer),\n",
        "        Dense(512, activation='relu', kernel_initializer=initializer),\n",
        "        Dense(512, activation='relu', kernel_initializer=initializer),\n",
        "        Dense(10, activation='softmax', kernel_initializer=initializer)\n",
        "    ])\n",
        "\n",
        "    model.compile(optimizer='adam',\n",
        "                  loss='categorical_crossentropy',\n",
        "                  metrics=['accuracy'])\n",
        "    return model\n",
        "\n",
        "initializers = {\n",
        "    'Zeros': Zeros(),\n",
        "    'Random Normal': RandomNormal(mean=0.0, stddev=0.05),\n",
        "    'Glorot Uniform (default)': GlorotUniform()\n",
        "}\n",
        "\n",
        "histories = {}\n",
        "times = {}\n",
        "\n",
        "for name, init in initializers.items():\n",
        "    print(f\"\\nEntrenando con inicialización: {name}\")\n",
        "    model = create_model(init)\n",
        "    start_time = time.time()\n",
        "    history = model.fit(training_images_norm, training_labels_categorical,\n",
        "                        epochs=10,\n",
        "                        batch_size=32,\n",
        "                        validation_data=(test_images_norm, test_labels_categorical),\n",
        "                        verbose=2)\n",
        "    end_time = time.time()\n",
        "    histories[name] = history\n",
        "    times[name] = end_time - start_time\n",
        "    print(f\"Tiempo de entrenamiento con inicialización {name}: {times[name]:.2f} segundos\")\n",
        "\n",
        "# Visualización comparativa de precisión en validación\n",
        "plt.figure(figsize=(12, 6))\n",
        "for name in initializers.keys():\n",
        "    plt.plot(histories[name].history['val_accuracy'], label=f'val_accuracy {name}')\n",
        "plt.title('Comparación de precisión en validación según inicialización')\n",
        "plt.xlabel('Épocas')\n",
        "plt.ylabel('Precisión')\n",
        "plt.legend()\n",
        "plt.show()\n"
      ],
      "execution_count": 62,
      "outputs": [
        {
          "output_type": "stream",
          "name": "stdout",
          "text": [
            "\n",
            "Entrenando con inicialización: Zeros\n",
            "Epoch 1/10\n",
            "1875/1875 - 34s - 18ms/step - accuracy: 0.1118 - loss: 2.3016 - val_accuracy: 0.1135 - val_loss: 2.3010\n",
            "Epoch 2/10\n",
            "1875/1875 - 42s - 22ms/step - accuracy: 0.1124 - loss: 2.3014 - val_accuracy: 0.1135 - val_loss: 2.3011\n",
            "Epoch 3/10\n",
            "1875/1875 - 32s - 17ms/step - accuracy: 0.1124 - loss: 2.3014 - val_accuracy: 0.1135 - val_loss: 2.3010\n",
            "Epoch 4/10\n",
            "1875/1875 - 33s - 18ms/step - accuracy: 0.1124 - loss: 2.3013 - val_accuracy: 0.1135 - val_loss: 2.3011\n",
            "Epoch 5/10\n",
            "1875/1875 - 31s - 17ms/step - accuracy: 0.1124 - loss: 2.3013 - val_accuracy: 0.1135 - val_loss: 2.3012\n",
            "Epoch 6/10\n",
            "1875/1875 - 41s - 22ms/step - accuracy: 0.1124 - loss: 2.3014 - val_accuracy: 0.1135 - val_loss: 2.3010\n",
            "Epoch 7/10\n",
            "1875/1875 - 44s - 23ms/step - accuracy: 0.1124 - loss: 2.3014 - val_accuracy: 0.1135 - val_loss: 2.3010\n",
            "Epoch 8/10\n",
            "1875/1875 - 34s - 18ms/step - accuracy: 0.1124 - loss: 2.3013 - val_accuracy: 0.1135 - val_loss: 2.3011\n",
            "Epoch 9/10\n",
            "1875/1875 - 32s - 17ms/step - accuracy: 0.1124 - loss: 2.3014 - val_accuracy: 0.1135 - val_loss: 2.3012\n",
            "Epoch 10/10\n",
            "1875/1875 - 41s - 22ms/step - accuracy: 0.1124 - loss: 2.3013 - val_accuracy: 0.1135 - val_loss: 2.3010\n",
            "Tiempo de entrenamiento con inicialización Zeros: 372.64 segundos\n",
            "\n",
            "Entrenando con inicialización: Random Normal\n",
            "Epoch 1/10\n",
            "1875/1875 - 36s - 19ms/step - accuracy: 0.9381 - loss: 0.2069 - val_accuracy: 0.9638 - val_loss: 0.1203\n",
            "Epoch 2/10\n",
            "1875/1875 - 33s - 18ms/step - accuracy: 0.9712 - loss: 0.0996 - val_accuracy: 0.9760 - val_loss: 0.0846\n",
            "Epoch 3/10\n",
            "1875/1875 - 41s - 22ms/step - accuracy: 0.9777 - loss: 0.0777 - val_accuracy: 0.9713 - val_loss: 0.1034\n",
            "Epoch 4/10\n",
            "1875/1875 - 32s - 17ms/step - accuracy: 0.9816 - loss: 0.0637 - val_accuracy: 0.9738 - val_loss: 0.1040\n",
            "Epoch 5/10\n",
            "1875/1875 - 42s - 23ms/step - accuracy: 0.9862 - loss: 0.0484 - val_accuracy: 0.9806 - val_loss: 0.0871\n",
            "Epoch 6/10\n",
            "1875/1875 - 41s - 22ms/step - accuracy: 0.9870 - loss: 0.0456 - val_accuracy: 0.9748 - val_loss: 0.1003\n",
            "Epoch 7/10\n",
            "1875/1875 - 32s - 17ms/step - accuracy: 0.9892 - loss: 0.0382 - val_accuracy: 0.9791 - val_loss: 0.0858\n",
            "Epoch 8/10\n",
            "1875/1875 - 43s - 23ms/step - accuracy: 0.9896 - loss: 0.0396 - val_accuracy: 0.9820 - val_loss: 0.0737\n",
            "Epoch 9/10\n",
            "1875/1875 - 34s - 18ms/step - accuracy: 0.9914 - loss: 0.0306 - val_accuracy: 0.9807 - val_loss: 0.0946\n",
            "Epoch 10/10\n",
            "1875/1875 - 42s - 22ms/step - accuracy: 0.9916 - loss: 0.0311 - val_accuracy: 0.9821 - val_loss: 0.1099\n",
            "Tiempo de entrenamiento con inicialización Random Normal: 375.92 segundos\n",
            "\n",
            "Entrenando con inicialización: Glorot Uniform (default)\n",
            "Epoch 1/10\n",
            "1875/1875 - 36s - 19ms/step - accuracy: 0.9365 - loss: 0.2120 - val_accuracy: 0.9682 - val_loss: 0.1085\n",
            "Epoch 2/10\n",
            "1875/1875 - 41s - 22ms/step - accuracy: 0.9703 - loss: 0.1033 - val_accuracy: 0.9684 - val_loss: 0.1120\n",
            "Epoch 3/10\n",
            "1875/1875 - 32s - 17ms/step - accuracy: 0.9778 - loss: 0.0766 - val_accuracy: 0.9733 - val_loss: 0.0971\n",
            "Epoch 4/10\n",
            "1875/1875 - 34s - 18ms/step - accuracy: 0.9828 - loss: 0.0619 - val_accuracy: 0.9716 - val_loss: 0.0993\n",
            "Epoch 5/10\n",
            "1875/1875 - 40s - 21ms/step - accuracy: 0.9852 - loss: 0.0511 - val_accuracy: 0.9704 - val_loss: 0.1148\n",
            "Epoch 6/10\n",
            "1875/1875 - 40s - 21ms/step - accuracy: 0.9868 - loss: 0.0474 - val_accuracy: 0.9815 - val_loss: 0.0669\n",
            "Epoch 7/10\n",
            "1875/1875 - 33s - 18ms/step - accuracy: 0.9894 - loss: 0.0379 - val_accuracy: 0.9772 - val_loss: 0.0980\n",
            "Epoch 8/10\n",
            "1875/1875 - 41s - 22ms/step - accuracy: 0.9905 - loss: 0.0344 - val_accuracy: 0.9754 - val_loss: 0.1156\n",
            "Epoch 9/10\n",
            "1875/1875 - 41s - 22ms/step - accuracy: 0.9908 - loss: 0.0336 - val_accuracy: 0.9821 - val_loss: 0.0887\n",
            "Epoch 10/10\n",
            "1875/1875 - 35s - 18ms/step - accuracy: 0.9915 - loss: 0.0323 - val_accuracy: 0.9803 - val_loss: 0.0892\n",
            "Tiempo de entrenamiento con inicialización Glorot Uniform (default): 372.13 segundos\n"
          ]
        },
        {
          "output_type": "display_data",
          "data": {
            "text/plain": [
              "<Figure size 1200x600 with 1 Axes>"
            ],
            "image/png": "[encoded data removed]"
          },
          "metadata": {}
        }
      ]
    },
    {
      "cell_type": "markdown",
      "source": [
        "### **Inicialización con ceros**\n",
        "- **Comportamiento observado:**\n",
        "  \n",
        "  La red prácticamente no aprende nada. La precisión se mantiene cerca del 11% (aproximadamente la probabilidad de adivinar al azar entre 10 clases).\n",
        "\n",
        "- **¿Por qué ocurre esto?**\n",
        "\n",
        "  Si todos los pesos están inicializados a cero, todas las neuronas de una capa reciben los mismos gradientes y por tanto actualizan sus pesos igual. Esto hace que todas las neuronas de una capa sean idénticas durante todo el entrenamiento, lo que anula la capacidad de aprendizaje.\n",
        "\n",
        " **Consecuencia:**\n",
        "\n",
        "  La red no puede diferenciar características ni extraer patrones útiles.\n",
        "\n",
        "### Inicialización con distribución normal (Random Normal)\n",
        "- **Comportamiento observado:**\n",
        "\n",
        "  La red aprende rápidamente, alcanzando alta precisión en pocas épocas (más del 98% en validación). El entrenamiento y validación tienen pérdida y precisión coherentes, sin problemas visibles.\n",
        "\n",
        "- **¿Por qué ocurre esto?**\n",
        "\n",
        "  La inicialización con valores aleatorios pequeños rompe la simetría entre neuronas, permitiendo que cada neurona aprenda características diferentes. Esto facilita la convergencia.\n",
        "\n",
        "### **Inicialización Glorot Uniform**\n",
        "- **Comportamiento observado:**\n",
        "\n",
        "  También consigue un entrenamiento rápido y resultados muy buenos, similares a la inicialización normal, con alta precisión en validación (~98%).\n",
        "\n",
        "- **¿Por qué ocurre esto?**\n",
        "\n",
        "  La inicialización Glorot busca mantener la varianza de las activaciones y gradientes similar entre capas, evitando el problema de gradientes que se vuelven muy pequeños o muy grandes. Esto estabiliza y acelera el entrenamiento.\n",
        "\n",
        "#### **Conclusión**\n",
        "- Inicializar con **ceros** no funciona, porque las neuronas no pueden diferenciarse ni aprender.\n",
        "- Inicializar con valores **aleatorios pequeños** permite romper simetrías y facilita el aprendizaje.\n",
        "- Inicializaciones adaptadas como **Glorot Uniform** son recomendadas para evitar problemas con gradientes y acelerar la convergencia."
      ],
      "metadata": {
        "id": "D71qn5Yg_p_Q"
      }
    },
    {
      "cell_type": "markdown",
      "metadata": {
        "id": "NqIAyVWrTFqV"
      },
      "source": [
        "## 11. Optimizadores"
      ]
    },
    {
      "cell_type": "markdown",
      "metadata": {
        "id": "lcYj29hYTFqW"
      },
      "source": [
        "**Problema 11.1 *(0.75 puntos)***: Partiendo de una red similar a la del ejercicio anterior (utilizando la mejor estrategia de inicialización observada), comparar y analizar las diferencias que se observan  al entrenar con varios de los optimizadores vistos en clase, incluyendo SGD como optimizador básico (se puede explorar el espacio de hiperparámetros de cada optimizador, aunque para optimizadores más avanzados del estilo de RMSprop es buena idea dejar los valores por defecto provistos por Keras)."
      ]
    },
    {
      "cell_type": "code",
      "metadata": {
        "id": "0fWDiqXvTFqW",
        "colab": {
          "base_uri": "https://localhost:8080/",
          "height": 1000
        },
        "outputId": "e81e85fb-78ce-416f-cc8e-fee3472d734a"
      },
      "source": [
        "## Tu código y comentarios de texto aquí\n",
        "## Puedes incluir tantas celdas como quieras\n",
        "## No olvides utilizar celdas de Markdown para texto\n",
        "import tensorflow as tf\n",
        "from tensorflow import keras\n",
        "from tensorflow.keras.layers import Dense, Flatten\n",
        "from tensorflow.keras.initializers import GlorotUniform\n",
        "import time\n",
        "\n",
        "def create_model():\n",
        "    model = keras.Sequential([\n",
        "        Flatten(input_shape=[28, 28]),\n",
        "        Dense(512, activation='relu', kernel_initializer=GlorotUniform()),\n",
        "        Dense(512, activation='relu', kernel_initializer=GlorotUniform()),\n",
        "        Dense(512, activation='relu', kernel_initializer=GlorotUniform()),\n",
        "        Dense(512, activation='relu', kernel_initializer=GlorotUniform()),\n",
        "        Dense(10, activation='softmax', kernel_initializer=GlorotUniform())\n",
        "    ])\n",
        "    return model\n",
        "\n",
        "optimizers = {\n",
        "    'SGD (lr=0.01, momentum=0.0)': keras.optimizers.SGD(learning_rate=0.01, momentum=0.0),\n",
        "    'SGD (lr=0.01, momentum=0.9)': keras.optimizers.SGD(learning_rate=0.01, momentum=0.9),\n",
        "    'RMSprop (default)': keras.optimizers.RMSprop(),\n",
        "    'Adam (default)': keras.optimizers.Adam(),\n",
        "    'Adagrad (default)': keras.optimizers.Adagrad()\n",
        "}\n",
        "\n",
        "histories = {}\n",
        "times = {}\n",
        "\n",
        "for name, opt in optimizers.items():\n",
        "    print(f\"\\nEntrenando con optimizador: {name}\")\n",
        "    model = create_model()\n",
        "    model.compile(optimizer=opt,\n",
        "                  loss='categorical_crossentropy',\n",
        "                  metrics=['accuracy'])\n",
        "\n",
        "    start_time = time.time()\n",
        "    history = model.fit(training_images_norm, training_labels_categorical,\n",
        "                        epochs=10,\n",
        "                        batch_size=32,\n",
        "                        validation_data=(test_images_norm, test_labels_categorical),\n",
        "                        verbose=2)\n",
        "    end_time = time.time()\n",
        "    times[name] = end_time - start_time\n",
        "    histories[name] = history\n",
        "    print(f\"Tiempo de entrenamiento con {name}: {times[name]:.2f} segundos\")\n",
        "\n",
        "plt.figure(figsize=(12, 6))\n",
        "for name in optimizers.keys():\n",
        "    plt.plot(histories[name].history['val_accuracy'], label=f'val_accuracy {name}')\n",
        "plt.title('Comparación de precisión en validación según optimizador')\n",
        "plt.xlabel('Épocas')\n",
        "plt.ylabel('Precisión')\n",
        "plt.legend()\n",
        "plt.show()"
      ],
      "execution_count": 63,
      "outputs": [
        {
          "output_type": "stream",
          "name": "stdout",
          "text": [
            "\n",
            "Entrenando con optimizador: SGD (lr=0.01, momentum=0.0)\n",
            "Epoch 1/10\n",
            "1875/1875 - 22s - 12ms/step - accuracy: 0.8458 - loss: 0.5781 - val_accuracy: 0.9288 - val_loss: 0.2506\n",
            "Epoch 2/10\n",
            "1875/1875 - 22s - 12ms/step - accuracy: 0.9343 - loss: 0.2252 - val_accuracy: 0.9410 - val_loss: 0.1981\n",
            "Epoch 3/10\n",
            "1875/1875 - 42s - 22ms/step - accuracy: 0.9513 - loss: 0.1660 - val_accuracy: 0.9522 - val_loss: 0.1571\n",
            "Epoch 4/10\n",
            "1875/1875 - 40s - 22ms/step - accuracy: 0.9615 - loss: 0.1312 - val_accuracy: 0.9622 - val_loss: 0.1239\n",
            "Epoch 5/10\n",
            "1875/1875 - 21s - 11ms/step - accuracy: 0.9686 - loss: 0.1079 - val_accuracy: 0.9641 - val_loss: 0.1168\n",
            "Epoch 6/10\n",
            "1875/1875 - 42s - 23ms/step - accuracy: 0.9735 - loss: 0.0896 - val_accuracy: 0.9690 - val_loss: 0.1010\n",
            "Epoch 7/10\n",
            "1875/1875 - 22s - 12ms/step - accuracy: 0.9778 - loss: 0.0761 - val_accuracy: 0.9696 - val_loss: 0.0939\n",
            "Epoch 8/10\n",
            "1875/1875 - 23s - 12ms/step - accuracy: 0.9814 - loss: 0.0654 - val_accuracy: 0.9719 - val_loss: 0.0854\n",
            "Epoch 9/10\n",
            "1875/1875 - 22s - 12ms/step - accuracy: 0.9834 - loss: 0.0562 - val_accuracy: 0.9728 - val_loss: 0.0811\n",
            "Epoch 10/10\n",
            "1875/1875 - 41s - 22ms/step - accuracy: 0.9856 - loss: 0.0488 - val_accuracy: 0.9736 - val_loss: 0.0808\n",
            "Tiempo de entrenamiento con SGD (lr=0.01, momentum=0.0): 317.50 segundos\n",
            "\n",
            "Entrenando con optimizador: SGD (lr=0.01, momentum=0.9)\n",
            "Epoch 1/10\n",
            "1875/1875 - 26s - 14ms/step - accuracy: 0.9215 - loss: 0.2574 - val_accuracy: 0.9584 - val_loss: 0.1261\n",
            "Epoch 2/10\n",
            "1875/1875 - 26s - 14ms/step - accuracy: 0.9715 - loss: 0.0932 - val_accuracy: 0.9746 - val_loss: 0.0832\n",
            "Epoch 3/10\n",
            "1875/1875 - 42s - 22ms/step - accuracy: 0.9812 - loss: 0.0615 - val_accuracy: 0.9763 - val_loss: 0.0755\n",
            "Epoch 4/10\n",
            "1875/1875 - 39s - 21ms/step - accuracy: 0.9866 - loss: 0.0424 - val_accuracy: 0.9770 - val_loss: 0.0734\n",
            "Epoch 5/10\n",
            "1875/1875 - 41s - 22ms/step - accuracy: 0.9891 - loss: 0.0334 - val_accuracy: 0.9759 - val_loss: 0.0817\n",
            "Epoch 6/10\n",
            "1875/1875 - 25s - 13ms/step - accuracy: 0.9916 - loss: 0.0245 - val_accuracy: 0.9772 - val_loss: 0.0803\n",
            "Epoch 7/10\n",
            "1875/1875 - 41s - 22ms/step - accuracy: 0.9936 - loss: 0.0191 - val_accuracy: 0.9759 - val_loss: 0.0913\n",
            "Epoch 8/10\n",
            "1875/1875 - 43s - 23ms/step - accuracy: 0.9951 - loss: 0.0151 - val_accuracy: 0.9822 - val_loss: 0.0700\n",
            "Epoch 9/10\n",
            "1875/1875 - 41s - 22ms/step - accuracy: 0.9971 - loss: 0.0095 - val_accuracy: 0.9819 - val_loss: 0.0805\n",
            "Epoch 10/10\n",
            "1875/1875 - 40s - 21ms/step - accuracy: 0.9959 - loss: 0.0121 - val_accuracy: 0.9817 - val_loss: 0.0731\n",
            "Tiempo de entrenamiento con SGD (lr=0.01, momentum=0.9): 364.60 segundos\n",
            "\n",
            "Entrenando con optimizador: RMSprop (default)\n",
            "Epoch 1/10\n",
            "1875/1875 - 32s - 17ms/step - accuracy: 0.9315 - loss: 0.2392 - val_accuracy: 0.9625 - val_loss: 0.1320\n",
            "Epoch 2/10\n",
            "1875/1875 - 40s - 21ms/step - accuracy: 0.9706 - loss: 0.1159 - val_accuracy: 0.9724 - val_loss: 0.1129\n",
            "Epoch 3/10\n",
            "1875/1875 - 43s - 23ms/step - accuracy: 0.9779 - loss: 0.0892 - val_accuracy: 0.9691 - val_loss: 0.1443\n",
            "Epoch 4/10\n",
            "1875/1875 - 40s - 21ms/step - accuracy: 0.9828 - loss: 0.0775 - val_accuracy: 0.9755 - val_loss: 0.1130\n",
            "Epoch 5/10\n",
            "1875/1875 - 42s - 22ms/step - accuracy: 0.9847 - loss: 0.0695 - val_accuracy: 0.9742 - val_loss: 0.1436\n",
            "Epoch 6/10\n",
            "1875/1875 - 40s - 21ms/step - accuracy: 0.9868 - loss: 0.0607 - val_accuracy: 0.9761 - val_loss: 0.1540\n",
            "Epoch 7/10\n",
            "1875/1875 - 40s - 21ms/step - accuracy: 0.9885 - loss: 0.0535 - val_accuracy: 0.9775 - val_loss: 0.1548\n",
            "Epoch 8/10\n",
            "1875/1875 - 41s - 22ms/step - accuracy: 0.9902 - loss: 0.0512 - val_accuracy: 0.9792 - val_loss: 0.1447\n",
            "Epoch 9/10\n",
            "1875/1875 - 42s - 22ms/step - accuracy: 0.9914 - loss: 0.0436 - val_accuracy: 0.9791 - val_loss: 0.1606\n",
            "Epoch 10/10\n",
            "1875/1875 - 40s - 21ms/step - accuracy: 0.9924 - loss: 0.0362 - val_accuracy: 0.9821 - val_loss: 0.1735\n",
            "Tiempo de entrenamiento con RMSprop (default): 400.65 segundos\n",
            "\n",
            "Entrenando con optimizador: Adam (default)\n",
            "Epoch 1/10\n",
            "1875/1875 - 35s - 19ms/step - accuracy: 0.9365 - loss: 0.2128 - val_accuracy: 0.9613 - val_loss: 0.1370\n",
            "Epoch 2/10\n",
            "1875/1875 - 35s - 19ms/step - accuracy: 0.9705 - loss: 0.1034 - val_accuracy: 0.9604 - val_loss: 0.1375\n",
            "Epoch 3/10\n",
            "1875/1875 - 39s - 21ms/step - accuracy: 0.9776 - loss: 0.0777 - val_accuracy: 0.9766 - val_loss: 0.0852\n",
            "Epoch 4/10\n",
            "1875/1875 - 32s - 17ms/step - accuracy: 0.9825 - loss: 0.0611 - val_accuracy: 0.9735 - val_loss: 0.1148\n",
            "Epoch 5/10\n",
            "1875/1875 - 34s - 18ms/step - accuracy: 0.9849 - loss: 0.0495 - val_accuracy: 0.9769 - val_loss: 0.0976\n",
            "Epoch 6/10\n",
            "1875/1875 - 41s - 22ms/step - accuracy: 0.9865 - loss: 0.0461 - val_accuracy: 0.9717 - val_loss: 0.1093\n",
            "Epoch 7/10\n",
            "1875/1875 - 40s - 21ms/step - accuracy: 0.9889 - loss: 0.0390 - val_accuracy: 0.9760 - val_loss: 0.0896\n",
            "Epoch 8/10\n",
            "1875/1875 - 34s - 18ms/step - accuracy: 0.9901 - loss: 0.0363 - val_accuracy: 0.9775 - val_loss: 0.1022\n",
            "Epoch 9/10\n",
            "1875/1875 - 33s - 17ms/step - accuracy: 0.9914 - loss: 0.0305 - val_accuracy: 0.9756 - val_loss: 0.1711\n",
            "Epoch 10/10\n",
            "1875/1875 - 42s - 22ms/step - accuracy: 0.9921 - loss: 0.0287 - val_accuracy: 0.9805 - val_loss: 0.0928\n",
            "Tiempo de entrenamiento con Adam (default): 365.11 segundos\n",
            "\n",
            "Entrenando con optimizador: Adagrad (default)\n",
            "Epoch 1/10\n",
            "1875/1875 - 30s - 16ms/step - accuracy: 0.7169 - loss: 1.1210 - val_accuracy: 0.8811 - val_loss: 0.4460\n",
            "Epoch 2/10\n",
            "1875/1875 - 39s - 21ms/step - accuracy: 0.8950 - loss: 0.3791 - val_accuracy: 0.9126 - val_loss: 0.3145\n",
            "Epoch 3/10\n",
            "1875/1875 - 41s - 22ms/step - accuracy: 0.9144 - loss: 0.3025 - val_accuracy: 0.9218 - val_loss: 0.2721\n",
            "Epoch 4/10\n",
            "1875/1875 - 40s - 22ms/step - accuracy: 0.9245 - loss: 0.2648 - val_accuracy: 0.9308 - val_loss: 0.2428\n",
            "Epoch 5/10\n",
            "1875/1875 - 41s - 22ms/step - accuracy: 0.9313 - loss: 0.2400 - val_accuracy: 0.9339 - val_loss: 0.2257\n",
            "Epoch 6/10\n",
            "1875/1875 - 41s - 22ms/step - accuracy: 0.9372 - loss: 0.2201 - val_accuracy: 0.9402 - val_loss: 0.2082\n",
            "Epoch 7/10\n",
            "1875/1875 - 42s - 22ms/step - accuracy: 0.9414 - loss: 0.2047 - val_accuracy: 0.9437 - val_loss: 0.1949\n",
            "Epoch 8/10\n",
            "1875/1875 - 40s - 21ms/step - accuracy: 0.9454 - loss: 0.1912 - val_accuracy: 0.9451 - val_loss: 0.1835\n",
            "Epoch 9/10\n",
            "1875/1875 - 28s - 15ms/step - accuracy: 0.9486 - loss: 0.1803 - val_accuracy: 0.9482 - val_loss: 0.1758\n",
            "Epoch 10/10\n",
            "1875/1875 - 28s - 15ms/step - accuracy: 0.9514 - loss: 0.1704 - val_accuracy: 0.9497 - val_loss: 0.1675\n",
            "Tiempo de entrenamiento con Adagrad (default): 371.13 segundos\n"
          ]
        },
        {
          "output_type": "display_data",
          "data": {
            "text/plain": [
              "<Figure size 1200x600 with 1 Axes>"
            ],
            "image/png": "[encoded data removed]"
          },
          "metadata": {}
        }
      ]
    },
    {
      "cell_type": "markdown",
      "source": [
        "#### **Análisis comparativo de optimizadores**\n",
        "| Optimizador                | Val Accuracy Final | Val Loss Final | Tiempo aprox. (s) | Observaciones clave                                                        |\n",
        "| -------------------------- | ------------------ | -------------- | ----------------- | -------------------------------------------------------------------------- |\n",
        "| **SGD (lr=0.01, mom=0.0)** | 0.9736             | 0.0808         | \\~317             | Buen desempeño, pero más lento en alcanzar alta precisión.                 |\n",
        "| **SGD (lr=0.01, mom=0.9)** | 0.9817             | 0.0731         | \\~365             | Mejora notable en precisión gracias al momentum. Muy estable.              |\n",
        "| **RMSprop (default)**      | 0.9821             | 0.1735         | \\~400             | Alta precisión pero con overfitting evidente (val\\_loss alto).                |\n",
        "| **Adam (default)**         | 0.9805             | 0.0928         | \\~365             | Excelente precisión, rápido, pero con algo de inestabilidad en `val_loss`. |\n",
        "| **Adagrad (default)**      | 0.9497             | 0.1675         | \\~371             | Lento y menos preciso. Su tasa de aprendizaje decreciente lo limita.       |\n",
        "\n",
        "### **Análisis de diferencias observadas**\n",
        "#### **Velocidad de convergencia**\n",
        "- **Adam** y **RMSprop** aprendieron más rápido desde la primera época.\n",
        "- **SGD sin momentum** fue el más lento inicialmente, pero alcanzó buena precisión tras varias épocas.\n",
        "- **SGD con momentum** aceleró el proceso de aprendizaje y superó al SGD.\n",
        "- **Adagrad** fue el más lento de todos en mejorar la precisión.\n",
        "\n",
        "#### **Precisión final**\n",
        "- El mejor resultado lo obtuvo **SGD con momentum (98.22%)**, superando levemente a Adam y RMSprop.\n",
        "\n",
        "#### **Tiempo de entrenamiento**\n",
        "- Todos los optimizadores tuvieron tiempos similares (~5–7 minutos).\n",
        "- **RMSprop** fue el más lento en tu experimento (401 s)."
      ],
      "metadata": {
        "id": "ScEhfFypLAZo"
      }
    },
    {
      "cell_type": "markdown",
      "metadata": {
        "id": "BkfTFoJOTFqZ"
      },
      "source": [
        "## 12. Regularización y red final *(1.25 puntos)*"
      ]
    },
    {
      "cell_type": "markdown",
      "metadata": {
        "id": "f6CQhK7ZTFqZ"
      },
      "source": [
        "**Problema 12.1 *(2 puntos)***: Entrenar una red final que sea capaz de obtener una accuracy en el validation superior al 95%. Para ello, combinar todo lo aprendido anteriormente y utilizar técnicas de regularización para evitar overfitting. Algunos de los elementos que pueden tenerse en cuenta son los siguientes.\n",
        "\n",
        "* Número de capas y neuronas por capa\n",
        "* Optimizadores y sus parámetros\n",
        "* Batch size\n",
        "* Unidades de activación\n",
        "* Uso de capas dropout, regularización L2, regularización L1...\n",
        "* Early stopping (se puede aplicar como un callback de Keras, o se puede ver un poco \"a ojo\" cuándo el modelo empieza a caer en overfitting y seleccionar el número de epochs necesarias)\n",
        "* Batch normalization\n",
        "\n",
        "Si los modelos entrenados anteriormente ya se acercaban al valor requerido de accuracy, probar distintas estrategias igualmente y comentar los resultados.\n",
        "\n",
        "Explicar brevemente la estrategia seguida y los modelos probados para obtener el modelo final, que debe verse entrenado en este Notebook. No es necesario guardar el entrenamiento de todos los modelos que se han probado, es suficiente con explicar cómo se ha llegado al modelo final."
      ]
    },
    {
      "cell_type": "code",
      "metadata": {
        "id": "AUJ5AtunTFqa",
        "colab": {
          "base_uri": "https://localhost:8080/"
        },
        "outputId": "623bb366-ada7-4417-a3fa-1e2c6ad46b9c"
      },
      "source": [
        "## Tu modelo y comentarios de texto aquí\n",
        "## Puedes incluir tantas celdas como quieras\n",
        "## pero recuerda visualizar la gráfica con la tasa de acierto\n",
        "## así como utilizar la función predict() para tu última evaluación\n",
        "## (deberás consultar la documentación de Keras para entender la función)\n",
        "## No olvides utilizar celdas de Markdown para texto\n",
        "import tensorflow as tf\n",
        "from tensorflow import keras\n",
        "from tensorflow.keras.layers import Dense, Flatten, Dropout, BatchNormalization\n",
        "from tensorflow.keras.regularizers import l2\n",
        "from tensorflow.keras.callbacks import EarlyStopping\n",
        "\n",
        "# Crear el modelo\n",
        "model_final = keras.Sequential([\n",
        "    Flatten(input_shape=[28, 28]),\n",
        "\n",
        "    Dense(512, activation='relu', kernel_initializer='glorot_uniform', kernel_regularizer=l2(1e-4)),\n",
        "    BatchNormalization(),\n",
        "    Dropout(0.3),\n",
        "\n",
        "    Dense(256, activation='relu', kernel_initializer='glorot_uniform', kernel_regularizer=l2(1e-4)),\n",
        "    BatchNormalization(),\n",
        "    Dropout(0.3),\n",
        "\n",
        "    Dense(128, activation='relu', kernel_initializer='glorot_uniform', kernel_regularizer=l2(1e-4)),\n",
        "    BatchNormalization(),\n",
        "    Dropout(0.2),\n",
        "\n",
        "    Dense(64, activation='relu', kernel_initializer='glorot_uniform', kernel_regularizer=l2(1e-4)),\n",
        "    BatchNormalization(),\n",
        "\n",
        "    Dense(10, activation='softmax')\n",
        "])\n",
        "\n",
        "model_final.compile(\n",
        "    optimizer=keras.optimizers.Adam(),\n",
        "    loss='categorical_crossentropy',\n",
        "    metrics=['accuracy']\n",
        ")\n",
        "\n",
        "early_stopping = EarlyStopping(\n",
        "    monitor='val_loss',\n",
        "    patience=5,\n",
        "    restore_best_weights=True\n",
        ")\n",
        "\n",
        "history_final = model_final.fit(\n",
        "    training_images_norm, training_labels_categorical,\n",
        "    epochs=50,\n",
        "    batch_size=64,\n",
        "    validation_data=(test_images_norm, test_labels_categorical),\n",
        "    callbacks=[early_stopping],\n",
        "    verbose=2\n",
        ")\n",
        "\n",
        "val_acc = history_final.history['val_accuracy'][-1]\n",
        "print(f\"\\nAccuracy final en validación: {val_acc*100:.2f}%\")\n"
      ],
      "execution_count": 64,
      "outputs": [
        {
          "output_type": "stream",
          "name": "stdout",
          "text": [
            "Epoch 1/50\n",
            "938/938 - 21s - 22ms/step - accuracy: 0.9042 - loss: 0.4264 - val_accuracy: 0.9615 - val_loss: 0.2308\n",
            "Epoch 2/50\n",
            "938/938 - 19s - 20ms/step - accuracy: 0.9501 - loss: 0.2741 - val_accuracy: 0.9697 - val_loss: 0.2060\n",
            "Epoch 3/50\n",
            "938/938 - 15s - 16ms/step - accuracy: 0.9578 - loss: 0.2473 - val_accuracy: 0.9708 - val_loss: 0.2031\n",
            "Epoch 4/50\n",
            "938/938 - 20s - 21ms/step - accuracy: 0.9628 - loss: 0.2330 - val_accuracy: 0.9760 - val_loss: 0.1905\n",
            "Epoch 5/50\n",
            "938/938 - 20s - 22ms/step - accuracy: 0.9645 - loss: 0.2255 - val_accuracy: 0.9746 - val_loss: 0.1905\n",
            "Epoch 6/50\n",
            "938/938 - 21s - 23ms/step - accuracy: 0.9679 - loss: 0.2191 - val_accuracy: 0.9782 - val_loss: 0.1783\n",
            "Epoch 7/50\n",
            "938/938 - 20s - 21ms/step - accuracy: 0.9700 - loss: 0.2082 - val_accuracy: 0.9759 - val_loss: 0.1892\n",
            "Epoch 8/50\n",
            "938/938 - 21s - 23ms/step - accuracy: 0.9685 - loss: 0.2102 - val_accuracy: 0.9791 - val_loss: 0.1778\n",
            "Epoch 9/50\n",
            "938/938 - 20s - 22ms/step - accuracy: 0.9709 - loss: 0.2016 - val_accuracy: 0.9787 - val_loss: 0.1776\n",
            "Epoch 10/50\n",
            "938/938 - 20s - 21ms/step - accuracy: 0.9703 - loss: 0.2026 - val_accuracy: 0.9815 - val_loss: 0.1715\n",
            "Epoch 11/50\n",
            "938/938 - 20s - 22ms/step - accuracy: 0.9715 - loss: 0.1972 - val_accuracy: 0.9777 - val_loss: 0.1753\n",
            "Epoch 12/50\n",
            "938/938 - 20s - 21ms/step - accuracy: 0.9723 - loss: 0.1950 - val_accuracy: 0.9803 - val_loss: 0.1666\n",
            "Epoch 13/50\n",
            "938/938 - 21s - 23ms/step - accuracy: 0.9721 - loss: 0.1941 - val_accuracy: 0.9811 - val_loss: 0.1672\n",
            "Epoch 14/50\n",
            "938/938 - 21s - 22ms/step - accuracy: 0.9733 - loss: 0.1882 - val_accuracy: 0.9805 - val_loss: 0.1631\n",
            "Epoch 15/50\n",
            "938/938 - 20s - 22ms/step - accuracy: 0.9724 - loss: 0.1915 - val_accuracy: 0.9797 - val_loss: 0.1665\n",
            "Epoch 16/50\n",
            "938/938 - 20s - 22ms/step - accuracy: 0.9726 - loss: 0.1894 - val_accuracy: 0.9778 - val_loss: 0.1736\n",
            "Epoch 17/50\n",
            "938/938 - 15s - 16ms/step - accuracy: 0.9730 - loss: 0.1873 - val_accuracy: 0.9770 - val_loss: 0.1759\n",
            "Epoch 18/50\n",
            "938/938 - 21s - 22ms/step - accuracy: 0.9747 - loss: 0.1840 - val_accuracy: 0.9780 - val_loss: 0.1745\n",
            "Epoch 19/50\n",
            "938/938 - 20s - 22ms/step - accuracy: 0.9750 - loss: 0.1827 - val_accuracy: 0.9832 - val_loss: 0.1535\n",
            "Epoch 20/50\n",
            "938/938 - 20s - 22ms/step - accuracy: 0.9740 - loss: 0.1813 - val_accuracy: 0.9809 - val_loss: 0.1628\n",
            "Epoch 21/50\n",
            "938/938 - 15s - 16ms/step - accuracy: 0.9743 - loss: 0.1809 - val_accuracy: 0.9819 - val_loss: 0.1569\n",
            "Epoch 22/50\n",
            "938/938 - 20s - 21ms/step - accuracy: 0.9738 - loss: 0.1801 - val_accuracy: 0.9797 - val_loss: 0.1624\n",
            "Epoch 23/50\n",
            "938/938 - 21s - 22ms/step - accuracy: 0.9760 - loss: 0.1761 - val_accuracy: 0.9789 - val_loss: 0.1607\n",
            "Epoch 24/50\n",
            "938/938 - 21s - 22ms/step - accuracy: 0.9735 - loss: 0.1801 - val_accuracy: 0.9805 - val_loss: 0.1627\n",
            "\n",
            "Accuracy final en validación: 98.05%\n"
          ]
        }
      ]
    },
    {
      "cell_type": "code",
      "source": [
        "plt.figure(figsize=(12, 5))\n",
        "plt.plot(history_final.history['accuracy'], label='Train Acc')\n",
        "plt.plot(history_final.history['val_accuracy'], label='Val Acc')\n",
        "plt.title('Precisión en entrenamiento y validación')\n",
        "plt.xlabel('Época')\n",
        "plt.ylabel('Precisión')\n",
        "plt.legend()\n",
        "plt.grid(True)\n",
        "plt.show()"
      ],
      "metadata": {
        "colab": {
          "base_uri": "https://localhost:8080/",
          "height": 490
        },
        "id": "yVzojbJ7XzyG",
        "outputId": "9c124cb4-e0ad-4edb-b6db-2ddbab8fdfe1"
      },
      "execution_count": 65,
      "outputs": [
        {
          "output_type": "display_data",
          "data": {
            "text/plain": [
              "<Figure size 1200x500 with 1 Axes>"
            ],
            "image/png": "[encoded data removed]"
          },
          "metadata": {}
        }
      ]
    },
    {
      "cell_type": "code",
      "source": [
        "from sklearn.metrics import confusion_matrix, ConfusionMatrixDisplay\n",
        "\n",
        "preds = model_final.predict(test_images_norm)\n",
        "y_pred = np.argmax(preds, axis=1)\n",
        "y_true = np.argmax(test_labels_categorical, axis=1)\n",
        "\n",
        "cm = confusion_matrix(y_true, y_pred)\n",
        "disp = ConfusionMatrixDisplay(confusion_matrix=cm)\n",
        "disp.plot(cmap='Blues')\n",
        "plt.title(\"Matriz de confusión en conjunto de validación\")\n",
        "plt.show()"
      ],
      "metadata": {
        "colab": {
          "base_uri": "https://localhost:8080/",
          "height": 489
        },
        "id": "uKOyllJNYAY4",
        "outputId": "43dac7db-17ae-4143-d1d9-a81e599a8296"
      },
      "execution_count": 67,
      "outputs": [
        {
          "output_type": "stream",
          "name": "stdout",
          "text": [
            "\u001b[1m313/313\u001b[0m \u001b[32m━━━━━━━━━━━━━━━━━━━━\u001b[0m\u001b[37m\u001b[0m \u001b[1m2s\u001b[0m 5ms/step\n"
          ]
        },
        {
          "output_type": "display_data",
          "data": {
            "text/plain": [
              "<Figure size 640x480 with 2 Axes>"
            ],
            "image/png": "[encoded data removed]"
          },
          "metadata": {}
        }
      ]
    },
    {
      "cell_type": "code",
      "source": [
        "from sklearn.metrics import classification_report\n",
        "\n",
        "print(classification_report(y_true, y_pred))\n"
      ],
      "metadata": {
        "colab": {
          "base_uri": "https://localhost:8080/"
        },
        "id": "gjPiIBPJYGmu",
        "outputId": "a712c511-5f05-4fd6-8940-f87d007e874f"
      },
      "execution_count": 68,
      "outputs": [
        {
          "output_type": "stream",
          "name": "stdout",
          "text": [
            "              precision    recall  f1-score   support\n",
            "\n",
            "           0       0.98      0.99      0.98       980\n",
            "           1       0.99      1.00      0.99      1135\n",
            "           2       0.99      0.98      0.98      1032\n",
            "           3       0.99      0.98      0.98      1010\n",
            "           4       0.98      0.98      0.98       982\n",
            "           5       0.98      0.98      0.98       892\n",
            "           6       0.98      0.99      0.98       958\n",
            "           7       0.97      0.99      0.98      1028\n",
            "           8       0.99      0.98      0.98       974\n",
            "           9       0.97      0.98      0.98      1009\n",
            "\n",
            "    accuracy                           0.98     10000\n",
            "   macro avg       0.98      0.98      0.98     10000\n",
            "weighted avg       0.98      0.98      0.98     10000\n",
            "\n"
          ]
        }
      ]
    },
    {
      "cell_type": "markdown",
      "source": [
        "### **Estrategia seguida**\n",
        "Para diseñar una red robusta con alta precisión en validación (>95%), se consideraron las siguientes decisiones basadas en los puntos anteriores:\n",
        "\n",
        "#### **Elementos incorporados:**\n",
        "- **Arquitectura:**\n",
        "  - 3 capas ocultas densas con 512, 256 y 128 neuronas.\n",
        "  - Función de activación: `ReLU` (buen rendimiento y menor tiempo en comparación con las previamente estudiadas).\n",
        "- **Inicialización:**\n",
        "  - Se mantuvo la estrategia **GlorotUniform**, que ya dio buenos resultados antes.\n",
        "- **Regularización:**\n",
        "  - **Dropout:** 0.3–0.4 para prevenir overfitting.\n",
        "  - **Regularización L2** en capas densas para penalizar pesos altos.\n",
        "- **Batch Normalization:**\n",
        "  - Añadido después de cada capa oculta para estabilizar y acelerar el entrenamiento.\n",
        "- **Optimizador:**\n",
        "  - **Adam**, con su tasa de aprendizaje adaptativa. En experimentos anteriores ofreció buen balance entre rapidez y precisión.\n",
        "- **Batch size:**\n",
        "  - 64 (más pequeño que 128, lo cual puede mejorar generalización).\n",
        "- **Early Stopping:**\n",
        "  - Detiene el entrenamiento si `val_loss` no mejora tras 3 épocas consecutivas (callback de Keras).\n",
        "\n",
        "### **Resultados**\n",
        "- El modelo final alcanza un **accuracy en validación del 98%**, superando holgadamente el umbral del 95% requerido.\n",
        "- Las métricas de precisión, recall y f1-score por clase se mantienen consistentemente en 0.98 o más para todas las categorías.\n",
        "- Las curvas de entrenamiento y validación muestran un comportamiento estable, sin síntomas evidentes de overfitting.\n"
      ],
      "metadata": {
        "id": "EfkIfii2SKwd"
      }
    },
    {
      "cell_type": "code",
      "source": [],
      "metadata": {
        "id": "mDis9hKVabvw"
      },
      "execution_count": null,
      "outputs": []
    }
  ]
}